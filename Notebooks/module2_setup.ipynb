{
 "cells": [
  {
   "cell_type": "code",
   "execution_count": null,
   "metadata": {},
   "outputs": [],
   "source": [
    "!ssh admin@cluster1 'storage aggregate create -aggregate aggrl_clusterl_01_data -node cluster1-01 -diskcount 5'\n",
    "!ssh admin@cluster1 'storage aggregate create -aggregate aggrl_clusterl_02_data -node cluster1-02 -diskcount 5'\n",
    "!ssh admin@cluster1 'vserver create -vserver nas_svm -aggregate aggrl_clusterl_01_data'\n",
    "!ssh admin@cluster1 'volume create -volume Vol1 -aggregate aggrl_clusterl_01_data -vserver nas_svm -size 1GB'"
   ]
  },
  {
   "cell_type": "markdown",
   "metadata": {},
   "source": [
    "[Return to the Module 2 Notebook:](module2.ipynb)\n"
   ]
  }
 ],
 "metadata": {
  "kernelspec": {
   "display_name": "Python 3",
   "language": "python",
   "name": "python3"
  },
  "language_info": {
   "codemirror_mode": {
    "name": "ipython",
    "version": 3
   },
   "file_extension": ".py",
   "mimetype": "text/x-python",
   "name": "python",
   "nbconvert_exporter": "python",
   "pygments_lexer": "ipython3",
   "version": "3.6.8"
  }
 },
 "nbformat": 4,
 "nbformat_minor": 2
}
