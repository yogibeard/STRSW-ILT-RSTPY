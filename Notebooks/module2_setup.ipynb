{
 "cells": [
  {
   "cell_type": "code",
   "execution_count": null,
   "metadata": {},
   "outputs": [],
   "source": [
    "!ssh admin@cluster1 'storage aggregate create -aggregate aggrl_clusterl_01_data -node cluster1-01 -diskcount 5'\n",
    "!ssh admin@cluster1 'storage aggregate create -aggregate aggrl_clusterl_02_data -node cluster1-02 -diskcount 5'\n",
    "!ssh admin@cluster1 'vserver create -vserver nas_svm -aggregate aggrl_clusterl_01_data'\n",
    "!ssh admin@cluster1 'volume create -volume Vol1 -aggregate aggrl_clusterl_01_data -vserver nas_svm -size 1GB'"
   ]
  },
  {
   "cell_type": "markdown",
   "metadata": {},
   "source": [
    "[Return to the Module 2 Notebook:](module2.ipynb)\n"
   ]
  }
 ],
 "metadata": {
  "kernelspec": {
   "display_name": "Python 3",
   "language": "python",
   "name": "python3"
  },
  "language_info": {
   "name": "python",
   "version": "3.12.4"
  }
 },
 "nbformat": 4,
 "nbformat_minor": 2
}
