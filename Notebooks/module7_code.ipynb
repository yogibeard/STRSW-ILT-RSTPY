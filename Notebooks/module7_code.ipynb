{
 "cells": [
  {
   "cell_type": "code",
   "execution_count": null,
   "metadata": {},
   "outputs": [],
   "source": [
    "#! /usr/local/bin/python3.11\n",
    "\n",
    "\"\"\"\n",
    "ONTAP 9.13.1 REST API Python Client Library Scripts\n",
    "Author: Vish Hulikal\n",
    "This script performs the following:\n",
    "        - Monitors Volume Metrics\n",
    "\n",
    "usage: python3.11 elu.py [-h] -c CLUSTER -v VOLUME_NAME -vs VSERVER_NAME [-u API_USER] [-p API_PASS]\n",
    "The following arguments are required: -c/--cluster, -v/--volume_name, -vs/--vserver_name,\n",
    "\"\"\"\n",
    "\n"
   ]
  },
  {
   "cell_type": "code",
   "execution_count": null,
   "metadata": {},
   "outputs": [],
   "source": [
    "import sys\n",
    "\n",
    "# Prompt the user to enter command line arguments\n",
    "args = input(\"Please enter command line arguments: \")\n",
    "\n",
    "# Split the entered string into a list of arguments\n",
    "args = args.split()\n",
    "\n",
    "# Assign the list of arguments to sys.argv\n",
    "sys.argv = ['ipykernel_launcher.py'] + args"
   ]
  },
  {
   "cell_type": "code",
   "execution_count": null,
   "metadata": {},
   "outputs": [],
   "source": [
    "import argparse\n",
    "from getpass import getpass\n",
    "import logging\n",
    "\n",
    "from netapp_ontap import config, HostConnection, NetAppRestError\n",
    "from netapp_ontap.resources import Volume, VolumeMetrics\n",
    "\n"
   ]
  },
  {
   "cell_type": "code",
   "execution_count": null,
   "metadata": {},
   "outputs": [],
   "source": [
    "def list_volumes(vserver_name: str) -> None:\n",
    "    \"\"\"List Volumes\"\"\"\n",
    "    for volume in Volume.get_collection():\n",
    "        one_hour_throughput_total = []\n",
    "        for metrics in VolumeMetrics.get_collection(volume.uuid, fields=\"throughput.total\", interval=\"1h\"):\n",
    "            one_hour_throughput_total.append(metrics.throughput.total)\n",
    "        print(f\"Throughput over the last hour for volume {volume.name} was {sum(one_hour_throughput_total)}\")\n",
    "    return\n",
    "\n"
   ]
  },
  {
   "cell_type": "code",
   "execution_count": null,
   "metadata": {},
   "outputs": [],
   "source": [
    "def parse_args() -> argparse.Namespace:\n",
    "    \"\"\"Parse the command line arguments from the user\"\"\"\n",
    "\n",
    "    parser = argparse.ArgumentParser(\n",
    "        description=\"This script will create a new volume.\"\n",
    "    )\n",
    "    parser.add_argument(\n",
    "        \"-c\", \"--cluster\", required=True, help=\"API server IP:port details\"\n",
    "    )\n",
    "    parser.add_argument(\n",
    "        \"-v\", \"--volume_name\", required=True, help=\"Volume to create or clone from\"\n",
    "    )\n",
    "    parser.add_argument(\n",
    "        \"-vs\", \"--vserver_name\", required=True, help=\"SVM to create the volume from\"\n",
    "    )\n",
    "    parser.add_argument(\"-u\", \"--api_user\", default=\"admin\", help=\"API Username\")\n",
    "    parser.add_argument(\"-p\", \"--api_pass\", help=\"API Password\")\n",
    "    parsed_args = parser.parse_args()\n",
    "\n",
    "    # collect the password without echo if not already provided\n",
    "    if not parsed_args.api_pass:\n",
    "        parsed_args.api_pass = getpass()\n",
    "\n",
    "    return parsed_args\n",
    "\n"
   ]
  },
  {
   "cell_type": "code",
   "execution_count": null,
   "metadata": {},
   "outputs": [],
   "source": [
    "if __name__ == \"__main__\":\n",
    "    logging.basicConfig(\n",
    "        level=logging.INFO,\n",
    "        format=\"[%(asctime)s] [%(levelname)5s] [%(module)s:%(lineno)s] %(message)s\",\n",
    "    )\n",
    "    args = parse_args()\n",
    "    config.CONNECTION = HostConnection(\n",
    "        args.cluster, username=args.api_user, password=args.api_pass, verify=False,\n",
    "    )\n",
    "\n",
    "    # List all volumes\n",
    "    list_volumes(args.volume_name)\n"
   ]
  }
 ],
 "metadata": {
  "language_info": {
   "name": "python"
  }
 },
 "nbformat": 4,
 "nbformat_minor": 2
}
