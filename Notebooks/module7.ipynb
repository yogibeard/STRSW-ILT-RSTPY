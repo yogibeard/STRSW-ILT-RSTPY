{
 "cells": [
  {
   "cell_type": "markdown",
   "metadata": {},
   "source": [
    "[Back to Module 6](module6.ipynb)"
   ]
  },
  {
   "cell_type": "markdown",
   "metadata": {},
   "source": [
    "# Module 7: Performance Monitoring"
   ]
  },
  {
   "cell_type": "markdown",
   "metadata": {},
   "source": [
    "## Excercise 1: Writing a Python Program to Retrieve Performance Metrics\n",
    "\n",
    "In this exercise, you write a Python program by using the Python client library (PCL) and NetApp ONTAP REST APIs to demonstrate retrieving performance metrics."
   ]
  },
  {
   "cell_type": "markdown",
   "metadata": {},
   "source": [
    "### Objectives\n",
    "\n",
    "This exercise focuses on enabling you to do the following:\n",
    "\n",
    "- Write a Python program to retrieve the volume metrics by using ONTAP REST APIs using the Ontap Python Client Library\n"
   ]
  },
  {
   "cell_type": "markdown",
   "metadata": {},
   "source": [
    "### Task 1: Examine the documentation for the Python Client Library and REST API for Volume Metrics  \n",
    "**Step 1:**\n",
    "  \n",
    "Review the documentation for `Python Client Library` Ontap resources:\n",
    "\n",
    "[Module **netapp_ontap.resources**](https://library.netapp.com/ecmdocs/ECMLP2885777/html/resources/index.html)\n",
    "\n",
    "and specifically:\n",
    "\n",
    "[Module **netapp_ontap.resources.volume_metrics**](https://library.netapp.com/ecmdocs/ECMLP3319064/html/resources/volume_metrics.html)  \n",
    "\n",
    "The documentation provides example code on how to collect Performance numbers, such as IOPS, latency and throughput.\n",
    "This documentation is generated based on ONTAP REST API documentation.\n",
    "\n",
    "\n",
    "**Step 2:**\n",
    "\n",
    "Review the documentation for `ONTAP REST API`\n",
    "\n",
    "We can open the `ONTAP REST API` online document by going to the following URL:\n",
    "\n",
    "[https://192.168.0.101/docs/api](https://192.168.0.101/docs/api)\n",
    "\n",
    "On the VS Code dialog box, Click `Open` to open the external website in a browser. If you get a warning about an untrusted site, Click on advanced and Proceed to the website.\n",
    "\n",
    "You will need to login to the documentation page, use `admin` with a password `Netapp1!`                  \n",
    "\n",
    "In the browser, you can search in the page (`CTRL+F`) for `​/storage​/volumes​/{volume.uuid}​/metrics`.  \n",
    "\n",
    "Reveiw the [**GET** ​/storage​/volumes​/{volume.uuid}​/metrics](https://192.168.0.101/docs/api/#/storage/volume_metrics_collection_get)\n",
    "\n",
    "\n",
    "```JSON\n",
    "‘throughput’: {\n",
    "‘other’: 0,\n",
    "‘read’: ‘200’,\n",
    "‘total’: ‘1000’,\n",
    "‘write’: ‘100’\n",
    "}\n",
    "``` \n",
    "\n",
    "Write the  get_volume_metrics() function.\n"
   ]
  },
  {
   "cell_type": "markdown",
   "metadata": {},
   "source": [
    "### Task 2 Write Python code by calling VolumeMetrics\n",
    "\n",
    "Write a Python program `volume_metrics.py` that uses PCL to do the following:\n",
    "  - Pulls Throughput Metrics and sums them over a period.\n",
    "  \n",
    "The main() function calls the following functions:\n",
    "  - parse_args()\n",
    "  - list_volumes()\n",
    "  \n",
    "The program should have the following sections:\n",
    "  - An Header Comment:\n",
    "      \n",
    "      This section usually includes details such as the file name, author, date, purpose of the program, and any other relevant information. \n",
    "      \n",
    "      It\"s a good practice to include such comments for better readability and maintainability of the code\n",
    "\n",
    "  - An Import Section:\n",
    "      This contains the list of libraries/modules that need to be called in the program\n",
    "  - The Function definitions\n",
    "  - The Command Line Arguments Parsing Section\n",
    "  - The Main Section  \n",
    "\n",
    "You can start from scratch and create a python script called [volume_metrics.py](../volume_metrics.py)  \n",
    "To get help with the structure of the script, you can review [protocol.py](../protocol.py)\n",
    "\n",
    "**OR**  \n",
    "\n",
    "Follow the guided Jupyter Notebook example [module6_code.ipynb](module6_code.ipynb).\n",
    "\n",
    "If prompted to select the kernel, select `.venv(Python3.6.8)`\n",
    "\n"
   ]
  }
 ],
 "metadata": {
  "language_info": {
   "name": "python"
  }
 },
 "nbformat": 4,
 "nbformat_minor": 2
}
