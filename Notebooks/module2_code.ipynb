{
 "cells": [
  {
   "cell_type": "markdown",
   "metadata": {},
   "source": [
    "#### The Header Comment Section\n",
    "\n",
    "This section usually includes details such as \n",
    "- the file name, \n",
    "- author, \n",
    "- date, \n",
    "- purpose of the program, and any other relevant information. \n",
    "\n",
    "It’s a good practice to include such comments for better readability and maintainability of the code "
   ]
  },
  {
   "cell_type": "code",
   "execution_count": null,
   "metadata": {},
   "outputs": [],
   "source": [
    "#! /usr/local/bin/python3\n",
    "\n",
    "\"\"\"\n",
    "ONTAP 9.13.1 REST API Python Client Library Scripts\n",
    "Author: Vish Hulikal\n",
    "This script performs the following:\n",
    "        - Create a qtree (or quota tree)\n",
    "        - Create a quota policy rule\n",
    "\n",
    "usage: python3.11 qtree.py [-h] -c cluster -v VOLUME_NAME -vs VSERVER_NAME -q QTREE_NAME\n",
    "       -sh SPACE_HARD -fh FILE_HARD [-u API_USER] [-p API_PASS]\n",
    "The following arguments are required: -v/--volume_name, -vs/--vserver_name,\n",
    "          -q/--qtree_name, -sh/--space_hard, -fh/--file_hard\n",
    "\"\"\"\n"
   ]
  },
  {
   "cell_type": "markdown",
   "metadata": {},
   "source": [
    "#### The Input Section:\n",
    "\n",
    "Since we are using a Jupyter Notebook to run the code and not running the code from the command line, we need this section to simulate entering the arguments from the command line.\n",
    "\n",
    "When you run the notebook, for example by clicking on the `Run All` button, a dialog prompt will appear on the top of the window. You will then need to enter the command line arguments as described in the usage section above."
   ]
  },
  {
   "cell_type": "code",
   "execution_count": null,
   "metadata": {},
   "outputs": [],
   "source": [
    "import sys\n",
    "\n",
    "# Prompt the user to enter command line arguments\n",
    "args = input(\"Please enter command line arguments: \")\n",
    "\n",
    "# Split the entered string into a list of arguments\n",
    "args = args.split()\n",
    "\n",
    "# Assign the list of arguments to sys.argv\n",
    "sys.argv = ['ipykernel_launcher.py'] + args"
   ]
  },
  {
   "cell_type": "markdown",
   "metadata": {},
   "source": [
    "#### Import Section\n",
    "\n",
    "Here we will import the following modules:\n",
    "  - [`argparse`](https://pypi.org/project/argparse/) : This is a popular python module. The argparse module makes it easy to write user friendly command line interfaces. \n",
    "  The program defines what arguments it requires, and argparse will figure out how to parse those out of sys.argv. The argparse module also automatically generates help and usage messages and issues errors when users give the program invalid arguments.\n",
    "  - [`getpass`](https://docs.python.org/3/library/getpass.html) : Used to Prompt the user for a password without echoing\n",
    "  - [`logging`](https://pypi.org/project/logging/) : This module is intended to provide a standard error logging mechanism in Python as per PEP 282.\n",
    "  - [`netapp_ontap.config`](https://library.netapp.com/ecmdocs/ECMLP3319064/html/config.html) : This module contains the global configuration options and related functions for the library.\n",
    "  - [`netapp_ontap.host_connection`](https://library.netapp.com/ecmdocs/ECMLP3319064/html/host_connection.html) : This module defines a host connection object which is used to communicate with the API host\n",
    "  - [`netapp_ontap.resources.qtree`](https://library.netapp.com/ecmdocs/ECMLP2858435/html/resources/qtree.html) : A qtree is a logically defined file system that can exist as a special subdirectory of the root directory within a FlexVol or a FlexGroup volume\n",
    "  - [`netapp_ontap.resources.quota_rule`](https://library.netapp.com/ecmdocs/ECMLP2858435/html/resources/quota_rule.html) : Quotas are defined in quota rules specific to FlexVol volumes or FlexGroup volumes. Each quota rule has a type"
   ]
  },
  {
   "cell_type": "code",
   "execution_count": 1,
   "metadata": {},
   "outputs": [],
   "source": [
    "\n",
    "import argparse\n",
    "from getpass import getpass\n",
    "import logging\n",
    "\n",
    "from netapp_ontap import config, HostConnection, NetAppRestError\n",
    "from netapp_ontap.resources import Qtree, QuotaRule\n"
   ]
  },
  {
   "cell_type": "markdown",
   "metadata": {},
   "source": [
    "#### Function Definitions\n",
    "\n",
    "There are 2 functions defined:\n",
    "  - `create_qtree`\n",
    "  - `create_policy_rule`"
   ]
  },
  {
   "cell_type": "code",
   "execution_count": null,
   "metadata": {},
   "outputs": [],
   "source": [
    "\n",
    "def create_qtree(volume_name: str, vserver_name: str, qtree_name: str) -> None:\n",
    "    \"\"\"Creates a new quota tree in a volume\"\"\"\n",
    "\n",
    "    data = {\n",
    "        'name': qtree_name,\n",
    "        'volume': {'name': volume_name},\n",
    "        'svm': {'name': vserver_name},\n",
    "        'security_style': 'unix',\n",
    "        'unix_permissions': 744,\n",
    "        'export_policy_name': 'default',\n",
    "#        'qos_policy': {'max_throughput_ops': 1000}\n",
    "    }\n",
    "    qtree = Qtree(**data)\n",
    "    try:\n",
    "        qtree.post()\n",
    "        print(\"Qtree %s created successfully\" % qtree.name)\n",
    "    except NetAppRestError as err:\n",
    "        print(\"Error: QTree was not created: %s\" % err)\n",
    "    return\n",
    "\n"
   ]
  },
  {
   "cell_type": "code",
   "execution_count": null,
   "metadata": {},
   "outputs": [],
   "source": [
    "def create_policy_rule(volume_name: str, vserver_name: str, qtree_name: str, space_hard: int, file_hard: int) -> None:\n",
    "    \"\"\"Creates a new policy rule for the qtree\"\"\"\n",
    "\n",
    "    data = {\n",
    "        'qtree': {'name': qtree_name},\n",
    "        'volume': {'name': volume_name},\n",
    "        'svm': {'name': vserver_name},\n",
    "        'files': {'hard_limit': file_hard, 'soft_limit': 100},\n",
    "        'space': {'hard_limit': space_hard, 'soft_limit': 100},\n",
    "        'type': 'tree'\n",
    "    }\n",
    "    quotarule = QuotaRule(**data)\n",
    "    try:\n",
    "        quotarule.post()\n",
    "        print(\"Rule 'tree' created successfully for %s\" % qtree_name)\n",
    "    except NetAppRestError as err:\n",
    "        print(\"Error: Rule was not created: %s\" % err)\n",
    "    return\n",
    "\n"
   ]
  },
  {
   "cell_type": "markdown",
   "metadata": {},
   "source": [
    "#### Arguments Parser\n",
    "\n",
    "We define which arguments need to be passed to the script and argparse does the rest..."
   ]
  },
  {
   "cell_type": "code",
   "execution_count": null,
   "metadata": {},
   "outputs": [],
   "source": [
    "def parse_args() -> argparse.Namespace:\n",
    "    \"\"\"Parse the command line arguments from the user\"\"\"\n",
    "\n",
    "    parser = argparse.ArgumentParser(\n",
    "        description=\"This script will create a new qtree.\"\n",
    "    )\n",
    "    parser.add_argument(\n",
    "        \"-c\", \"--cluster\", required=True, help=\"API server IP:port details\"\n",
    "    )\n",
    "    parser.add_argument(\n",
    "        \"-v\", \"--volume_name\", required=True, help=\"Volume name to create qtree from\"\n",
    "    )\n",
    "    parser.add_argument(\n",
    "        \"-vs\", \"--vserver_name\", required=True, help=\"SVM to create the volume from\"\n",
    "    )\n",
    "    parser.add_argument(\n",
    "        \"-q\", \"--qtree_name\", required=True, help=\"QTree to create the qutoa tree\"\n",
    "    )\n",
    "    parser.add_argument(\n",
    "        \"-sh\", \"--space_hard\", required=True, help=\"Hard limit on space in bytese\"\n",
    "    )\n",
    "    parser.add_argument(\n",
    "        \"-fh\", \"--file_hard\", required=True, help=\"hard limit on files in bytes\"\n",
    "    )\n",
    "    parser.add_argument(\"-u\", \"--api_user\", default=\"admin\", help=\"API Username\")\n",
    "    parser.add_argument(\"-p\", \"--api_pass\", help=\"API Password\")\n",
    "    parsed_args = parser.parse_args()\n",
    "\n",
    "    # collect the password without echo if not already provided\n",
    "    if not parsed_args.api_pass:\n",
    "        parsed_args.api_pass = getpass()\n",
    "\n",
    "    return parsed_args\n",
    "\n"
   ]
  },
  {
   "cell_type": "markdown",
   "metadata": {},
   "source": [
    "#### The Main Section"
   ]
  },
  {
   "cell_type": "code",
   "execution_count": null,
   "metadata": {},
   "outputs": [],
   "source": [
    "if __name__ == \"__main__\":\n",
    "    logging.basicConfig(\n",
    "        level=logging.INFO,\n",
    "        format=\"[%(asctime)s] [%(levelname)5s] [%(module)s:%(lineno)s] %(message)s\",\n",
    "    )\n",
    "    args = parse_args()\n",
    "    config.CONNECTION = HostConnection(\n",
    "        args.cluster, username=args.api_user, password=args.api_pass, verify=False,\n",
    "    )\n",
    "\n",
    "    # Create a quota tree and a policy rule for the qtree\n",
    "    create_qtree(args.volume_name, args.vserver_name, args.qtree_name)\n",
    "    create_policy_rule(args.volume_name, args.vserver_name, args.qtree_name, args.space_hard, args.file_hard)\n"
   ]
  },
  {
   "cell_type": "markdown",
   "metadata": {},
   "source": [
    "[Return to the Module 2 Notebook:](module2.ipynb)"
   ]
  }
 ],
 "metadata": {
  "kernelspec": {
   "display_name": ".venv",
   "language": "python",
   "name": "python3"
  },
  "language_info": {
   "codemirror_mode": {
    "name": "ipython",
    "version": 3
   },
   "file_extension": ".py",
   "mimetype": "text/x-python",
   "name": "python",
   "nbconvert_exporter": "python",
   "pygments_lexer": "ipython3",
   "version": "3.6.8"
  }
 },
 "nbformat": 4,
 "nbformat_minor": 2
}
