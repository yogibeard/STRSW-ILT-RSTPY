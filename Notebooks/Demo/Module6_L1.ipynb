{
 "cells": [
  {
   "cell_type": "markdown",
   "metadata": {},
   "source": [
    "## Walk through of a sample PCL code:"
   ]
  },
  {
   "cell_type": "markdown",
   "metadata": {},
   "source": [
    "\n",
    "### Lesson 1 Create and SVM with iSCSI Example"
   ]
  },
  {
   "cell_type": "markdown",
   "metadata": {},
   "source": [
    "[create_san.py](../../create_san.py)"
   ]
  },
  {
   "cell_type": "markdown",
   "metadata": {},
   "source": [
    "#### The Header Comment Section\n",
    "\n",
    "This section usually includes details such as \n",
    "- the file name, \n",
    "- author, \n",
    "- date, \n",
    "- purpose of the program, and any other relevant information. \n",
    "\n",
    "It’s a good practice to include such comments for better readability and maintainability of the code "
   ]
  },
  {
   "cell_type": "code",
   "execution_count": null,
   "metadata": {},
   "outputs": [],
   "source": [
    "#! /usr/local/bin/python3\n",
    "\n",
    "\"\"\"\n",
    "Purpose: Script to create sn SVM by using the netapp_ontap library.\n",
    "         It will create a SVM, a volume, two data interfaces and enable iscsi.\n",
    "Author: Vish Hulikal\n",
    "Usage: python3.11 create_san.py [-h] -c CLUSTER -a AGGR_NAME, -n NODE_NAME, -vs VSERVER_NAME, -v VOLUME_NAME -ip DATA_LIF,\n",
    "                 -lif INTERFACE_NAME,   -nm NET_MASK, [-u API_USER] [-p API_PASS]\n",
    "\"\"\""
   ]
  },
  {
   "cell_type": "markdown",
   "metadata": {},
   "source": [
    "#### The Input Section:\n",
    "\n",
    "Since we are using a Jupyter Notebook to run the code and not running the code from the command line, we need this section to simulate entering the arguments from the command line.\n",
    "\n",
    "When you run the notebook, for example by clicking on the `Run All` button, a dialog prompt will appear at the top of the window. You will then need to enter the command line arguments as described in the usage section above.\n",
    "\n",
    "If you do not provide the user, `admin`is used. If you do not provide the password, you will be prompted for the password.\n",
    "\n",
    "Suggested command arguments:"
   ]
  },
  {
   "cell_type": "raw",
   "metadata": {
    "vscode": {
     "languageId": "raw"
    }
   },
   "source": [
    "-c cluster1 -n cluster1-01 -a aggr1_cluster1_01_data -vs san_svm -v san_vol -ip 192.168.0.241 -nm 255.255.255.0 -lif san_svm_iscsi_1 -u admin -p Netapp1!\n"
   ]
  },
  {
   "cell_type": "code",
   "execution_count": null,
   "metadata": {},
   "outputs": [],
   "source": [
    "import sys\n",
    "\n",
    "# Prompt the user to enter command line arguments\n",
    "args = input(\"Please enter command line arguments: \")\n",
    "\n",
    "# Split the entered string into a list of arguments\n",
    "args = args.split()\n",
    "\n",
    "# Assign the list of arguments to sys.argv\n",
    "sys.argv = ['ipykernel_launcher.py'] + args"
   ]
  },
  {
   "cell_type": "markdown",
   "metadata": {},
   "source": [
    "#### Import Section\n",
    "\n",
    "Here we will import the following modules:\n",
    "  - [`argparse`](https://pypi.org/project/argparse/) : This is a popular python module. The argparse module makes it easy to write user friendly command line interfaces. \n",
    "  The program defines what arguments it requires, and argparse will figure out how to parse those out of sys.argv. The argparse module also automatically generates help and usage messages and issues errors when users give the program invalid arguments.\n",
    "  - [`getpass`](https://docs.python.org/3/library/getpass.html) : Used to Prompt the user for a password without echoing\n",
    "  - [`logging`](https://pypi.org/project/logging/) : This module is intended to provide a standard error logging mechanism in Python as per PEP 282.\n",
    "  - [`netapp_ontap.config`](https://library.netapp.com/ecmdocs/ECMLP3319064/html/config.html) : This module contains the global configuration options and related functions for the library.\n",
    "  - [`netapp_ontap.host_connection`](https://library.netapp.com/ecmdocs/ECMLP3319064/html/host_connection.html) : This module defines a host connection object which is used to communicate with the API host\n",
    "  - [`netapp_ontap.error`](https://library.netapp.com/ecmdocs/ECMLP3319064/html/error.html) : This module defines the custom exception type. All exceptions raised by the library descend from this type\n",
    "  - [`netapp_ontap.resources.svm`](https://library.netapp.com/ecmdocs/ECMLP3319064/html/resources/svm.html) : Managing SVMs\n",
    "  - [`netapp_ontap.resources.volume`](https://library.netapp.com/ecmdocs/ECMLP2885777/html/resources/volume.html) : Manage Volumes \n",
    "  - [`netapp_ontap.resources.ip_interface`](https://library.netapp.com/ecmdocs/ECMLP2885777/html/resources/ip_interface.html) : Manage IP LIF\n",
    "  - [`netapp_ontap.resources.iscsi_service`](https://library.netapp.com/ecmdocs/ECMLP2885777/html/resources/iscsi_service.html) : Manage iSCSI Service\n"
   ]
  },
  {
   "cell_type": "code",
   "execution_count": null,
   "metadata": {},
   "outputs": [],
   "source": [
    "\n",
    "import argparse\n",
    "from getpass import getpass\n",
    "import logging\n",
    "\n",
    "from netapp_ontap import config, utils, HostConnection, NetAppRestError\n",
    "from netapp_ontap.resources import Svm, Volume, IpInterface, IscsiService\n"
   ]
  },
  {
   "cell_type": "markdown",
   "metadata": {},
   "source": [
    "#### Function Definitions\n",
    "\n",
    "These functions are defined:\n",
    "  \n",
    "  - `create_svm`\n",
    "  - `create_iscsi_service`  \n",
    "  - `create_volume`  \n",
    "  - `create_data_interface`  \n",
    "\n",
    "  "
   ]
  },
  {
   "cell_type": "code",
   "execution_count": null,
   "metadata": {},
   "outputs": [],
   "source": [
    "def create_svm(vserver_name: str, aggr_name: str) -> None:\n",
    "    \"\"\"Create an SVM on the specified aggregate\"\"\"\n",
    "\n",
    "    svm = Svm.from_dict({\n",
    "    'name': vserver_name,\n",
    "    'aggregates': [{'name': aggr_name}],\n",
    "#    'iscsi': {'enabled': \"true\"}\n",
    "    })\n",
    "\n",
    "    try:\n",
    "        svm.post()\n",
    "        print(\"SVM %s created successfully\" % svm.name)\n",
    "    except NetAppRestError as err:\n",
    "        print(\"Error: SVM was not created: %s\" % err)\n",
    "    return\n"
   ]
  },
  {
   "cell_type": "code",
   "execution_count": null,
   "metadata": {},
   "outputs": [],
   "source": [
    "\n",
    "def create_iscsi_service(vserver_name: str) -> None:\n",
    "    \"\"\"Enable iSCSI service for an SVM\"\"\"\n",
    "\n",
    "    data = {\n",
    "        'svm': {'name': vserver_name},\n",
    "    }\n",
    "\n",
    "    iScsiService = IscsiService(**data)\n",
    "\n",
    "    try:\n",
    "        iScsiService.post()\n",
    "        print(\"iSCSI Service %s created successfully\" % vserver_name)\n",
    "    except NetAppRestError as err:\n",
    "        print(\"Error: iScsi Service was not created: %s\" % err)\n",
    "    return\n"
   ]
  },
  {
   "cell_type": "code",
   "execution_count": null,
   "metadata": {},
   "outputs": [],
   "source": [
    "\n",
    "def create_volume(volume_name: str, vserver_name: str, aggr_name: str, volume_size: int) -> None:\n",
    "    \"\"\"Creates a new volume in a SVM\"\"\"\n",
    "\n",
    "    data = {\n",
    "        'name': volume_name,\n",
    "        'svm': {'name': vserver_name},\n",
    "        'aggregates': [{'name': aggr_name }],\n",
    "        'size': volume_size,\n",
    "        'space_guarantee': 'volume'\n",
    "    }\n",
    "\n",
    "    volume = Volume(**data)\n",
    "\n",
    "    try:\n",
    "        volume.post()\n",
    "        print(\"Volume %s created successfully\" % volume.name)\n",
    "    except NetAppRestError as err:\n",
    "        print(\"Error: Volume was not created: %s\" % err)\n",
    "    return\n",
    "\n"
   ]
  },
  {
   "cell_type": "code",
   "execution_count": null,
   "metadata": {},
   "outputs": [],
   "source": [
    "\n",
    "\n",
    "def create_data_interface(vserver_name: str, interface_name: str, node_name: str, ip_address: str, ip_netmask: str) -> None:\n",
    "    \"\"\"Creates an SVM-scoped IP Interface\"\"\"\n",
    "\n",
    "    data = {\n",
    "        'name': interface_name,\n",
    "        'ip': {'address': ip_address, 'netmask': ip_netmask},\n",
    "        'enabled': True,\n",
    "        'scope': 'svm',\n",
    "        'svm': {'name': vserver_name},\n",
    "        'port': {'name': 'e0d', 'node': node_name},\n",
    "        'location': {\n",
    "           'auto_revert': True,\n",
    "           'broadcast_domain': {'name': 'Default'},\n",
    "        }\n",
    "    }\n",
    "\n",
    "    ip_interface = IpInterface(**data)\n",
    "\n",
    "    try:\n",
    "        ip_interface.post()\n",
    "        print(\"Ip Interface %s created successfully\" % ip_interface.ip.address)\n",
    "    except NetAppRestError as err:\n",
    "        print(\"Error: IP Interface was not created: %s\" % err)\n",
    "    return\n",
    "\n"
   ]
  },
  {
   "cell_type": "markdown",
   "metadata": {},
   "source": [
    "#### Arguments Parser\n",
    "\n",
    "We define which arguments need to be passed to the script and argparse does the rest..."
   ]
  },
  {
   "cell_type": "code",
   "execution_count": null,
   "metadata": {},
   "outputs": [],
   "source": [
    "def parse_args() -> argparse.Namespace:\n",
    "    \"\"\"Parse the command line arguments from the user\"\"\"\n",
    "\n",
    "    parser = argparse.ArgumentParser(\n",
    "        description=\"This script will create a SAN configuration\"\n",
    "    )\n",
    "    parser.add_argument(\n",
    "        \"-c\", \"--cluster\", required=True, help=\"Cluster Name\"\n",
    "    )\n",
    "    parser.add_argument(\n",
    "        \"-n\", \"--node_name\", required=True, help=\"API server Node Name\"\n",
    "    )\n",
    "    parser.add_argument(\n",
    "        \"-a\", \"--aggr_name\", required=True, help=\"Aggregate name\"\n",
    "    )\n",
    "    parser.add_argument(\n",
    "        \"-vs\", \"--vserver_name\", required=True, help=\"VServer name\"\n",
    "    )\n",
    "    parser.add_argument(\n",
    "        \"-v\", \"--volume_name\", required=True, help=\"Volume name\"\n",
    "    )\n",
    "    parser.add_argument(\n",
    "        \"-ip\", \"--ip_address\", required=True, help=\"Data Interface IP Address\"\n",
    "    )\n",
    "    parser.add_argument(\n",
    "        \"-nm\", \"--ip_netmask\", required=True, help=\"DNS Server IP Address\"\n",
    "    )\n",
    "    parser.add_argument(\n",
    "        \"-lif\", \"--interface_name\", required=True, help=\"Interface name\"\n",
    "    )\n",
    "\n",
    "    parser.add_argument(\"-u\", \"--api_user\", default=\"admin\", help=\"API Username\")\n",
    "    parser.add_argument(\"-p\", \"--api_pass\", help=\"API Password\")\n",
    "    parsed_args = parser.parse_args()\n",
    "\n",
    "    # collect the password without echo if not already provided\n",
    "    if not parsed_args.api_pass:\n",
    "        parsed_args.api_pass = getpass()\n",
    "\n",
    "    return parsed_args\n"
   ]
  },
  {
   "cell_type": "markdown",
   "metadata": {},
   "source": [
    "#### The Main Section"
   ]
  },
  {
   "cell_type": "code",
   "execution_count": null,
   "metadata": {},
   "outputs": [],
   "source": [
    "if __name__ == \"__main__\":\n",
    "    logging.basicConfig(\n",
    "        level=logging.INFO,\n",
    "        format=\"[%(asctime)s] [%(levelname)5s] [%(module)s:%(lineno)s] %(message)s\",\n",
    "    )\n",
    "\n",
    "    args = parse_args()\n",
    "    config.CONNECTION = HostConnection(\n",
    "        args.cluster, username=args.api_user, password=args.api_pass, verify=False,\n",
    "    )\n",
    "\n",
    "    create_svm(args.vserver_name, args.aggr_name)\n",
    "    create_iscsi_service(args.vserver_name)\n",
    "    create_volume(args.volume_name, args.vserver_name, args.aggr_name, 300000000)\n",
    "    create_data_interface(args.vserver_name, args.interface_name, args.node_name, args.ip_address, args.ip_netmask)\n"
   ]
  },
  {
   "cell_type": "markdown",
   "metadata": {},
   "source": [
    "---"
   ]
  },
  {
   "cell_type": "markdown",
   "metadata": {},
   "source": [
    "---"
   ]
  },
  {
   "cell_type": "markdown",
   "metadata": {},
   "source": [
    "[Back to Module 6 Demo - Notebook:](./Module6_demo.ipynb)"
   ]
  }
 ],
 "metadata": {
  "language_info": {
   "name": "python"
  }
 },
 "nbformat": 4,
 "nbformat_minor": 2
}
