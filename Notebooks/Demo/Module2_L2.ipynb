{
 "cells": [
  {
   "cell_type": "markdown",
   "metadata": {},
   "source": [
    "## Walk through of a sample PCL code:"
   ]
  },
  {
   "cell_type": "markdown",
   "metadata": {},
   "source": [
    "### Lesson 2 Volume management"
   ]
  },
  {
   "cell_type": "markdown",
   "metadata": {},
   "source": [
    "[volume.py](../../volume.py)"
   ]
  },
  {
   "cell_type": "markdown",
   "metadata": {},
   "source": [
    "#### The Header Comment Section\n",
    "\n",
    "This section usually includes details such as \n",
    "- the file name, \n",
    "- author, \n",
    "- date, \n",
    "- purpose of the program, and any other relevant information. \n",
    "\n",
    "It’s a good practice to include such comments for better readability and maintainability of the code "
   ]
  },
  {
   "cell_type": "code",
   "execution_count": null,
   "metadata": {},
   "outputs": [],
   "source": [
    "#! /usr/local/bin/python3\n",
    "\n",
    "\"\"\"\n",
    "ONTAP 9.13.1 REST API Python Client Library Scripts\n",
    "uthor: Vish Hulikal\n",
    "This script performs the following:\n",
    "        - Create a volume\n",
    "        - List all volumes\n",
    "        - Resize a volume to a new (bigger) size\n",
    "        - Delete a volume\n",
    "\n",
    "usage: python3.11 volume.py [-h] -c CLUSTER -v VOLUME_NAME -vs VSERVER_NAME -a AGGR_NAME\n",
    "               -rs VOLUME_RESIZE -s VOLUME_SIZE [-u API_USER] [-p API_PASS]\n",
    "The following arguments are required: -c/--cluster, -v/--volume_name, -vs/--vserver_name,\n",
    "                -a/--aggr_name, -rs/--volume_resize, -s/--volume_size\n",
    "\"\"\"\n"
   ]
  },
  {
   "cell_type": "markdown",
   "metadata": {},
   "source": [
    "#### The Input Section:\n",
    "\n",
    "Since we are using a Jupyter Notebook to run the code and not running the code from the command line, we need this section to simulate entering the arguments from the command line.\n",
    "\n",
    "When you run the notebook, for example by clicking on the `Run All` button, a dialog prompt will appear at the top of the window. You will then need to enter the command line arguments as described in the usage section above.\n",
    "\n",
    "If you do not provide the user, `admin`is used. If you do not provide the password, you will be prompted for the password.\n",
    "\n",
    "Suggested command arguments:"
   ]
  },
  {
   "cell_type": "raw",
   "metadata": {
    "vscode": {
     "languageId": "raw"
    }
   },
   "source": [
    "-c cluster1 -v Vol2 -vs nas_svm -a aggr1_cluster1_01_data -rs 40000000 -s 30000000 -u admin -p Netapp1!\n"
   ]
  },
  {
   "cell_type": "code",
   "execution_count": null,
   "metadata": {},
   "outputs": [],
   "source": [
    "import sys\n",
    "\n",
    "# Prompt the user to enter command line arguments\n",
    "args = input(\"Please enter command line arguments: \")\n",
    "\n",
    "# Split the entered string into a list of arguments\n",
    "args = args.split()\n",
    "\n",
    "# Assign the list of arguments to sys.argv\n",
    "sys.argv = ['ipykernel_launcher.py'] + args"
   ]
  },
  {
   "cell_type": "markdown",
   "metadata": {},
   "source": [
    "#### Import Section\n",
    "\n",
    "Here we will import the following modules:\n",
    "  - [`argparse`](https://pypi.org/project/argparse/) : This is a popular python module. The argparse module makes it easy to write user friendly command line interfaces. \n",
    "  The program defines what arguments it requires, and argparse will figure out how to parse those out of sys.argv. The argparse module also automatically generates help and usage messages and issues errors when users give the program invalid arguments.\n",
    "  - [`getpass`](https://docs.python.org/3/library/getpass.html) : Used to Prompt the user for a password without echoing\n",
    "  - [`logging`](https://pypi.org/project/logging/) : This module is intended to provide a standard error logging mechanism in Python as per PEP 282.\n",
    "  - [`netapp_ontap.config`](https://library.netapp.com/ecmdocs/ECMLP3319064/html/config.html) : This module contains the global configuration options and related functions for the library.\n",
    "  - [`netapp_ontap.host_connection`](https://library.netapp.com/ecmdocs/ECMLP3319064/html/host_connection.html) : This module defines a host connection object which is used to communicate with the API host\n",
    "  - [`netapp_ontap.error`](https://library.netapp.com/ecmdocs/ECMLP3319064/html/error.html) : This module defines the custom exception type. All exceptions raised by the library descend from this type\n",
    "  - [`netapp_ontap.resources.volume`](https://library.netapp.com/ecmdocs/ECMLP3319064/html/resources/volume.html) \n"
   ]
  },
  {
   "cell_type": "code",
   "execution_count": null,
   "metadata": {},
   "outputs": [],
   "source": [
    "\n",
    "import argparse\n",
    "from getpass import getpass\n",
    "import logging\n",
    "\n",
    "from netapp_ontap import config, HostConnection, NetAppRestError\n",
    "from netapp_ontap.resources import Volume\n"
   ]
  },
  {
   "cell_type": "markdown",
   "metadata": {},
   "source": [
    "#### Function Definitions\n",
    "\n",
    "There functions are defined:\n",
    "  - `create_volume`  \n",
    "  - `list_volumes`\n",
    "  - `get_volume`\n",
    "  - `delete_volume`\n",
    "  - `resize_volume`"
   ]
  },
  {
   "cell_type": "code",
   "execution_count": null,
   "metadata": {},
   "outputs": [],
   "source": [
    "\n",
    "def create_volume(volume_name: str, vserver_name: str, aggr_name: str, volume_size: int) -> None:\n",
    "    \"\"\"Creates a new volume in a SVM\"\"\"\n",
    "\n",
    "    data = {\n",
    "        'name': volume_name,\n",
    "        'svm': {'name': vserver_name},\n",
    "        'aggregates': [{'name': aggr_name }],\n",
    "        'size': volume_size\n",
    "    }\n",
    "\n",
    "    volume = Volume(**data)\n",
    "\n",
    "    try:\n",
    "        volume.post()\n",
    "        print(\"Volume %s created successfully\" % volume.name)\n",
    "    except NetAppRestError as err:\n",
    "        print(\"Error: Volume was not created: %s\" % err)\n",
    "    return\n",
    "\n",
    "def list_volumes(vserver_name: str) -> None:\n",
    "    \"\"\"List Volumes in a SVM \"\"\"\n",
    "\n",
    "    print (\"\\nList of Volumes:-\")\n",
    "    try:\n",
    "        for volume in Volume.get_collection(**{\"svm.name\": vserver_name}):\n",
    "            volume.get()\n",
    "            print (volume.name)\n",
    "    except NetAppRestError as err:\n",
    "        print(\"Error: Volume list was not created: %s\" % err)\n",
    "    return\n",
    "\n",
    "def get_volume(volume_name: str) -> None:\n",
    "    \"\"\"Get the details of a volume\"\"\"\n",
    "\n",
    "    volume = Volume.find(name=volume_name)\n",
    "\n",
    "    try:\n",
    "        volume.get()\n",
    "        print (volume.name)\n",
    "        print (volume.uuid)\n",
    "        \n",
    "        print(\"Volume details for %s obtained successfully\" % volume.name)\n",
    "    except NetAppRestError as err:\n",
    "        print(\"Error: Volume details not obtained: %s\" % err)\n",
    "    return\n",
    "\n",
    "def delete_volume(vserver_name: str, volume_name: str) -> None:\n",
    "    \"\"\"Delete a volume in a SVM\"\"\"\n",
    "\n",
    "    volume = Volume.find(name=volume_name, svm={\"name\":vserver_name})\n",
    "    if (volume == None):\n",
    "        print (\"Error: Volume %s not found!\" % volume.name)\n",
    "        return\n",
    "\n",
    "    try:\n",
    "        volume.delete()\n",
    "        print(\"Volume %s deleted successfully\" % volume.name)\n",
    "    except NetAppRestError as err:\n",
    "        print(\"Error: Volume was not deleted: %s\" % err)\n",
    "    return\n",
    "\n",
    "def resize_volume(vserver_name: str, volume_name: str, volume_resize: int) -> None:\n",
    "    \"\"\"Resize a volume in a SVM\"\"\"\n",
    "\n",
    "    volume = Volume.find(name=volume_name, svm={\"name\":vserver_name})\n",
    "    if (volume == None):\n",
    "        print (\"Error: Volume %s not found!\" % volume.name)\n",
    "        return\n",
    "\n",
    "    volume.size = volume_resize\n",
    "\n",
    "    try:\n",
    "        volume.patch()\n",
    "        print(\"Volume %s resized successfully\" % volume.name)\n",
    "    except NetAppRestError as err:\n",
    "        print(\"Error: Volume was not resized: %s\" % err)\n",
    "    return\n"
   ]
  },
  {
   "cell_type": "markdown",
   "metadata": {},
   "source": [
    "#### Arguments Parser\n",
    "\n",
    "We define which arguments need to be passed to the script and argparse does the rest..."
   ]
  },
  {
   "cell_type": "code",
   "execution_count": null,
   "metadata": {},
   "outputs": [],
   "source": [
    "def parse_args() -> argparse.Namespace:\n",
    "    \"\"\"Parse the command line arguments from the user\"\"\"\n",
    "\n",
    "    parser = argparse.ArgumentParser(\n",
    "        description=\"This script will create a new volume.\"\n",
    "    )\n",
    "    parser.add_argument(\n",
    "        \"-c\", \"--cluster\", required=True, help=\"API server IP:port details\"\n",
    "    )\n",
    "    parser.add_argument(\n",
    "        \"-v\", \"--volume_name\", required=True, help=\"Volume to create or clone from\"\n",
    "    )\n",
    "    parser.add_argument(\n",
    "        \"-vs\", \"--vserver_name\", required=True, help=\"SVM to create the volume from\"\n",
    "    )\n",
    "    parser.add_argument(\n",
    "        \"-a\", \"--aggr_name\", required=True, help=\"Aggregate to create the volume from\"\n",
    "    )\n",
    "    parser.add_argument(\n",
    "        \"-rs\", \"--volume_resize\", required=True, help=\"Volume resize in bytes\"\n",
    "    )\n",
    "    parser.add_argument(\n",
    "        \"-s\", \"--volume_size\", required=True, help=\"Size of the volume.\"\n",
    "    )\n",
    "    parser.add_argument(\"-u\", \"--api_user\", default=\"admin\", help=\"API Username\")\n",
    "    parser.add_argument(\"-p\", \"--api_pass\", help=\"API Password\")\n",
    "    parsed_args = parser.parse_args()\n",
    "\n",
    "    # collect the password without echo if not already provided\n",
    "    if not parsed_args.api_pass:\n",
    "        parsed_args.api_pass = getpass()\n",
    "\n",
    "    return parsed_args\n"
   ]
  },
  {
   "cell_type": "markdown",
   "metadata": {},
   "source": [
    "#### The Main Section"
   ]
  },
  {
   "cell_type": "code",
   "execution_count": null,
   "metadata": {},
   "outputs": [],
   "source": [
    "if __name__ == \"__main__\":\n",
    "    logging.basicConfig(\n",
    "        level=logging.INFO,\n",
    "        format=\"[%(asctime)s] [%(levelname)5s] [%(module)s:%(lineno)s] %(message)s\",\n",
    "    )\n",
    "    args = parse_args()\n",
    "    config.CONNECTION = HostConnection(\n",
    "        args.cluster, username=args.api_user, password=args.api_pass, verify=False,\n",
    "    )\n"
   ]
  },
  {
   "cell_type": "code",
   "execution_count": null,
   "metadata": {},
   "outputs": [],
   "source": [
    "\n",
    "    # Create a Volume\n",
    "    create_volume(args.volume_name, args.vserver_name, args.aggr_name , args.volume_size)\n"
   ]
  },
  {
   "cell_type": "code",
   "execution_count": null,
   "metadata": {},
   "outputs": [],
   "source": [
    "\n",
    "    # List all volumes in the VServer\n",
    "    list_volumes(args.vserver_name)\n"
   ]
  },
  {
   "cell_type": "code",
   "execution_count": null,
   "metadata": {},
   "outputs": [],
   "source": [
    "\n",
    "    # Get the volume details\n",
    "    get_volume(args.volume_name)\n"
   ]
  },
  {
   "cell_type": "code",
   "execution_count": null,
   "metadata": {},
   "outputs": [],
   "source": [
    "\n",
    "    # Resize a volume\n",
    "    resize_volume(args.vserver_name, args.volume_name, args.volume_resize)\n"
   ]
  },
  {
   "cell_type": "code",
   "execution_count": null,
   "metadata": {},
   "outputs": [],
   "source": [
    "\n",
    "    # Delete a volume\n",
    "    delete_volume(args.vserver_name, args.volume_name)\n",
    "\n"
   ]
  },
  {
   "cell_type": "markdown",
   "metadata": {},
   "source": [
    "---"
   ]
  },
  {
   "cell_type": "markdown",
   "metadata": {},
   "source": [
    "[Back to Module 2 Demo - Notebook:](./Module2_demo.ipynb)"
   ]
  }
 ],
 "metadata": {
  "language_info": {
   "name": "python"
  }
 },
 "nbformat": 4,
 "nbformat_minor": 2
}
