{
 "cells": [
  {
   "cell_type": "markdown",
   "metadata": {},
   "source": [
    "## Walk through of a sample PCL code:"
   ]
  },
  {
   "cell_type": "markdown",
   "metadata": {},
   "source": [
    "###  Lesson 3 Snapshot copy"
   ]
  },
  {
   "cell_type": "markdown",
   "metadata": {},
   "source": [
    "[snap.py](../../snap.py)"
   ]
  },
  {
   "cell_type": "markdown",
   "metadata": {},
   "source": [
    "#### The Header Comment Section\n",
    "\n",
    "This section usually includes details such as \n",
    "- the file name, \n",
    "- author, \n",
    "- date, \n",
    "- purpose of the program, and any other relevant information. \n",
    "\n",
    "It’s a good practice to include such comments for better readability and maintainability of the code "
   ]
  },
  {
   "cell_type": "code",
   "execution_count": null,
   "metadata": {},
   "outputs": [],
   "source": [
    "#! /usr/local/bin/python3\n",
    "\n",
    "\"\"\"\n",
    "ONTAP 9.13.1 REST API Python Sample Scripts\n",
    "Author: Vish Hulikal\n",
    "Purpose: Script to create snapshot using the netapp_ontap library.\n",
    "         It will also create a policy for the snapshot.\n",
    "         It will also create a schedule for the policy.\n",
    "\n",
    "Usage: python3.11 snap.py [-h] -c CLUSTER -v VOLUME_NAME -s SNAPSHOT_NAME -vs VSERVER_NAME\n",
    "                    -sc SCHEDULE_NAME, -p POLICY_NAME, [-u API_USER] [-p API_PASS]\n",
    "create_snap.py: The following arguments are required: -c/--cluster, -v/--volume_name\n",
    "                -s/--snapshot_name -vs/--vserver_name, -sc/--schedule_name, -sp/--policy_name\n",
    "\"\"\"\n"
   ]
  },
  {
   "cell_type": "markdown",
   "metadata": {},
   "source": [
    "#### The Input Section:\n",
    "\n",
    "Since we are using a Jupyter Notebook to run the code and not running the code from the command line, we need this section to simulate entering the arguments from the command line.\n",
    "\n",
    "When you run the notebook, for example by clicking on the `Run All` button, a dialog prompt will appear at the top of the window. You will then need to enter the command line arguments as described in the usage section above.\n",
    "\n",
    "If you do not provide the user, `admin`is used. If you do not provide the password, you will be prompted for the password.\n",
    "\n",
    "Suggested command arguments:"
   ]
  },
  {
   "cell_type": "raw",
   "metadata": {
    "vscode": {
     "languageId": "raw"
    }
   },
   "source": [
    "-c cluster1 -v Vol1 -vs nas_svm -s Snap1 -sp SnapPolicy1 -sc NewWeek -u admin -p Netapp1!\n"
   ]
  },
  {
   "cell_type": "code",
   "execution_count": null,
   "metadata": {},
   "outputs": [],
   "source": [
    "import sys\n",
    "\n",
    "# Prompt the user to enter command line arguments\n",
    "args = input(\"Please enter command line arguments: \")\n",
    "\n",
    "# Split the entered string into a list of arguments\n",
    "args = args.split()\n",
    "\n",
    "# Assign the list of arguments to sys.argv\n",
    "sys.argv = ['ipykernel_launcher.py'] + args"
   ]
  },
  {
   "cell_type": "markdown",
   "metadata": {},
   "source": [
    "#### Import Section\n",
    "\n",
    "Here we will import the following modules:\n",
    "  - [`argparse`](https://pypi.org/project/argparse/) : This is a popular python module. The argparse module makes it easy to write user friendly command line interfaces. \n",
    "  The program defines what arguments it requires, and argparse will figure out how to parse those out of sys.argv. The argparse module also automatically generates help and usage messages and issues errors when users give the program invalid arguments.\n",
    "  - [`getpass`](https://docs.python.org/3/library/getpass.html) : Used to Prompt the user for a password without echoing\n",
    "  - [`logging`](https://pypi.org/project/logging/) : This module is intended to provide a standard error logging mechanism in Python as per PEP 282.\n",
    "  - [`netapp_ontap.config`](https://library.netapp.com/ecmdocs/ECMLP3319064/html/config.html) : This module contains the global configuration options and related functions for the library.\n",
    "  - [`netapp_ontap.host_connection`](https://library.netapp.com/ecmdocs/ECMLP3319064/html/host_connection.html) : This module defines a host connection object which is used to communicate with the API host\n",
    "  - [`netapp_ontap.error`](https://library.netapp.com/ecmdocs/ECMLP3319064/html/error.html) : This module defines the custom exception type. All exceptions raised by the library descend from this type\n",
    "  - [`netapp_ontap.resources.aggregate`](https://library.netapp.com/ecmdocs/ECMLP2885777/html/resources/aggregate.html) : Aggregate operations through REST API\n",
    "  - [`netapp_ontap.resources.svm`](https://library.netapp.com/ecmdocs/ECMLP3319064/html/resources/svm.html) : Managing SVMs\n",
    "  - [`netapp_ontap.resources.volume`](https://library.netapp.com/ecmdocs/ECMLP3319064/html/resources/volume.html) \n"
   ]
  },
  {
   "cell_type": "code",
   "execution_count": null,
   "metadata": {},
   "outputs": [],
   "source": [
    "\n",
    "import argparse\n",
    "from getpass import getpass\n",
    "import logging\n",
    "from typing import Optional\n",
    "\n",
    "from netapp_ontap import config, HostConnection, NetAppRestError\n",
    "from netapp_ontap.resources import Volume, Snapshot, SnapshotPolicy, Schedule\n"
   ]
  },
  {
   "cell_type": "markdown",
   "metadata": {},
   "source": [
    "#### Function Definitions\n",
    "\n",
    "These functions\n",
    "\n",
    " are defined:\n",
    "  - `create_snap`\n",
    "  - `create_snapshot_policy`\n",
    "  - `create_schedule`  \n",
    "  "
   ]
  },
  {
   "cell_type": "code",
   "execution_count": null,
   "metadata": {},
   "outputs": [],
   "source": [
    "\n",
    "def create_snap(vserver_name: str, vol_name: str, snapshot_name: str) -> Optional[Snapshot]:\n",
    "    \"\"\"Create a new snapshot with default settings for a given volume\"\"\"\n",
    "\n",
    "    volume = Volume.find(name=vol_name, svm={\"name\":vserver_name})\n",
    "    if (volume == None):\n",
    "        print (\"Error: Volume %s not found!\" % volume.name)\n",
    "        return\n",
    "\n",
    "    snapshot = Snapshot(volume.uuid, name=snapshot_name)\n",
    "\n",
    "    try:\n",
    "        snapshot.post()\n",
    "        print(\"Snapshot %s created successfullys\" % snapshot.name)\n",
    "        return snapshot\n",
    "    except NetAppRestError as err:\n",
    "        print(\"Error: Snapshot was not created: %s\" % err)\n",
    "    return None\n"
   ]
  },
  {
   "cell_type": "code",
   "execution_count": null,
   "metadata": {},
   "outputs": [],
   "source": [
    "\n",
    "def create_snapshot_policy(policy_name: str, vserver_name: str, schedule_name: str) -> Optional[SnapshotPolicy]:\n",
    "    \"\"\"Creates a Snapshot copy policy\"\"\"\n",
    "\n",
    "    data = {\n",
    "        'name': policy_name,\n",
    "        'svm': {'name': vserver_name},\n",
    "        'comment': 'Snapshot Copy Policy',\n",
    "        'copies': [{'schedule': {'name': schedule_name}, 'count': '5'}]\n",
    "    }\n",
    "\n",
    "    snapshot_policy = SnapshotPolicy(**data)\n",
    "\n",
    "    try:\n",
    "        snapshot_policy.post()\n",
    "        print(\"Snapshot policy %s created successfully\" % snapshot_policy.name)\n",
    "        return snapshot_policy\n",
    "    except NetAppRestError as err:\n",
    "        print(\"Error: Snapshot policy was not created: %s\" % err)\n",
    "    return None\n"
   ]
  },
  {
   "cell_type": "code",
   "execution_count": null,
   "metadata": {},
   "outputs": [],
   "source": [
    "\n",
    "def create_schedule(schedule_name: str) -> Optional[Schedule]:\n",
    "    \"\"\"Creating a schedule that will be used to create a snapshot policy\"\"\"\n",
    "\n",
    "    try:\n",
    "        schedule = Schedule(\n",
    "            name=schedule_name, cron={\"days\": [1], \"hours\": [3], \"minutes\": [15]},\n",
    "        )\n",
    "        schedule.post()\n",
    "        print(\"Schedule %s created successfully\" % schedule.name)\n",
    "        return schedule\n",
    "    except NetAppRestError as err:\n",
    "        print(\"Error: Schedule was not created: %s\" % err)\n",
    "    return None\n"
   ]
  },
  {
   "cell_type": "markdown",
   "metadata": {},
   "source": [
    "#### Arguments Parser\n",
    "\n",
    "We define which arguments need to be passed to the script and argparse does the rest..."
   ]
  },
  {
   "cell_type": "code",
   "execution_count": null,
   "metadata": {},
   "outputs": [],
   "source": [
    "def parse_args() -> argparse.Namespace:\n",
    "    \"\"\"Parse the command line arguments from the user\"\"\"\n",
    "\n",
    "    parser = argparse.ArgumentParser(\n",
    "        description=\"This script will create a new snapshot.\"\n",
    "    )\n",
    "    parser.add_argument(\n",
    "        \"-c\", \"--cluster\", required=True, help=\"API server IP:port details\"\n",
    "    )\n",
    "    parser.add_argument(\n",
    "        \"-v\", \"--volume_name\", required=True, help=\"Volume to create\"\n",
    "    )\n",
    "    parser.add_argument(\n",
    "        \"-s\", \"--snapshot_name\", required=True, help=\"Snapshot to create\"\n",
    "    )\n",
    "    parser.add_argument(\n",
    "        \"-sp\", \"--policy_name\", required=True, help=\"Snapshot Policy to create\"\n",
    "    )\n",
    "    parser.add_argument(\n",
    "        \"-sc\", \"--schedule_name\", required=True, help=\"Snapshot Policy Schedule to create\"\n",
    "    )\n",
    "    parser.add_argument(\n",
    "        \"-vs\", \"--vserver_name\", required=True, help=\"VServer name to create Snapshot copy\"\n",
    "    )\n",
    "    parser.add_argument(\"-u\", \"--api_user\", default=\"admin\", help=\"API Username\")\n",
    "    parser.add_argument(\"-p\", \"--api_pass\", help=\"API Password\")\n",
    "    parsed_args = parser.parse_args()\n",
    "\n",
    "    # collect the password without echo if not already provided\n",
    "    if not parsed_args.api_pass:\n",
    "        parsed_args.api_pass = getpass()\n",
    "\n",
    "    return parsed_args\n"
   ]
  },
  {
   "cell_type": "markdown",
   "metadata": {},
   "source": [
    "#### The Main Section"
   ]
  },
  {
   "cell_type": "code",
   "execution_count": null,
   "metadata": {},
   "outputs": [],
   "source": [
    "if __name__ == \"__main__\":\n",
    "    logging.basicConfig(\n",
    "        level=logging.INFO,\n",
    "        format=\"[%(asctime)s] [%(levelname)5s] [%(module)s:%(lineno)s] %(message)s\",\n",
    "    )\n",
    "    args = parse_args()\n",
    "    config.CONNECTION = HostConnection(\n",
    "        args.cluster, username=args.api_user, password=args.api_pass, verify=False,\n",
    "    )\n",
    "\n",
    "    snapshot = create_snap(args.vserver_name, args.volume_name, args.snapshot_name)\n",
    "    schedule = create_schedule(args.schedule_name)\n",
    "    policy = create_snapshot_policy(args.policy_name, args.vserver_name, args.schedule_name)\n"
   ]
  },
  {
   "cell_type": "markdown",
   "metadata": {},
   "source": [
    "### Verify that the snapshot was created:"
   ]
  },
  {
   "cell_type": "code",
   "execution_count": null,
   "metadata": {},
   "outputs": [],
   "source": [
    "!ssh admin@cluster1 snapshot show -vserver nas_svm -volume Vol1"
   ]
  },
  {
   "cell_type": "markdown",
   "metadata": {},
   "source": [
    "### Verify that the job schedule was created:"
   ]
  },
  {
   "cell_type": "code",
   "execution_count": null,
   "metadata": {},
   "outputs": [],
   "source": [
    "!ssh admin@cluster1 job schedule show -name NewWeek"
   ]
  },
  {
   "cell_type": "markdown",
   "metadata": {},
   "source": [
    "### Verify that the snapshot policy was created:"
   ]
  },
  {
   "cell_type": "code",
   "execution_count": null,
   "metadata": {},
   "outputs": [],
   "source": [
    "!ssh admin@cluster1 snapshot policy show -vserver nas_svm "
   ]
  },
  {
   "cell_type": "markdown",
   "metadata": {},
   "source": [
    "---"
   ]
  },
  {
   "cell_type": "markdown",
   "metadata": {},
   "source": [
    "[Back to Module 2 Demo - Notebook:](./Module2_demo.ipynb)"
   ]
  }
 ],
 "metadata": {
  "language_info": {
   "name": "python"
  }
 },
 "nbformat": 4,
 "nbformat_minor": 2
}
