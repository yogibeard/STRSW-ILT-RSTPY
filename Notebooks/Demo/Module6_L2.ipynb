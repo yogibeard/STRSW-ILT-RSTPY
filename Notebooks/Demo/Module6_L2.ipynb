{
 "cells": [
  {
   "cell_type": "markdown",
   "metadata": {},
   "source": [
    "## Walk through of a sample PCL code:"
   ]
  },
  {
   "cell_type": "markdown",
   "metadata": {},
   "source": [
    "\n",
    "### Lesson 1 Create and SVM with iSCSI Example"
   ]
  },
  {
   "cell_type": "markdown",
   "metadata": {},
   "source": [
    "[create_san.py](../../create_san.py)"
   ]
  },
  {
   "cell_type": "markdown",
   "metadata": {},
   "source": [
    "#### The Header Comment Section\n",
    "\n",
    "This section usually includes details such as \n",
    "- the file name, \n",
    "- author, \n",
    "- date, \n",
    "- purpose of the program, and any other relevant information. \n",
    "\n",
    "It’s a good practice to include such comments for better readability and maintainability of the code "
   ]
  },
  {
   "cell_type": "code",
   "execution_count": null,
   "metadata": {},
   "outputs": [],
   "source": [
    "#! /usr/local/bin/python3\n",
    "\"\"\"\n",
    "Purpose: Script to create sn SVM by using the netapp_ontap library.\n",
    "         It will create a Group, a lun and map the igroup to the lun.\n",
    "Author: Vish Hulikal\n",
    "Usage: python3.11 igroup.py [-h] -c CLUSTER -vs VSERVER_NAME, -l LUN_NAME -ig IGROUP_NAME\n",
    "       [-u API_USER] [-p API_PASS]\n",
    "\"\"\""
   ]
  },
  {
   "cell_type": "markdown",
   "metadata": {},
   "source": [
    "#### The Input Section:\n",
    "\n",
    "Since we are using a Jupyter Notebook to run the code and not running the code from the command line, we need this section to simulate entering the arguments from the command line.\n",
    "\n",
    "When you run the notebook, for example by clicking on the `Run All` button, a dialog prompt will appear at the top of the window. You will then need to enter the command line arguments as described in the usage section above.\n",
    "\n",
    "If you do not provide the user, `admin`is used. If you do not provide the password, you will be prompted for the password.\n",
    "\n",
    "Suggested command arguments:"
   ]
  },
  {
   "cell_type": "raw",
   "metadata": {
    "vscode": {
     "languageId": "raw"
    }
   },
   "source": [
    "-c cluster1 -vs san_svm -l /vol/san_vol/lun1 -ig igroup1 -u admin -p Netapp1!\n"
   ]
  },
  {
   "cell_type": "code",
   "execution_count": null,
   "metadata": {},
   "outputs": [],
   "source": [
    "import sys\n",
    "\n",
    "# Prompt the user to enter command line arguments\n",
    "args = input(\"Please enter command line arguments: \")\n",
    "\n",
    "# Split the entered string into a list of arguments\n",
    "args = args.split()\n",
    "\n",
    "# Assign the list of arguments to sys.argv\n",
    "sys.argv = ['ipykernel_launcher.py'] + args"
   ]
  },
  {
   "cell_type": "markdown",
   "metadata": {},
   "source": [
    "#### Import Section\n",
    "\n",
    "Here we will import the following modules:\n",
    "  - [`argparse`](https://pypi.org/project/argparse/) : This is a popular python module. The argparse module makes it easy to write user friendly command line interfaces. \n",
    "  The program defines what arguments it requires, and argparse will figure out how to parse those out of sys.argv. The argparse module also automatically generates help and usage messages and issues errors when users give the program invalid arguments.\n",
    "  - [`getpass`](https://docs.python.org/3/library/getpass.html) : Used to Prompt the user for a password without echoing\n",
    "  - [`logging`](https://pypi.org/project/logging/) : This module is intended to provide a standard error logging mechanism in Python as per PEP 282.\n",
    "  - [`netapp_ontap.config`](https://library.netapp.com/ecmdocs/ECMLP3319064/html/config.html) : This module contains the global configuration options and related functions for the library.\n",
    "  - [`netapp_ontap.host_connection`](https://library.netapp.com/ecmdocs/ECMLP3319064/html/host_connection.html) : This module defines a host connection object which is used to communicate with the API host\n",
    "  - [`netapp_ontap.error`](https://library.netapp.com/ecmdocs/ECMLP3319064/html/error.html) : This module defines the custom exception type. All exceptions raised by the library descend from this type\n",
    "  - [`netapp_ontap.resources.svm`](https://library.netapp.com/ecmdocs/ECMLP3319064/html/resources/svm.html) : Managing SVMs\n",
    "  - [`netapp_ontap.resources.lun`](https://library.netapp.com/ecmdocs/ECMLP2885777/html/resources/lun.html) : Manage LUNs \n",
    "  - [`netapp_ontap.resources.igroup`](https://library.netapp.com/ecmdocs/ECMLP2885777/html/resources/igroup.html) : Manage iGroups\n",
    "  - [`netapp_ontap.resources.lun_map`](https://library.netapp.com/ecmdocs/ECMLP2885777/html/resources/lun_map.html) : Manage Mapping LUNs\n"
   ]
  },
  {
   "cell_type": "code",
   "execution_count": null,
   "metadata": {},
   "outputs": [],
   "source": [
    "\n",
    "import argparse\n",
    "from getpass import getpass\n",
    "import logging\n",
    "\n",
    "from netapp_ontap import config, HostConnection, NetAppRestError\n",
    "from netapp_ontap.resources import Lun, Igroup, LunMap"
   ]
  },
  {
   "cell_type": "markdown",
   "metadata": {},
   "source": [
    "#### Function Definitions\n",
    "\n",
    "These functions are defined:\n",
    "  \n",
    "  - `create_igroup`\n",
    "  - `create_lun`  \n",
    "  - `create_lun_map`  \n",
    "  \n",
    "  "
   ]
  },
  {
   "cell_type": "code",
   "execution_count": null,
   "metadata": {},
   "outputs": [],
   "source": [
    "def create_igroup(igroup_name: str, vserver_name: str) -> None:\n",
    "    \"\"\"Create an Igroup on the SVM\"\"\"\n",
    "\n",
    "    data = {\n",
    "        'name': igroup_name,\n",
    "        'svm': {'name': vserver_name},\n",
    "        'protocol': 'iscsi',\n",
    "        'os_type': 'windows'\n",
    "    }\n",
    "\n",
    "    igroup = Igroup(**data)\n",
    "\n",
    "    try:\n",
    "        igroup.post()\n",
    "        print(\"Igroup %s created successfully\" % igroup.name)\n",
    "    except NetAppRestError as err:\n",
    "        print(\"Error: Igroup was not created: %s\" % err)\n",
    "    return"
   ]
  },
  {
   "cell_type": "code",
   "execution_count": null,
   "metadata": {},
   "outputs": [],
   "source": [
    "\n",
    "def create_lun(lun_name: str, vserver_name: str, lun_size: int) -> None:\n",
    "    \"\"\"Creates a new lun in a volume\"\"\"\n",
    "\n",
    "    data = {\n",
    "        'name': lun_name,\n",
    "        'svm': {'name': vserver_name},\n",
    "        'space': {'size': lun_size},\n",
    "        'os_type': 'windows'\n",
    "    }\n",
    "\n",
    "    lun = Lun(**data)\n",
    "\n",
    "    try:\n",
    "        lun.post()\n",
    "        print(\"Lun %s created successfully\" % lun.name)\n",
    "    except NetAppRestError as err:\n",
    "        print(\"Error: Lun was not created: %s\" % err)\n",
    "    return\n"
   ]
  },
  {
   "cell_type": "code",
   "execution_count": null,
   "metadata": {},
   "outputs": [],
   "source": [
    "\n",
    "def create_lun_map(vserver_name: str, igroup_name: str, lun_name: str) -> None:\n",
    "    \"\"\"Create a map between Lun and the igroup\"\"\"\n",
    "\n",
    "    data = {\n",
    "        'svm': {'name': vserver_name},\n",
    "        'igroup': {'name': igroup_name},\n",
    "        'lun': {'name': lun_name}\n",
    "    }\n",
    "\n",
    "    lun_map = LunMap(**data)\n",
    "\n",
    "    try:\n",
    "        lun_map.post()\n",
    "        print(\"Lun Map %s created successfully\" % lun_map.igroup.name)\n",
    "    except NetAppRestError as err:\n",
    "        print(\"Error: Lun Map was not created: %s\" % err)\n",
    "    return\n"
   ]
  },
  {
   "cell_type": "markdown",
   "metadata": {},
   "source": [
    "#### Arguments Parser\n",
    "\n",
    "We define which arguments need to be passed to the script and argparse does the rest..."
   ]
  },
  {
   "cell_type": "code",
   "execution_count": null,
   "metadata": {},
   "outputs": [],
   "source": [
    "\n",
    "\n",
    "def parse_args() -> argparse.Namespace:\n",
    "    \"\"\"Parse the command line arguments from the user\"\"\"\n",
    "\n",
    "    parser = argparse.ArgumentParser(\n",
    "        description=\"This script will create a SAN configuration\"\n",
    "    )\n",
    "    parser.add_argument(\n",
    "        \"-c\", \"--cluster\", required=True, help=\"Cluster Name\"\n",
    "   )\n",
    "    parser.add_argument(\n",
    "        \"-vs\", \"--vserver_name\", required=True, help=\"VServer name\"\n",
    "    )\n",
    "    parser.add_argument(\n",
    "        \"-l\", \"--lun_name\", required=True, help=\"LUN path-name\"\n",
    "    )\n",
    "    parser.add_argument(\n",
    "        \"-ig\", \"--igroup_name\", required=True, help=\"Igroup name\"\n",
    "    )\n",
    "\n",
    "    parser.add_argument(\"-u\", \"--api_user\", default=\"admin\", help=\"API Username\")\n",
    "    parser.add_argument(\"-p\", \"--api_pass\", help=\"API Password\")\n",
    "    parsed_args = parser.parse_args()\n",
    "\n",
    "    # collect the password without echo if not already provided\n",
    "    if not parsed_args.api_pass:\n",
    "        parsed_args.api_pass = getpass()\n",
    "\n",
    "    return parsed_args\n"
   ]
  },
  {
   "cell_type": "markdown",
   "metadata": {},
   "source": [
    "#### The Main Section"
   ]
  },
  {
   "cell_type": "code",
   "execution_count": null,
   "metadata": {},
   "outputs": [],
   "source": [
    "if __name__ == \"__main__\":\n",
    "    logging.basicConfig(\n",
    "        level=logging.INFO,\n",
    "       format=\"[%(asctime)s] [%(levelname)5s] [%(module)s:%(lineno)s] %(message)s\",\n",
    "    )\n",
    "\n",
    "    args = parse_args()\n",
    "    config.CONNECTION = HostConnection(\n",
    "        args.cluster, username=args.api_user, password=args.api_pass, verify=False,\n",
    "    )\n",
    "\n",
    "    create_igroup(args.igroup_name, args.vserver_name)\n",
    "    create_lun(args.lun_name, args.vserver_name, 30000000)\n",
    "    create_lun_map(args.vserver_name, args.igroup_name, args.lun_name)\n"
   ]
  },
  {
   "cell_type": "markdown",
   "metadata": {},
   "source": [
    "---"
   ]
  },
  {
   "cell_type": "markdown",
   "metadata": {},
   "source": [
    "---"
   ]
  },
  {
   "cell_type": "markdown",
   "metadata": {},
   "source": [
    "[Back to Module 6 Demo - Notebook:](./Module6_demo.ipynb)"
   ]
  }
 ],
 "metadata": {
  "language_info": {
   "name": "python"
  }
 },
 "nbformat": 4,
 "nbformat_minor": 2
}
