{
 "cells": [
  {
   "cell_type": "markdown",
   "metadata": {},
   "source": [
    "## Walk through of a sample PCL code:"
   ]
  },
  {
   "cell_type": "markdown",
   "metadata": {},
   "source": [
    "### Lesson 1 Aggregate, SVM, and volume Creation Example"
   ]
  },
  {
   "cell_type": "markdown",
   "metadata": {},
   "source": [
    "[rest.py](../../rest.py)"
   ]
  },
  {
   "cell_type": "markdown",
   "metadata": {},
   "source": [
    "#### The Header Comment Section\n",
    "\n",
    "This section usually includes details such as \n",
    "- the file name, \n",
    "- author, \n",
    "- date, \n",
    "- purpose of the program, and any other relevant information. \n",
    "\n",
    "It’s a good practice to include such comments for better readability and maintainability of the code "
   ]
  },
  {
   "cell_type": "code",
   "execution_count": null,
   "metadata": {},
   "outputs": [],
   "source": [
    "#! /usr/local/bin/python3\n",
    "\n",
    "\"\"\"\n",
    "ONTAP 9.13.1 REST API Python Client Library Scripts\n",
    "Author: Vish Hulikal\n",
    "This script performs the following:\n",
    "        - Create an aggregate\n",
    "        - Create an SVM (or VServer)\n",
    "        - Create a volume\n",
    "        - List all volumes\n",
    "\n",
    "usage: python3.7 rest.py [-h] -c CLUSTER -v VOLUME_NAME -vs VSERVER_NAME -a AGGR_NAME\n",
    "               -n NODE_NAME -d DISK_COUNT -s VOLUME_SIZE [-u API_USER] [-p API_PASS]\n",
    "The following arguments are required: -c/--cluster, -v/--volume_name, -vs/--vserver_name,\n",
    "          -a/--aggr_name, -n/--node_name, -d/--disk_count, -s/--volume_size\n",
    "\"\"\"\n"
   ]
  },
  {
   "cell_type": "markdown",
   "metadata": {},
   "source": [
    "#### The Input Section:\n",
    "\n",
    "Since we are using a Jupyter Notebook to run the code and not running the code from the command line, we need this section to simulate entering the arguments from the command line.\n",
    "\n",
    "When you run the notebook, for example by clicking on the `Run All` button, a dialog prompt will appear at the top of the window. You will then need to enter the command line arguments as described in the usage section above.\n",
    "\n",
    "If you do not provide the user, `admin`is used. If you do not provide the password, you will be prompted for the password.\n",
    "\n",
    "Suggested command arguments:"
   ]
  },
  {
   "cell_type": "raw",
   "metadata": {
    "vscode": {
     "languageId": "raw"
    }
   },
   "source": [
    "-c cluster1 -v Vol1 -vs nas_svm -a aggr1_cluster1_01_data -n cluster1-01 -d 7 -s 30000000 -u admin -p Netapp1!\n"
   ]
  },
  {
   "cell_type": "code",
   "execution_count": null,
   "metadata": {},
   "outputs": [],
   "source": [
    "import sys\n",
    "\n",
    "# Prompt the user to enter command line arguments\n",
    "args = input(\"Please enter command line arguments: \")\n",
    "\n",
    "# Split the entered string into a list of arguments\n",
    "args = args.split()\n",
    "\n",
    "# Assign the list of arguments to sys.argv\n",
    "sys.argv = ['ipykernel_launcher.py'] + args"
   ]
  },
  {
   "cell_type": "markdown",
   "metadata": {},
   "source": [
    "#### Import Section\n",
    "\n",
    "Here we will import the following modules:\n",
    "  - [`argparse`](https://pypi.org/project/argparse/) : This is a popular python module. The argparse module makes it easy to write user friendly command line interfaces. \n",
    "  The program defines what arguments it requires, and argparse will figure out how to parse those out of sys.argv. The argparse module also automatically generates help and usage messages and issues errors when users give the program invalid arguments.\n",
    "  - [`getpass`](https://docs.python.org/3/library/getpass.html) : Used to Prompt the user for a password without echoing\n",
    "  - [`logging`](https://pypi.org/project/logging/) : This module is intended to provide a standard error logging mechanism in Python as per PEP 282.\n",
    "  - [`netapp_ontap.config`](https://library.netapp.com/ecmdocs/ECMLP3319064/html/config.html) : This module contains the global configuration options and related functions for the library.\n",
    "  - [`netapp_ontap.host_connection`](https://library.netapp.com/ecmdocs/ECMLP3319064/html/host_connection.html) : This module defines a host connection object which is used to communicate with the API host\n",
    "  - [`netapp_ontap.error`](https://library.netapp.com/ecmdocs/ECMLP3319064/html/error.html) : This module defines the custom exception type. All exceptions raised by the library descend from this type\n",
    "  - [`netapp_ontap.resources.aggregate`](https://library.netapp.com/ecmdocs/ECMLP2885777/html/resources/aggregate.html) : Aggregate operations through REST API\n",
    "  - [`netapp_ontap.resources.svm`](https://library.netapp.com/ecmdocs/ECMLP3319064/html/resources/svm.html) : Managing SVMs\n",
    "  - [`netapp_ontap.resources.volume`](https://library.netapp.com/ecmdocs/ECMLP3319064/html/resources/volume.html) \n"
   ]
  },
  {
   "cell_type": "code",
   "execution_count": null,
   "metadata": {},
   "outputs": [],
   "source": [
    "\n",
    "import argparse\n",
    "from getpass import getpass\n",
    "import logging\n",
    "\n",
    "from netapp_ontap import config, HostConnection, NetAppRestError\n",
    "from netapp_ontap.resources import Aggregate, Svm, Volume\n"
   ]
  },
  {
   "cell_type": "markdown",
   "metadata": {},
   "source": [
    "#### Function Definitions\n",
    "\n",
    "There functions are defined:\n",
    "  - `create_aggregate`\n",
    "  - `create_svm`\n",
    "  - `create_volume`  \n",
    "  - `list_volumes`\n",
    "  "
   ]
  },
  {
   "cell_type": "code",
   "execution_count": null,
   "metadata": {},
   "outputs": [],
   "source": [
    "\n",
    "def create_aggregate(aggr_name: str, node_name: str, disk_count: int) -> None:\n",
    "    \"\"\"Create an aggregate on the specified node\"\"\"\n",
    "\n",
    "    aggregate = Aggregate.from_dict({\n",
    "    'node': {'name':node_name},\n",
    "    'name': aggr_name,\n",
    "    'block_storage': {'primary': {'disk_count': disk_count}}\n",
    "    })\n",
    "\n",
    "    try:\n",
    "        aggregate.post()\n",
    "        print(\"Aggregate %s created successfully\" % aggregate.name)\n",
    "    except NetAppRestError as err:\n",
    "        print(\"Error: Aggregate was not created: %s\" % err)\n",
    "    return\n",
    "\n",
    "def create_svm(vserver_name: str, aggr_name: str) -> None:\n",
    "    \"\"\"Create an SVM on the specified aggregate\"\"\"\n",
    "\n",
    "    svm = Svm.from_dict({\n",
    "    'name': vserver_name,\n",
    "    'aggregates': [{'name': aggr_name}],\n",
    "    'cifs': {'enabled': \"true\"}\n",
    "    })\n",
    "\n",
    "    try:\n",
    "        svm.post()\n",
    "        print(\"SVM %s created successfully\" % svm.name)\n",
    "    except NetAppRestError as err:\n",
    "        print(\"Error: SVM was not created: %s\" % err)\n",
    "    return\n",
    "\n",
    "def create_volume(volume_name: str, vserver_name: str, aggr_name: str, volume_size: int) -> None:\n",
    "    \"\"\"Creates a new volume in a SVM\"\"\"\n",
    "\n",
    "    data = {\n",
    "        'name': volume_name,\n",
    "        'svm': {'name':vserver_name},\n",
    "        'aggregates': [{'name': aggr_name }],\n",
    "        'size': volume_size\n",
    "    }\n",
    "\n",
    "    volume = Volume(**data)\n",
    "\n",
    "    try:\n",
    "        volume.post()\n",
    "        print(\"Volume %s created successfully\" % volume.name)\n",
    "    except NetAppRestError as err:\n",
    "        print(\"Error: Volume was not created: %s\" % err)\n",
    "    return\n",
    "\n",
    "def list_volumes(vserver_name: str) -> None:\n",
    "    \"\"\"List Volumes in a SVM \"\"\"\n",
    "\n",
    "    print (\"\\nList of Volumes:-\")\n",
    "    try:\n",
    "        for volume in Volume.get_collection(**{\"svm.name\": vserver_name}):\n",
    "            volume.get()\n",
    "            print (volume.name)\n",
    "    except NetAppRestError as err:\n",
    "        print(\"Error: Volume list was not created: %s\" % err)\n",
    "    return\n"
   ]
  },
  {
   "cell_type": "markdown",
   "metadata": {},
   "source": [
    "#### Arguments Parser\n",
    "\n",
    "We define which arguments need to be passed to the script and argparse does the rest..."
   ]
  },
  {
   "cell_type": "code",
   "execution_count": null,
   "metadata": {},
   "outputs": [],
   "source": [
    "def parse_args() -> argparse.Namespace:\n",
    "    \"\"\"Parse the command line arguments from the user\"\"\"\n",
    "\n",
    "    parser = argparse.ArgumentParser(\n",
    "        description=\"This script will create a new volume.\"\n",
    "    )\n",
    "    parser.add_argument(\n",
    "        \"-c\", \"--cluster\", required=True, help=\"API server IP:port details\"\n",
    "    )\n",
    "    parser.add_argument(\n",
    "        \"-v\", \"--volume_name\", required=True, help=\"Volume to create or clone from\"\n",
    "    )\n",
    "    parser.add_argument(\n",
    "        \"-vs\", \"--vserver_name\", required=True, help=\"SVM to create the volume from\"\n",
    "    )\n",
    "    parser.add_argument(\n",
    "        \"-n\", \"--node_name\", required=True, help=\"Node name where to create the aggregate\"\n",
    "    )\n",
    "    parser.add_argument(\n",
    "        \"-a\", \"--aggr_name\", required=True, help=\"Aggregate to create the volume from\"\n",
    "    )\n",
    "    parser.add_argument(\n",
    "        \"-d\", \"--disk_count\", required=True, help=\"Number of disks in the aggregate\"\n",
    "    )\n",
    "    parser.add_argument(\n",
    "        \"-s\", \"--volume_size\", required=True, help=\"Size of the volume.\"\n",
    "    )\n",
    "    parser.add_argument(\"-u\", \"--api_user\", default=\"admin\", help=\"API Username\")\n",
    "    parser.add_argument(\"-p\", \"--api_pass\", help=\"API Password\")\n",
    "    parsed_args = parser.parse_args()\n",
    "\n",
    "    # collect the password without echo if not already provided\n",
    "    if not parsed_args.api_pass:\n",
    "        parsed_args.api_pass = getpass()\n",
    "\n",
    "    return parsed_args\n"
   ]
  },
  {
   "cell_type": "markdown",
   "metadata": {},
   "source": [
    "#### The Main Section"
   ]
  },
  {
   "cell_type": "code",
   "execution_count": null,
   "metadata": {},
   "outputs": [],
   "source": [
    "if __name__ == \"__main__\":\n",
    "    logging.basicConfig(\n",
    "        level=logging.INFO,\n",
    "        format=\"[%(asctime)s] [%(levelname)5s] [%(module)s:%(lineno)s] %(message)s\",\n",
    "    )\n",
    "    args = parse_args()\n",
    "    config.CONNECTION = HostConnection(\n",
    "        args.cluster, username=args.api_user, password=args.api_pass, verify=False,\n",
    "    )\n",
    "\n",
    "    # Create an Aggregate, a VServer and a Volume\n",
    "    create_aggregate(args.aggr_name, args.node_name, args.disk_count)\n",
    "    create_svm(args.vserver_name, args.aggr_name)\n",
    "    create_volume(args.volume_name, args.vserver_name, args.aggr_name , args.volume_size)\n",
    "\n",
    "    # List all volumes in the VServer\n",
    "    list_volumes(args.vserver_name)\n"
   ]
  },
  {
   "cell_type": "markdown",
   "metadata": {},
   "source": [
    "---"
   ]
  },
  {
   "cell_type": "markdown",
   "metadata": {},
   "source": [
    "[Back to Module 2 Demo - Notebook:](./Module2_demo.ipynb)"
   ]
  }
 ],
 "metadata": {
  "language_info": {
   "name": "python"
  }
 },
 "nbformat": 4,
 "nbformat_minor": 2
}
