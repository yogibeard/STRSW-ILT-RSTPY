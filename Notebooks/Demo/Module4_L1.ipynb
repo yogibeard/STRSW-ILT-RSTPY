{
 "cells": [
  {
   "cell_type": "markdown",
   "metadata": {},
   "source": [
    "## Walk through of a sample PCL code:"
   ]
  },
  {
   "cell_type": "markdown",
   "metadata": {},
   "source": [
    "### Lesson 1 NFS configuration Example"
   ]
  },
  {
   "cell_type": "markdown",
   "metadata": {},
   "source": [
    "[nfs.py](../../nfs.py)"
   ]
  },
  {
   "cell_type": "markdown",
   "metadata": {},
   "source": [
    "#### The Header Comment Section\n",
    "\n",
    "This section usually includes details such as \n",
    "- the file name, \n",
    "- author, \n",
    "- date, \n",
    "- purpose of the program, and any other relevant information. \n",
    "\n",
    "It’s a good practice to include such comments for better readability and maintainability of the code "
   ]
  },
  {
   "cell_type": "code",
   "execution_count": null,
   "metadata": {},
   "outputs": [],
   "source": [
    "#! /usr/local/bin/python3\n",
    "\n",
    "\"\"\"\n",
    "Purpose: Script to create sn SVM by using the netapp_ontap library.\n",
    "         It will create a Data Interface, Network Default, Gateway.\n",
    "         It will also create a DNS Domain, NFS Server and NFS Export.\n",
    "Author: Vish Hulikal\n",
    "Usage: nfs.py [-h] -c CLUSTER -a AGGR_NAME, -n NODE_NAME, -vs VSERVER_NAME,\n",
    "                i   -v VOLUME_NAME, -ip DATA_LIF, -g GATEWAY, -d DOMAIN, -s SEVER_IP,\n",
    "                    -nm NET_MASK -se NFS_SERVER, -sh EXPORT_PATH,\n",
    "                    -ep EXPORT_POLICY, [-u API_USER] [-p API_PASS]\n",
    "python3.11 nfs.py: -c cluster -a aggr_name, -vs/--vserver_name, -ip/--ip_address,\n",
    "                   -g/--gateway_ip, -d/--domain, -s /--server_ip, -nm\n",
    "                -s/--server_ip, -nm/--net_mask -se/--nfs_server, -sh/--ex_path -ep/--ex_policy\n",
    "\"\"\"\n"
   ]
  },
  {
   "cell_type": "markdown",
   "metadata": {},
   "source": [
    "#### The Input Section:\n",
    "\n",
    "Since we are using a Jupyter Notebook to run the code and not running the code from the command line, we need this section to simulate entering the arguments from the command line.\n",
    "\n",
    "When you run the notebook, for example by clicking on the `Run All` button, a dialog prompt will appear at the top of the window. You will then need to enter the command line arguments as described in the usage section above.\n",
    "\n",
    "If you do not provide the user, `admin`is used. If you do not provide the password, you will be prompted for the password.\n",
    "\n",
    "Suggested command arguments:"
   ]
  },
  {
   "cell_type": "raw",
   "metadata": {
    "vscode": {
     "languageId": "raw"
    }
   },
   "source": [
    "-c cluster1 -n cluster1-01 -a aggr1_cluster1_01_data -vs nas_svm_03 -v nas_svm_03_nfs_03 -ip 192.168.0.215 -nm 255.255.255.0 -g 192.168.0.1 -d demo.netapp.com -s 192.168.0.253 -se nas_svm_03 -sh /nas_svm_03_nfs_03 -ep default -u admin -p Netapp1!\n"
   ]
  },
  {
   "cell_type": "code",
   "execution_count": null,
   "metadata": {},
   "outputs": [],
   "source": [
    "import sys\n",
    "\n",
    "# Prompt the user to enter command line arguments\n",
    "args = input(\"Please enter command line arguments: \")\n",
    "\n",
    "# Split the entered string into a list of arguments\n",
    "args = args.split()\n",
    "\n",
    "# Assign the list of arguments to sys.argv\n",
    "sys.argv = ['ipykernel_launcher.py'] + args"
   ]
  },
  {
   "cell_type": "markdown",
   "metadata": {},
   "source": [
    "#### Import Section\n",
    "\n",
    "Here we will import the following modules:\n",
    "  - [`argparse`](https://pypi.org/project/argparse/) : This is a popular python module. The argparse module makes it easy to write user friendly command line interfaces. \n",
    "  The program defines what arguments it requires, and argparse will figure out how to parse those out of sys.argv. The argparse module also automatically generates help and usage messages and issues errors when users give the program invalid arguments.\n",
    "  - [`getpass`](https://docs.python.org/3/library/getpass.html) : Used to Prompt the user for a password without echoing\n",
    "  - [`logging`](https://pypi.org/project/logging/) : This module is intended to provide a standard error logging mechanism in Python as per PEP 282.\n",
    "  - [`netapp_ontap.config`](https://library.netapp.com/ecmdocs/ECMLP3319064/html/config.html) : This module contains the global configuration options and related functions for the library.\n",
    "  - [`netapp_ontap.host_connection`](https://library.netapp.com/ecmdocs/ECMLP3319064/html/host_connection.html) : This module defines a host connection object which is used to communicate with the API host\n",
    "  - [`netapp_ontap.error`](https://library.netapp.com/ecmdocs/ECMLP3319064/html/error.html) : This module defines the custom exception type. All exceptions raised by the library descend from this type\n",
    "  - [`netapp_ontap.resources.svm`](https://library.netapp.com/ecmdocs/ECMLP3319064/html/resources/svm.html) : Managing SVMs\n",
    "  - [`netapp_ontap.resources.volume`](https://library.netapp.com/ecmdocs/ECMLP3319064/html/resources/volume.html)  \n",
    "  - [`netapp_ontap.resources.ip_interface`](https://library.netapp.com/ecmdocs/ECMLP2885777/html/resources/ip_interface.html) : IP Network Interface\n",
    "  - [`netapp_ontap.resources.network_route`](https://library.netapp.com/ecmdocs/ECMLP3319064/html/resources/network_route.html)  \n",
    "  - [`netapp_ontap.resources.dns`](https://library.netapp.com/ecmdocs/ECMLP3319064/html/resources/dns.html) : Displays DNS information and controls the DNS subsytem. DNS domain name and DNS servers are required parameters  \n",
    "  - [`netapp_ontap.resources.nfs_service`](https://library.netapp.com/ecmdocs/ECMLP2885777/html/resources/nfs_service.html) : NFS Service  \n",
    "  - [`netapp_ontap.resources.export_policy`](https://library.netapp.com/ecmdocs/ECMLP2885777/html/resources/export_policy.html) : Export Policies  \n",
    "  - [`netapp_ontap.resources.export_rule`](https://library.netapp.com/ecmdocs/ECMLP2885777/html/resources/export_rule.html) : Export Policy Rules"
   ]
  },
  {
   "cell_type": "code",
   "execution_count": null,
   "metadata": {},
   "outputs": [],
   "source": [
    "\n",
    "import argparse\n",
    "from getpass import getpass\n",
    "import logging\n",
    "from typing import Optional\n",
    "\n",
    "from netapp_ontap import config, HostConnection, NetAppRestError\n",
    "from netapp_ontap.resources import Svm, Volume, IpInterface, NetworkRoute , Dns, NfsService, ExportPolicy, ExportRule\n"
   ]
  },
  {
   "cell_type": "markdown",
   "metadata": {},
   "source": [
    "#### Function Definitions\n",
    "\n",
    "These functions are defined:\n",
    "  \n",
    "  - `create_svm`\n",
    "  - `create_data_interface`  \n",
    "  - `create_route`  \n",
    "  - `create_dns`  \n",
    "  - `create_nfs_server`  \n",
    "  - `create_export_policy`  \n",
    "  - `create_export_rule`  \n",
    "  - `create_cifs_share`  \n",
    "  - `create_volume`  \n",
    "\n",
    "  "
   ]
  },
  {
   "cell_type": "code",
   "execution_count": null,
   "metadata": {},
   "outputs": [],
   "source": [
    "def create_svm(vserver_name: str, aggr_name: str) -> None:\n",
    "    \"\"\"Create an SVM on the specified aggregate\"\"\"\n",
    "\n",
    "    svm = Svm.from_dict({\n",
    "    'name': vserver_name,\n",
    "    'aggregates': [{'name': aggr_name}],\n",
    "    'nfsv3': {'enabled': \"true\"},\n",
    "    'nfsv4': {'enabled': \"false\"},\n",
    "    'nfsv41': {'enabled': \"false\"}\n",
    "    })\n",
    "\n",
    "    try:\n",
    "        svm.post()\n",
    "        print(\"SVM %s created successfully\" % svm.name)\n",
    "    except NetAppRestError as err:\n",
    "        print(\"Error: SVM was not created: %s\" % err)\n",
    "    return\n"
   ]
  },
  {
   "cell_type": "code",
   "execution_count": null,
   "metadata": {},
   "outputs": [],
   "source": [
    "\n",
    "def create_data_interface(vserver_name: str, interface_name: str, node_name: str, ip_address: str, ip_netmask: str) -> None:\n",
    "    \"\"\"Creates an SVM-scoped IP Interface\"\"\"\n",
    "\n",
    "    data = {\n",
    "        'name': interface_name,\n",
    "        'ip': {'address': ip_address, 'netmask': ip_netmask},\n",
    "        'enabled': True,\n",
    "        'scope': 'svm',\n",
    "        'svm': {'name': vserver_name},\n",
    "        'port': {'name': 'e0d', 'node': node_name},\n",
    "        'location': {\n",
    "           'auto_revert': True,\n",
    "           'broadcast_domain': {'name': 'Default'},\n",
    "        }\n",
    "    }\n",
    "\n",
    "    ip_interface = IpInterface(**data)\n",
    "\n",
    "    try:\n",
    "        ip_interface.post()\n",
    "        print(\"Ip Interface %s created successfully\" % ip_interface.ip.address)\n",
    "    except NetAppRestError as err:\n",
    "        print(\"Error: IP Interface was not created: %s\" % err)\n",
    "    return\n"
   ]
  },
  {
   "cell_type": "code",
   "execution_count": null,
   "metadata": {},
   "outputs": [],
   "source": [
    "\n",
    "def create_route(vserver_name: str, net_gateway_ip: str) -> None:\n",
    "    \"\"\"Creates a network route\"\"\"\n",
    "    \"\"\"The default destination will be set to \"0.0.0.0/0\" for IPv4 gateway addresses\"\"\"\n",
    "\n",
    "    data = {\n",
    "        'gateway': net_gateway_ip,\n",
    "        'svm': {'name': vserver_name}\n",
    "    }\n",
    "\n",
    "    route = NetworkRoute(**data)\n",
    "\n",
    "    try:\n",
    "        route.post()\n",
    "        print(\"Route %s created successfully\" % route.gateway)\n",
    "    except NetAppRestError as err:\n",
    "        print(\"Error: Route was not created: %s\" % err)\n",
    "    return\n"
   ]
  },
  {
   "cell_type": "code",
   "execution_count": null,
   "metadata": {},
   "outputs": [],
   "source": [
    "\n",
    "def create_dns(vserver_name: str, domain: str, dns_server_ip: str) -> None:\n",
    "    \"\"\"Creates a DNS server\"\"\"\n",
    "\n",
    "    data = {\n",
    "        'domains': [domain],\n",
    "        'servers': [dns_server_ip],\n",
    "        'svm': {'name': vserver_name}\n",
    "    }\n",
    "\n",
    "    dns = Dns(**data)\n",
    "\n",
    "    try:\n",
    "        dns.post()\n",
    "        print(\"DNS %s created successfully\" % dns.domains)\n",
    "    except NetAppRestError as err:\n",
    "        print(\"Error: DNS was not created: %s\" % err)\n",
    "    return\n"
   ]
  },
  {
   "cell_type": "code",
   "execution_count": null,
   "metadata": {},
   "outputs": [],
   "source": [
    "\n",
    "def create_nfs_server(vserver_name: str, domain_name: str, nfs_server: str, server_ip: str) -> None:\n",
    "    \"\"\"Creates a NFS server\"\"\"\n",
    "\n",
    "    SVM = Svm.find(name=vserver_name)\n",
    "\n",
    "    data = {\n",
    "        'name': nfs_server,\n",
    "        'scope': 'svm',\n",
    "        'svm': {'name': vserver_name, 'uuid': SVM.uuid},\n",
    "        'protocol': {'v4_id_domain': domain_name},\n",
    "        #'protocol': {'v3_enabled': bool('true')},\n",
    "        'vstorage_enabled': 'true'\n",
    "    }\n",
    "\n",
    "    nfs_service = NfsService(**data)\n",
    "\n",
    "    try:\n",
    "        nfs_service.post()\n",
    "        print(\"NFS Server %s created successfully\" % nfs_server)\n",
    "    except NetAppRestError as err:\n",
    "        print(\"Error: NFS Server was not created: %s\" % err)\n",
    "    return\n"
   ]
  },
  {
   "cell_type": "code",
   "execution_count": null,
   "metadata": {},
   "outputs": [],
   "source": [
    "\n",
    "def create_export_policy(vserver_name: str, ex_path: str, host_name: str, ex_policy: str) -> None:\n",
    "    \"\"\"Creates an export policy for an SVM\"\"\"\n",
    "\n",
    "    SVM = Svm.find(name=vserver_name)\n",
    "\n",
    "    data = {\n",
    "        'name': ex_policy,\n",
    "        'svm': {'name': vserver_name, 'uuid': SVM.uuid},\n",
    "        'policy': ex_policy,\n",
    "        'rules': [\n",
    "            {\n",
    "                'clients': [{'match': '0.0.0.0/0'}],'ro_rule': ['any'], 'rw_rule': ['any'], 'anonymous_user': 'any', 'superuser': ['any'], 'protocols': ['any']\n",
    "            }\n",
    "        ]\n",
    "    }\n",
    "\n",
    "    export_policy = ExportPolicy(**data)\n",
    "\n",
    "    try:\n",
    "        export_policy.patch()\n",
    "        print(\"Export Policy for NFS Server %s created successfully\" % export_policy.name)\n",
    "    except NetAppRestError as err:\n",
    "        print(\"Error: Export Policy was not created: %s\" % err)\n",
    "    return\n"
   ]
  },
  {
   "cell_type": "code",
   "execution_count": null,
   "metadata": {},
   "outputs": [],
   "source": [
    "\n",
    "def create_export_rule(ex_policy: str)  -> None:\n",
    "    \"\"\"Creates an export rule for an SVM\"\"\"\n",
    "\n",
    "    EP = ExportPolicy.find(name=ex_policy)\n",
    "\n",
    "    data = {\n",
    "        'policy.id': EP.id,\n",
    "        'clients': [{'match': '0.0.0.0/0'}],\n",
    "        'ro_rule': ['any'],\n",
    "        'rw_rule': ['any'],\n",
    "        'anonymous_user': 'any',\n",
    "        'superuser': ['any'],\n",
    "        'protocols': ['any']\n",
    "    }\n",
    "\n",
    "    export_rule = ExportRule(**data)\n",
    "\n",
    "    try:\n",
    "        export_rule.post()\n",
    "        print(\"Export Rule for NFS Server %s created successfully\" % export_rule.policy.id)\n",
    "    except NetAppRestError as err:\n",
    "        print(\"Error: Export Rule was not created: %s\" % err)\n",
    "    return\n"
   ]
  },
  {
   "cell_type": "code",
   "execution_count": null,
   "metadata": {},
   "outputs": [],
   "source": [
    "\n",
    "def create_volume(volume_name: str, vserver_name: str, aggr_name: str, net_path: str, ex_policy: str, volume_size: int) -> None:\n",
    "    \"\"\"Creates a new volume in a SVM\"\"\"\n",
    "\n",
    "    data = {\n",
    "        'name': volume_name,\n",
    "        'svm': {'name': vserver_name},\n",
    "        'aggregates': [{'name': aggr_name }],\n",
    "        'size': volume_size,\n",
    "        'nas': {'security_style': 'unix', 'path': net_path, 'unix_permissions': 4777, 'export_policy.name': ex_policy, 'junction_parent.name': vserver_name + \"_root\"},   #volume_name},\n",
    "        'space_guarantee': 'volume'\n",
    "    }\n",
    "\n",
    "    volume = Volume(**data)\n",
    "\n",
    "    try:\n",
    "        volume.post()\n",
    "        print(\"Volume %s created successfully\" % volume.name)\n",
    "    except NetAppRestError as err:\n",
    "        print(\"Error: Volume was not created: %s\" % err)\n",
    "    return\n"
   ]
  },
  {
   "cell_type": "markdown",
   "metadata": {},
   "source": [
    "#### Arguments Parser\n",
    "\n",
    "We define which arguments need to be passed to the script and argparse does the rest..."
   ]
  },
  {
   "cell_type": "code",
   "execution_count": null,
   "metadata": {},
   "outputs": [],
   "source": [
    "def parse_args() -> argparse.Namespace:\n",
    "    \"\"\"Parse the command line arguments from the user\"\"\"\n",
    "\n",
    "    parser = argparse.ArgumentParser(\n",
    "        description=\"This script will create a new NFS Share for a given VServer\"\n",
    "    )\n",
    "    parser.add_argument(\n",
    "        \"-c\", \"--cluster\", required=True, help=\"Cluster Name\"\n",
    "    )\n",
    "    parser.add_argument(\n",
    "        \"-n\", \"--node_name\", required=True, help=\"Node Name\"\n",
    "    )\n",
    "    parser.add_argument(\n",
    "        \"-a\", \"--aggr_name\", required=True, help=\"Aggregate name\"\n",
    "    )\n",
    "    parser.add_argument(\n",
    "        \"-vs\", \"--vserver_name\", required=True, help=\"VServer name to create NFS Share\"\n",
    "    )\n",
    "    parser.add_argument(\n",
    "        \"-v\", \"--volume_name\", required=True, help=\"Volume name\"\n",
    "    )\n",
    "    parser.add_argument(\n",
    "        \"-ip\", \"--ip_address\", required=True, help=\"Data Interface IP Address\"\n",
    "    )\n",
    "    parser.add_argument(\n",
    "        \"-g\", \"--gateway_ip\", required=True, help=\"Default Gateway IP Address\"\n",
    "    )\n",
    "    parser.add_argument(\n",
    "        \"-d\", \"--domain\", required=True, help=\"DNS DOmain Name\"\n",
    "    )\n",
    "    parser.add_argument(\n",
    "        \"-s\", \"--server_ip\", required=True, help=\"DNS Server IP Address\"\n",
    "    )\n",
    "    parser.add_argument(\n",
    "        \"-nm\", \"--ip_netmask\", required=True, help=\"DNS Server IP Address\"\n",
    "    )\n",
    "    parser.add_argument(\n",
    "        \"-se\", \"--nfs_server\", required=True, help=\"NFS Server\"\n",
    "    )\n",
    "    parser.add_argument(\n",
    "        \"-sh\", \"--ex_path\", required=True, help=\"Export Path\"\n",
    "    )\n",
    "    parser.add_argument(\n",
    "        \"-ep\", \"--ex_policy\", required=True, help=\"Export Policy\"\n",
    "    )\n",
    "\n",
    "    parser.add_argument(\"-u\", \"--api_user\", default=\"admin\", help=\"API Username\")\n",
    "    parser.add_argument(\"-p\", \"--api_pass\", help=\"API Password\")\n",
    "    parsed_args = parser.parse_args()\n",
    "\n",
    "    # collect the password without echo if not already provided\n",
    "    if not parsed_args.api_pass:\n",
    "        parsed_args.api_pass = getpass()\n",
    "\n",
    "    return parsed_args\n"
   ]
  },
  {
   "cell_type": "markdown",
   "metadata": {},
   "source": [
    "#### The Main Section"
   ]
  },
  {
   "cell_type": "code",
   "execution_count": null,
   "metadata": {},
   "outputs": [],
   "source": [
    "if __name__ == \"__main__\":\n",
    "    logging.basicConfig(\n",
    "        level=logging.INFO,\n",
    "        format=\"[%(asctime)s] [%(levelname)5s] [%(module)s:%(lineno)s] %(message)s\",\n",
    "    )\n",
    "\n",
    "    args = parse_args()\n",
    "    config.CONNECTION = HostConnection(\n",
    "        args.cluster, username=args.api_user, password=args.api_pass, verify=False,\n",
    "    )\n",
    "\n",
    "    create_svm(args.vserver_name, args.aggr_name)\n",
    "    create_data_interface(args.vserver_name, args.vserver_name+\"_lif1\", args.node_name, args.ip_address, args.ip_netmask)\n",
    "    create_route(args.vserver_name, args.gateway_ip)\n",
    "    create_dns(args.vserver_name, args.cluster, args.server_ip)\n",
    "    create_nfs_server(args.vserver_name, args.domain, args.nfs_server, args.server_ip)\n",
    "#    create_export_policy(args.vserver_name, args.ex_path, args.nfs_server, args.ex_policy)\n",
    "#    create_export_rule(args.ex_policy)\n",
    "    create_volume(args.volume_name, args.vserver_name, args.aggr_name, args.ex_path, args.ex_policy, 200000000)\n"
   ]
  },
  {
   "cell_type": "markdown",
   "metadata": {},
   "source": [
    "---"
   ]
  },
  {
   "cell_type": "markdown",
   "metadata": {},
   "source": [
    "### Verify that the svm was created:"
   ]
  },
  {
   "cell_type": "code",
   "execution_count": null,
   "metadata": {},
   "outputs": [],
   "source": [
    "!ssh admin@cluster1 vserver show -vserver nas_svm_03"
   ]
  },
  {
   "cell_type": "markdown",
   "metadata": {},
   "source": [
    "### Verify that the volume was created:"
   ]
  },
  {
   "cell_type": "code",
   "execution_count": null,
   "metadata": {},
   "outputs": [],
   "source": [
    "!ssh admin@cluster1 volume show -vserver nas_svm_02 -volume nas_svm_03_nfs_03"
   ]
  },
  {
   "cell_type": "markdown",
   "metadata": {},
   "source": [
    "### Verify that the data lif was created:"
   ]
  },
  {
   "cell_type": "code",
   "execution_count": null,
   "metadata": {},
   "outputs": [],
   "source": [
    "!ssh admin@cluster1 net int show -vserver nas_svm_03"
   ]
  },
  {
   "cell_type": "markdown",
   "metadata": {},
   "source": [
    "### Verify that the DNS Configuration was created:"
   ]
  },
  {
   "cell_type": "code",
   "execution_count": null,
   "metadata": {},
   "outputs": [],
   "source": [
    "!ssh admin@cluster1 vserver services name-service dns show -vserver nas_svm_03"
   ]
  },
  {
   "cell_type": "markdown",
   "metadata": {},
   "source": [
    "---"
   ]
  },
  {
   "cell_type": "markdown",
   "metadata": {},
   "source": [
    "[NFS export policy configuration through ONTAP CLI Demo - Notebook:](./Module4_L2.ipynb)"
   ]
  },
  {
   "cell_type": "markdown",
   "metadata": {},
   "source": [
    "[NFS Mount Demo - Notebook:](./Module4_L3.ipynb)"
   ]
  },
  {
   "cell_type": "markdown",
   "metadata": {},
   "source": [
    "[Back to Module 4 Demo - Notebook:](./Module4_demo.ipynb)"
   ]
  }
 ],
 "metadata": {
  "language_info": {
   "name": "python"
  }
 },
 "nbformat": 4,
 "nbformat_minor": 2
}
