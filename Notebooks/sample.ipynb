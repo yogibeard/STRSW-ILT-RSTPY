{
 "cells": [
  {
   "cell_type": "markdown",
   "metadata": {},
   "source": [
    "#! /usr/bin/env python3\n",
    "\n",
    "\"\"\"\n",
    "ONTAP REST API Python Client Library Sample Scripts\n",
    "\n",
    "This script was developed by NetApp to help demonstrate NetApp\n",
    "technologies.  This script is not officially supported as a\n",
    "standard NetApp product.\n",
    "\n",
    "Purpose: Script to list aggregates using Python Client Library.\n",
    "\n",
    "usage: list_aggregates_pcl.py [-h] -c CLUSTER [-u API_USER] [-p API_PASS]\n",
    "list_aggregates_pcl.py:  the following arguments are required: -c/--cluster\n",
    "\"\"\"\n",
    "\n",
    "import argparse\n",
    "from getpass import getpass\n",
    "import logging\n",
    "\n",
    "from netapp_ontap import config, HostConnection, NetAppRestError\n",
    "from netapp_ontap.resources import Aggregate\n",
    "\n",
    "\n",
    "def list_aggregate_pycl() -> None:\n",
    "    \"\"\"List the aggregates.\"\"\"\n",
    "\n",
    "    print (\"\\n List of Aggregates:- \\n\")\n",
    "    try:\n",
    "        for aggregatelist in Aggregate.get_collection():\n",
    "            aggregatelist.get()\n",
    "            print (aggregatelist.name)\n",
    "    except NetAppRestError as err:\n",
    "            print(\"Error: Aggregate list was not created: %s\" % err)\n",
    "    return\n",
    "\n",
    "    \n",
    "\n",
    "def parse_args() -> argparse.Namespace:\n",
    "    \"\"\"Parse the command line arguments from the user\"\"\"\n",
    "\n",
    "    parser = argparse.ArgumentParser(\n",
    "        description=\"This script will list the aggregates.\"\n",
    "    )\n",
    "    parser.add_argument(\n",
    "        \"-c\", \"--cluster\", required=True, help=\"API server IP:port details\"\n",
    "    )\n",
    "    parser.add_argument(\"-u\", \"--api_user\", default=\"admin\", help=\"API Username\")\n",
    "    parser.add_argument(\"-p\", \"--api_pass\", help=\"API Password\")\n",
    "    parsed_args = parser.parse_args()\n",
    "\n",
    "    # collect the password without echo if not already provided\n",
    "    if not parsed_args.api_pass:\n",
    "        parsed_args.api_pass = getpass()\n",
    "\n",
    "    return parsed_args\n",
    "\n",
    "\n",
    "if __name__ == \"__main__\":\n",
    "    logging.basicConfig(\n",
    "        level=logging.INFO,\n",
    "        format=\"[%(asctime)s] [%(levelname)5s] [%(module)s:%(lineno)s] %(message)s\"\n",
    "    )\n",
    "    args = parse_args()\n",
    "    config.CONNECTION = HostConnection(\n",
    "        args.cluster, username=args.api_user, password=args.api_pass, verify=False\n",
    "    )\n",
    "\n",
    "    list_aggregate_pycl()\n"
   ]
  },
  {
   "cell_type": "code",
   "execution_count": 8,
   "metadata": {},
   "outputs": [
    {
     "name": "stdout",
     "output_type": "stream",
     "text": [
      "The authenticity of host 'cluster1 (192.168.0.101)' can't be established.\n",
      "ECDSA key fingerprint is SHA256:HnC1Phxc7v18ft5TQSe2EmZZmCkKP14nJaAzoAY+kZA.\n",
      "Are you sure you want to continue connecting (yes/no/[fingerprint])? "
     ]
    }
   ],
   "source": [
    "! ssh cluster1 \"storage aggr create -aggregate aggrl clusterl 01 data -node cluster1—01 -diskcount 5\""
   ]
  },
  {
   "cell_type": "code",
   "execution_count": 1,
   "metadata": {},
   "outputs": [
    {
     "data": {
      "text/plain": [
       "'\\nONTAP REST API Python Client Library Sample Scripts\\n\\nThis script was developed by NetApp to help demonstrate NetApp\\ntechnologies.  This script is not officially supported as a\\nstandard NetApp product.\\n\\nPurpose: Script to list aggregates using Python Client Library.\\n\\nusage: list_aggregates_pcl.py [-h] -c CLUSTER [-u API_USER] [-p API_PASS]\\nlist_aggregates_pcl.py:  the following arguments are required: -c/--cluster\\n'"
      ]
     },
     "execution_count": 1,
     "metadata": {},
     "output_type": "execute_result"
    }
   ],
   "source": [
    "#! /usr/bin/env python3\n",
    "\n",
    "\"\"\"\n",
    "ONTAP REST API Python Client Library Sample Scripts\n",
    "\n",
    "This script was developed by NetApp to help demonstrate NetApp\n",
    "technologies.  This script is not officially supported as a\n",
    "standard NetApp product.\n",
    "\n",
    "Purpose: Script to list aggregates using Python Client Library.\n",
    "\n",
    "usage: list_aggregates_pcl.py [-h] -c CLUSTER [-u API_USER] [-p API_PASS]\n",
    "list_aggregates_pcl.py:  the following arguments are required: -c/--cluster\n",
    "\"\"\"\n"
   ]
  },
  {
   "cell_type": "code",
   "execution_count": 2,
   "metadata": {},
   "outputs": [],
   "source": [
    "\n",
    "import argparse\n",
    "from getpass import getpass\n",
    "import logging\n",
    "\n",
    "from netapp_ontap import config, HostConnection, NetAppRestError\n",
    "from netapp_ontap.resources import Aggregate\n",
    "\n"
   ]
  },
  {
   "cell_type": "code",
   "execution_count": 3,
   "metadata": {},
   "outputs": [],
   "source": [
    "\n",
    "def list_aggregate_pycl() -> None:\n",
    "    \"\"\"List the aggregates.\"\"\"\n",
    "\n",
    "    print (\"\\n List of Aggregates:- \\n\")\n",
    "    try:\n",
    "        for aggregatelist in Aggregate.get_collection():\n",
    "            aggregatelist.get()\n",
    "            print (aggregatelist.name)\n",
    "    except NetAppRestError as err:\n",
    "            print(\"Error: Aggregate list was not created: %s\" % err)\n",
    "    return\n",
    "\n"
   ]
  },
  {
   "cell_type": "code",
   "execution_count": 4,
   "metadata": {},
   "outputs": [],
   "source": [
    "    \n",
    "\n",
    "def parse_args() -> argparse.Namespace:\n",
    "    \"\"\"Parse the command line arguments from the user\"\"\"\n",
    "\n",
    "    parser = argparse.ArgumentParser(\n",
    "        description=\"This script will list the aggregates.\"\n",
    "    )\n",
    "    parser.add_argument(\n",
    "        \"-c\", \"--cluster\", required=True, help=\"API server IP:port details\"\n",
    "    )\n",
    "    parser.add_argument(\"-u\", \"--api_user\", default=\"admin\", help=\"API Username\")\n",
    "    parser.add_argument(\"-p\", \"--api_pass\", help=\"API Password\")\n",
    "    parsed_args = parser.parse_args()\n",
    "\n",
    "    # collect the password without echo if not already provided\n",
    "    if not parsed_args.api_pass:\n",
    "        parsed_args.api_pass = getpass()\n",
    "\n",
    "    return parsed_args\n",
    "\n"
   ]
  },
  {
   "cell_type": "code",
   "execution_count": 5,
   "metadata": {},
   "outputs": [],
   "source": [
    "import sys\n",
    "\n",
    "sys.argv = ['ipykernel_launcher.py' , '-c', 'cluster1' ,'-u', 'admin']"
   ]
  },
  {
   "cell_type": "code",
   "execution_count": 7,
   "metadata": {},
   "outputs": [
    {
     "name": "stdout",
     "output_type": "stream",
     "text": [
      "\n",
      " List of Aggregates:- \n",
      "\n"
     ]
    }
   ],
   "source": [
    "\n",
    "if __name__ == \"__main__\":\n",
    "    logging.basicConfig(\n",
    "        level=logging.INFO,\n",
    "        format=\"[%(asctime)s] [%(levelname)5s] [%(module)s:%(lineno)s] %(message)s\"\n",
    "    )\n",
    "    args = parse_args()\n",
    "    config.CONNECTION = HostConnection(\n",
    "        args.cluster, username=args.api_user, password=args.api_pass, verify=False\n",
    "    )\n",
    "\n",
    "    list_aggregate_pycl()\n"
   ]
  }
 ],
 "metadata": {
  "kernelspec": {
   "display_name": ".venv",
   "language": "python",
   "name": "python3"
  },
  "language_info": {
   "codemirror_mode": {
    "name": "ipython",
    "version": 3
   },
   "file_extension": ".py",
   "mimetype": "text/x-python",
   "name": "python",
   "nbconvert_exporter": "python",
   "pygments_lexer": "ipython3",
   "version": "3.6.8"
  }
 },
 "nbformat": 4,
 "nbformat_minor": 2
}
