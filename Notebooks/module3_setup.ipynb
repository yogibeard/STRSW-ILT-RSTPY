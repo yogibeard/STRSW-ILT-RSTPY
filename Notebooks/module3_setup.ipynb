{
 "cells": [
  {
   "cell_type": "code",
   "execution_count": null,
   "metadata": {},
   "outputs": [],
   "source": [
    "!ssh admin@cluster1 'vserver modify -vserver nas_svm -allowed-protocols nfs,cifs,iscsi,s3'\n",
    "!ssh admin@cluster1 'net int create -vserver nas_svm -lif cifs-lif -service-policy default-data-files -address 192.168.0.201 -netmask 255.255.255.0 -home-node cluster1-01 -home-port e0d -status-admin up'"
   ]
  },
  {
   "cell_type": "markdown",
   "metadata": {},
   "source": [
    "[Return to the Module 3 Notebook:](module3.ipynb)\n"
   ]
  }
 ],
 "metadata": {
  "kernelspec": {
   "display_name": "Python 3",
   "language": "python",
   "name": "python3"
  },
  "language_info": {
   "codemirror_mode": {
    "name": "ipython",
    "version": 3
   },
   "file_extension": ".py",
   "mimetype": "text/x-python",
   "name": "python",
   "nbconvert_exporter": "python",
   "pygments_lexer": "ipython3",
   "version": "3.6.8"
  }
 },
 "nbformat": 4,
 "nbformat_minor": 2
}
