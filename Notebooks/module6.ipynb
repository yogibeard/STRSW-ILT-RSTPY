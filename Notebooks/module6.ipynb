{
 "cells": [
  {
   "cell_type": "markdown",
   "metadata": {},
   "source": [
    "[Back to Module 5](module5.ipynb)"
   ]
  },
  {
   "cell_type": "markdown",
   "metadata": {},
   "source": [
    "# Module 6: SAN Configuration"
   ]
  },
  {
   "cell_type": "markdown",
   "metadata": {},
   "source": [
    "## Excercise 1: Writing a Python Program to configure a LUN and Map it to a host  \n",
    "\n",
    "In this exercise, you write a Python program by using the Python client library (PCL) and use NetApp ONTAP REST APIs to demonstrate some SAN ONTAP REST API calls.\n"
   ]
  },
  {
   "cell_type": "markdown",
   "metadata": {},
   "source": [
    "### Objectives\n",
    "\n",
    "This exercise focuses on enabling you to do the following:  \n",
    "\n",
    "- Write a Python program to create a LUN by using ONTAP REST APIs  \n",
    "- Create an initiator group (igroup)  \n",
    "- Map the LUN to the igroup  \n",
    "\n",
    "---"
   ]
  },
  {
   "cell_type": "markdown",
   "metadata": {},
   "source": [
    "### Task 1 Setup the Environment in the cluster to practice writing a Python Script to Create a LUN, iGroup and map them.\n",
    "\n",
    "You need to setup the cluster as a prerequisite to run the Python program. \n",
    "\n",
    "- Step 1  \n",
    "  From the Ontap CLI, create an SVM\n",
    "\n",
    "  The command to do this:  \n",
    "\n",
    "  ---\n",
    "\n",
    "  ```\n",
    "  vserver create -vserver san_svm -aggregate aggr1_cluster1_01_data -data-services data-iscsi  \n",
    "  ```\n",
    "  ---\n",
    "\n",
    "- Step 2 \n",
    "\n",
    "  Create a volume of 1GB to hold the LUN in this SVM\n",
    "\n",
    "  From the Ontap CLI, the command to do this:  \n",
    "\n",
    "  ---\n",
    "\n",
    "  ```\n",
    "  volume create -vserver san_svm -volume san_vol -aggregate aggr1_cluster1_01_data -size 1GB \n",
    "  ```\n",
    "  ---\n",
    "- Step 3  \n",
    "\n",
    "  ---\n",
    "\n",
    "  Create LIF on each of the 2 nodes\n",
    "\n",
    "  ```\n",
    "  network interface create -vserver san_svm -lif lif_san1 -service-policy default-data-iscsi -address 192.168.0.241 -netmask 255.255.255.0 -home-node cluster1-01 -home-port e0d -status-admin up \n",
    "\n",
    "  network interface create -vserver san_svm -lif lif_san2 -service-policy default-data-iscsi -address 192.168.0.242 -netmask 255.255.255.0 -home-node cluster1-02 -home-port e0d -status-admin up\n",
    "  ```\n",
    "\n",
    "  ---\n",
    "  \n",
    "- Step 3  \n",
    "\n",
    "  Enable iSCSI services on the SVM:  \n",
    "\n",
    "  ---\n",
    "\n",
    "  ```\n",
    "  vserver iscsi create -vserver san_svm\n",
    "  ```\n",
    "  ---"
   ]
  },
  {
   "cell_type": "raw",
   "metadata": {
    "vscode": {
     "languageId": "raw"
    }
   },
   "source": [
    "vserver create -vserver san_svm -aggregate aggr1_cluster1_01_data -data-services data-iscsi  \n",
    "volume create -vserver san_svm -volume san_vol -aggregate aggr1_cluster1_01_data -size 1GB \n",
    "network interface create -vserver san_svm -lif lif_san1 -service-policy default-data-iscsi -address 192.168.0.241 -netmask 255.255.255.0 -home-node cluster1-01 -home-port e0d -status-admin up\n",
    "network interface create -vserver san_svm -lif lif_san2 -service-policy default-data-iscsi -address 192.168.0.242 -netmask 255.255.255.0 -home-node cluster1-02 -home-port e0d -status-admin up\n",
    "vserver iscsi create -vserver san_svm"
   ]
  },
  {
   "cell_type": "markdown",
   "metadata": {},
   "source": [
    "You can run these commands by opening a terminal and running the commands using ssh. \n",
    "\n",
    "You can copy the commands from the cell above.\n",
    "\n",
    "---\n",
    "\n",
    "\n",
    "To open a terminal, use ``` CTRL+` ```. then login to the cluster by running `ssh admin@cluster1`\n",
    "\n",
    "You can also execute these commands using the Jupyter notebook code by clicking on the [link](module6_setup.ipynb) below.  \n",
    "\n",
    "Once the new notebook opens, you can run the cell.  \n",
    "\n",
    "If prompted to `select the kernel`, please select `.venv(Python 3.9.6)`  \n",
    "\n",
    "Verify that the commands run successfully, then return to this notebook.\n",
    "\n",
    "[module6_setup](module6_setup.ipynb)  \n",
    "\n",
    "---"
   ]
  },
  {
   "cell_type": "markdown",
   "metadata": {},
   "source": [
    "### Task 2: Examine the documentation for the Python Client Library and REST API for LUN, iGroup, LUNMap  \n",
    "**Step 1:**\n",
    "  \n",
    "Review the documentation for `Python Client Library` Ontap resources:\n",
    "\n",
    "[Module **netapp_ontap.resources**](https://library.netapp.com/ecmdocs/ECMLP2885777/html/resources/index.html)\n",
    "\n",
    "and specifically:\n",
    "\n",
    "[Module **netapp_ontap.resources.lun**](https://library.netapp.com/ecmdocs/ECMLP3319064/html/resources/lun.html)  \n",
    "\n",
    "[Module **netapp_ontap.resources.igroup**](https://library.netapp.com/ecmdocs/ECMLP3319064/html/resources/igroup.html)\n",
    "\n",
    "[Module **netapp_ontap.resources.lun_map**](https://library.netapp.com/ecmdocs/ECMLP3319064/html/resources/lun_map.html)\n",
    "\n",
    "\n",
    "The documentation provides example code on how to do various operations with LUN configurations. \n",
    "This documentation is generated based on ONTAP REST API documentation.\n",
    "\n",
    "---\n",
    "\n",
    "**Step 2:**\n",
    "\n",
    "Review the documentation for `ONTAP REST API`\n",
    "\n",
    "We can open the `ONTAP REST API` online document by going to the following URL:\n",
    "\n",
    "[https://192.168.0.101/docs/api](https://192.168.0.101/docs/api)\n",
    "\n",
    "On the VS Code dialog box, Click `Open` to open the external website in a browser. If you get a warning about an untrusted site, Click on advanced and Proceed to the website.\n",
    "\n",
    "You will need to login to the documentation page, use `admin` with a password `Netapp1!`                  \n",
    "\n",
    "In the browser, you can search in the page (`CTRL+F`) for `storage/luns`.  \n",
    "\n",
    "Reveiw the [**DOC** /storage/luns](https://192.168.0.101/docs/api/#/docs/SAN/storage_luns) and [**POST** /storage/luns](hhttps://192.168.0.101/docs/api/#/SAN/lun_create)\n",
    "\n",
    "One of the preceding two links gives you a good example of a cURL command to create the LUN, including details about the JSON data that you want to pass to create a LUN  \n",
    "\n",
    "---\n",
    "\n",
    "```JSON\n",
    "{\n",
    "\"name\": \"/vol/san_vol/lun1\",\n",
    "\"svm.name\": \"san_svm\",\n",
    "\"aggregates\": \"aggr1\",\n",
    "\"space\": \"50 MB\",\n",
    "\"os_type\": \"linux\"\n",
    "}\n",
    "```\n",
    "\n",
    "---\n",
    "\n",
    "Write the `create_lun()` function and pass input parameters to the function, which are the command-line arguments that are processed by the parse_args() function.\n",
    "\n",
    "Build a data structure shown above within the `create_lun()` function and then issue the POST method on the data to create a lun.\n",
    "\n",
    "---\n",
    "\n",
    "Also, review the documentation for `igroups`  \n",
    "Search for `/protocols/san/igroups`\n",
    "\n",
    "[**DOC** /protocols/san/igroups](https://192.168.0.101/docs/api/#/docs/SAN/protocols_san_igroups) and [**POST** /protocols/san/igroups](https://192.168.0.101/docs/api/#/SAN/igroup_create)\n",
    "\n",
    "To create a igroup, look for a good example of the POST method that has details about the JSON data that you want to pass to create an igroup.\n",
    "\n",
    "---\n",
    "\n",
    "```JSON\n",
    "{\n",
    "\"name\": \"igroup1\",\n",
    "\"svm.name\": \"san_svm\",\n",
    "\"protocol\": \"iscsi\",\n",
    "\"os_type\": \"linux\"\n",
    "}\n",
    "\n",
    "```\n",
    "---\n",
    "\n",
    "Write the `create_igroup()` function and pass input parameters to the function, which are the command-line arguments that are processed by the `parse_args()` function.\n",
    "\n",
    "Build a data structure (similar to the one shown above) within the `create_igroup()` function and then issue the POST method on the data to create an igroup.\n",
    "\n",
    "---\n",
    "\n",
    "Review the documentation for `lun-maps`  \n",
    "Search for `/protocols/san/lun-maps`\n",
    "\n",
    "\n",
    "[**DOC** /protocols/san/lun-maps](https://192.168.0.101/docs/api/#/docs/SAN/protocols_san_lun-maps) and [**POST** /protocols/san/lun-maps](https://192.168.0.101/docs/api/#/SAN/lun_map_create)\n",
    "\n",
    "One of the preceding two links provides a good example of a cURL command to setup a LUN Mapping, including details about the JSON data that you want to pass to create a LUN Mapping.\n",
    "\n",
    "---\n",
    "\n",
    "```JSON\n",
    "{\n",
    "\"svm.name\": \"san_svm\",\n",
    "\"igroup\": \"igroup1\",\n",
    "\"lun\": \"/vol/san_vol/lun1\"\n",
    "}\n",
    "```\n",
    "\n",
    "---\n",
    "\n",
    "Write the `map_lun_igroup()` function and pass input parameters to the function, which are the command-line arguments that are processed by the `parse_args()` function.\n",
    "\n",
    "Build a data structure (similar to the one shown above) within the `map_lun_igroup()` function and then issue the POST method on the data to create the LUN mapping configuration.\n",
    "\n",
    "---"
   ]
  },
  {
   "cell_type": "markdown",
   "metadata": {},
   "source": [
    "### Task 3 Write Python code to Create a LUN, an igroup and Map the LUN to the igroup\n",
    "\n",
    "Write a Python program `san_lun.py` that uses PCL to do the following:\n",
    "  - Create a LUN: /vol/san_vol/lun1\n",
    "  - Create an igroup: igroup1\n",
    "  - Map the LUN to the igroup.\n",
    "\n",
    "The main() function calls the following functions:\n",
    "  - parse_args()\n",
    "  - create_lun()\n",
    "  - create_igroup()\n",
    "  - map_lun_igroup()  \n",
    "\n",
    "---  \n",
    "\n",
    "```\n",
    "Usage: python san_lun.py [-h] -c CLUSTER -vs VSERVER_NAME, -l LUN_NAME -ig IGROUP_NAME\n",
    "       [-u API_USER] [-p API_PASS]\n",
    "\n",
    "The following arguments are required:-c/--cluster, -vs/--vserver_name, -l/--lun_name, -ig/--igroup_name       \n",
    "```\n",
    "---\n",
    "\n",
    "The program should have the following sections:\n",
    "  - An `Header Comment`:\n",
    "      \n",
    "      This section usually includes details such as the file name, author, date, purpose of the program, and any other relevant information. \n",
    "      \n",
    "      It\"s a good practice to include such comments for better readability and maintainability of the code\n",
    "\n",
    "  - An `Import` Section:\n",
    "      This contains the list of libraries/modules that need to be called in the program\n",
    "  - The `Function` definitions\n",
    "  - The `Command Line Arguments Parsing` Section\n",
    "  - The `Main` Section  \n",
    "\n",
    "  ---\n",
    "\n",
    "You can start from scratch and create a python script called [san_lun.py](../san_lun.py)  \n",
    "To get help with the structure of the script, you can review [create_san.py](../create_san.py)\n",
    "\n",
    "---\n",
    "**OR**  \n",
    "\n",
    "Follow the guided Jupyter Notebook example [module6_code.ipynb](module6_code.ipynb).\n",
    "\n",
    "If prompted to select the kernel, select `.venv(Python3.9.6)`  \n",
    "\n",
    "---\n",
    "\n"
   ]
  },
  {
   "cell_type": "markdown",
   "metadata": {},
   "source": [
    "### Task 4: Run and Verify that a LUN, iGroup and LUN mapping were created  \n",
    "\n",
    "If you created the python file [san_lun.py](../san_lun.py), you can save the file using `CTRL + S` and open a terminal using ```CTRL + ` ``` and run:\n",
    "\n",
    "---\n",
    "```\n",
    "python san_lun.py -c cluster1 -vs san_svm -l /vol/san_vol/lun1 -ig igroup1 -u admin -p Netapp1!\n",
    "```\n",
    "---"
   ]
  },
  {
   "cell_type": "raw",
   "metadata": {
    "vscode": {
     "languageId": "raw"
    }
   },
   "source": [
    "python san_lun.py -c cluster1 -vs san_svm -l /vol/san_vol/lun1 -ig igroup1 -u admin -p Netapp1!"
   ]
  },
  {
   "cell_type": "markdown",
   "metadata": {},
   "source": [
    "---"
   ]
  },
  {
   "cell_type": "markdown",
   "metadata": {},
   "source": [
    "To verify that a LUN, iGroup and LUN mapping were created:\n",
    "\n",
    "Use [this](module6_verify.ipynb) Jupyter Notebook to run the code:\n",
    "\n",
    "[module6_verify.ipynb](module6_verify.ipynb)\n",
    "\n",
    "If prompted to select the kernel, select `.venv(Python3.9.6)`  \n",
    "\n",
    "---\n",
    "\n",
    " **OR**\n",
    "\n",
    "Go to the ONTAP CLI session and run the following commands:\n",
    "\n",
    "---\n",
    "```\n",
    "cluster1::> lun show\n",
    "cluster1::> lun igroup show\n",
    "cluster1::> lun mapping show\n",
    "```\n",
    "---\n",
    "\n",
    "You can open a Terminal using ```CTRL+` ```, then open an ssh session using `ssh admin@cluster1`\n"
   ]
  },
  {
   "cell_type": "raw",
   "metadata": {
    "vscode": {
     "languageId": "raw"
    }
   },
   "source": [
    "lun show\n",
    "lun igroup show\n",
    "lun mapping show"
   ]
  },
  {
   "cell_type": "markdown",
   "metadata": {},
   "source": [
    "---"
   ]
  },
  {
   "attachments": {
    "image.png": {
     "image/png": "[encoded data removed]"
    }
   },
   "cell_type": "markdown",
   "metadata": {},
   "source": [
    "On your Windows `Jumphost`, do the following:  \n",
    "  - Open `Server Manger>Tools>ISCSI Initiator`\n",
    "  - In the Targets tab, enter 192.168.0.241 (one of the iSCSI LIF IP addresses) in theTarget field.\n",
    "  - Click `Quick Connect`\n",
    "  \n",
    "    ![image.png](attachment:image.png)  \n",
    "\n",
    "  - Verify that the target is connected and then click `Done` in the `Quick Connect` window  \n",
    "\n",
    "  ---\n",
    "  \n",
    "  - Open `Server Manager>Tools>Computer Management`  \n",
    "\n",
    "  - Right Click `Disk Management` and select `Rescan Disks`\n",
    "\n",
    "  - If the LUN has been mapped correctly, it should appear in the disk list\n",
    "\n",
    "  ---\n",
    "  - Prepare the LUN for use, by bringing it `Online`\n",
    "  \n",
    "  -  Create a Simple Volume and assign it a drive letter.\n",
    "  \n",
    "  ---\n",
    "\n",
    "  - Try writing a file to the Drive. \n",
    "\n",
    "  ---"
   ]
  },
  {
   "cell_type": "markdown",
   "metadata": {},
   "source": [
    "[Go to Module 7](module7.ipynb)"
   ]
  }
 ],
 "metadata": {
  "language_info": {
   "name": "python"
  }
 },
 "nbformat": 4,
 "nbformat_minor": 2
}
