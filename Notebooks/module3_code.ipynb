{
 "cells": [
  {
   "cell_type": "markdown",
   "metadata": {},
   "source": [
    "#### The Header Comment Section\n",
    "\n",
    "This section usually includes details such as \n",
    "- the file name, \n",
    "- author, \n",
    "- date, \n",
    "- purpose of the program, and any other relevant information. \n",
    "\n",
    "It’s a good practice to include such comments for better readability and maintainability of the code "
   ]
  },
  {
   "cell_type": "code",
   "execution_count": null,
   "metadata": {},
   "outputs": [],
   "source": [
    "#! /usr/local/bin/python3\n",
    "\n",
    "\"\"\"\n",
    "Purpose: Script use the netapp_ontap library.\n",
    "         It will create a volume and CIFS Share.\n",
    "         It will also get the NetBIOS information for the cluster.\n",
    "Author: Vish Hulikal\n",
    "Usage: python3 nas_cifs.py [-h] -c CLUSTER -a AGGR_NAME -vs VSERVER_NAME, -v VOLUME_NAME -d DOMAIN\n",
    "                   -s CIFS_SEVER_IP -se CIFS_SERVER -sh CIFS_SHARE -pa PATH [-u API_USER] [-p API_PASS]\n",
    "\"\"\"\n"
   ]
  },
  {
   "cell_type": "markdown",
   "metadata": {},
   "source": [
    "#### The Input Section:\n",
    "\n",
    "Since we are using a Jupyter Notebook to run the code and not running the code from the command line, we need this section to simulate entering the arguments from the command line.\n",
    "\n",
    "When you run the notebook, for example by clicking on the `Run All` button, a dialog prompt will appear at the top of the window. You will then need to enter the command line arguments as described in the usage section above.\n",
    "\n",
    "If you do not provide the user, `admin`is used. If you do not provide the password, you will be prompted for the password.\n",
    "\n",
    "Suggested command arguments:"
   ]
  },
  {
   "cell_type": "raw",
   "metadata": {
    "vscode": {
     "languageId": "raw"
    }
   },
   "source": [
    "-c cluster1 -a aggr1_cluster1-01_data -vs nas_svm -v nas_svm_cifs_01 -sh share_01 -pa /nas_svm_cifs_01 -d demo.netapp.com -g 192.168.0.1 -s 192.168.0.253 -se nas_svm_01 -u admin -p Netapp1!"
   ]
  },
  {
   "cell_type": "code",
   "execution_count": null,
   "metadata": {},
   "outputs": [],
   "source": [
    "import sys\n",
    "\n",
    "# Prompt the user to enter command line arguments\n",
    "args = input(\"Please enter command line arguments: \")\n",
    "\n",
    "# Split the entered string into a list of arguments\n",
    "args = args.split()\n",
    "\n",
    "# Assign the list of arguments to sys.argv\n",
    "sys.argv = ['ipykernel_launcher.py'] + args"
   ]
  },
  {
   "cell_type": "markdown",
   "metadata": {},
   "source": [
    "#### Import Section\n",
    "\n",
    "Here we will import the following modules:\n",
    "  - [`argparse`](https://pypi.org/project/argparse/) : This is a popular python module. The argparse module makes it easy to write user friendly command line interfaces. \n",
    "  The program defines what arguments it requires, and argparse will figure out how to parse those out of sys.argv. The argparse module also automatically generates help and usage messages and issues errors when users give the program invalid arguments.\n",
    "  - [`getpass`](https://docs.python.org/3/library/getpass.html) : Used to Prompt the user for a password without echoing\n",
    "  - [`logging`](https://pypi.org/project/logging/) : This module is intended to provide a standard error logging mechanism in Python as per PEP 282.\n",
    "  - [`netapp_ontap.config`](https://library.netapp.com/ecmdocs/ECMLP3319064/html/config.html) : This module contains the global configuration options and related functions for the library.\n",
    "  - [`netapp_ontap.utils`](https://library.netapp.com/ecmdocs/ECMLP3319064/html/utils.html) : This module contains some of the common utility functions used in the library\n",
    "  - [`netapp_ontap.host_connection`](https://library.netapp.com/ecmdocs/ECMLP3319064/html/host_connection.html) : This module defines a host connection object which is used to communicate with the API host\n",
    "  - [`netapp_ontap.error`](https://library.netapp.com/ecmdocs/ECMLP3319064/html/error.html) : This module defines the custom exception type. All exceptions raised by the library descend from this type\n",
    "  - [`netapp_ontap.resources.svm`](https://library.netapp.com/ecmdocs/ECMLP3319064/html/resources/svm.html) : Managing SVMs\n",
    "  - [`netapp_ontap.resources.volume`](https://library.netapp.com/ecmdocs/ECMLP3319064/html/resources/volume.html) \n",
    "  - [`netapp_ontap.resources.network_route`](https://library.netapp.com/ecmdocs/ECMLP3319064/html/resources/network_route.html) \n",
    "  - [`netapp_ontap.resources.dns`](https://library.netapp.com/ecmdocs/ECMLP3319064/html/resources/dns.html) : Displays DNS information and controls the DNS subsytem. DNS domain name and DNS servers are required parameters\n",
    "  - [`netapp_ontap.resources.cifs_service`](https://library.netapp.com/ecmdocs/ECMLP3319064/html/resources/cifs_service.html) : A CIFS server is necessary to provide SMB clients with access to the Storage Virtual Machine (SVM)\n",
    "  - [`netapp_ontap.resources.cifs_share`](https://library.netapp.com/ecmdocs/ECMLP3319064/html/resources/cifs_share.html) : Before any users or applications can access data on the CIFS server over SMB, a CIFS share must be created with sufficient share permissions"
   ]
  },
  {
   "cell_type": "code",
   "execution_count": null,
   "metadata": {},
   "outputs": [],
   "source": [
    "\n",
    "import argparse\n",
    "from getpass import getpass\n",
    "import logging\n",
    "from typing import Optional\n",
    "\n",
    "from netapp_ontap import config, utils, HostConnection, NetAppRestError\n",
    "from netapp_ontap.resources import Svm, Volume, NetworkRoute, Dns, CifsService, CifsShare\n",
    "#from netapp_ontap.resources import Netbios\n"
   ]
  },
  {
   "cell_type": "markdown",
   "metadata": {},
   "source": [
    "#### Function Definitions\n",
    "\n",
    "These functions are defined:\n",
    "  - `create_volume`\n",
    "  - `create_route`\n",
    "  - `create_dns`\n",
    "  - `create_cifs_server`\n",
    "  - `create_cifs_share`"
   ]
  },
  {
   "cell_type": "code",
   "execution_count": null,
   "metadata": {},
   "outputs": [],
   "source": [
    "\n",
    "def create_volume(volume_name: str, vserver_name: str, aggr_name: str, net_path: str, volume_size: int) -> None:\n",
    "    \"\"\"Creates a new volume in a SVM\"\"\"\n",
    "\n",
    "    data = {\n",
    "        'name': volume_name,\n",
    "        'svm': {'name': vserver_name},\n",
    "        'aggregates': [{'name': aggr_name }],\n",
    "        'size': volume_size,\n",
    "        'nas': {'security_style': 'ntfs', 'path': net_path},\n",
    "        'space_guarantee': 'volume'\n",
    "    }\n",
    "\n",
    "    volume = Volume(**data)\n",
    "\n",
    "    try:\n",
    "        volume.post()\n",
    "        print(\"Volume %s created successfully\" % volume.name)\n",
    "    except NetAppRestError as err:\n",
    "        print(\"Error: Volume was not created: %s\" % err)\n",
    "    return\n"
   ]
  },
  {
   "cell_type": "code",
   "execution_count": null,
   "metadata": {},
   "outputs": [],
   "source": [
    "\n",
    "def create_route(vserver_name: str, net_gateway_ip: str) -> None:\n",
    "    \"\"\"Creates a network route\"\"\"\n",
    "    \"\"\"The default destination will be set to \"0.0.0.0/0\" for IPv4 gateway addresses\"\"\"\n",
    "\n",
    "    data = {\n",
    "        'gateway': net_gateway_ip,\n",
    "        'svm': {'name': vserver_name}\n",
    "    }\n",
    "\n",
    "    route = NetworkRoute(**data)\n",
    "\n",
    "    try:\n",
    "        route.post()\n",
    "        print(\"Route %s created successfully\" % route.gateway)\n",
    "    except NetAppRestError as err:\n",
    "        print(\"Error: Route was not created: %s\" % err)\n",
    "    return\n"
   ]
  },
  {
   "cell_type": "code",
   "execution_count": null,
   "metadata": {},
   "outputs": [],
   "source": [
    "\n",
    "def create_dns(vserver_name: str, domain: str, dns_server_ip: str) -> None:\n",
    "    \"\"\"Creates a DNS server\"\"\"\n",
    "\n",
    "    data = {\n",
    "        'domains': [domain],\n",
    "        'servers': [dns_server_ip],\n",
    "        'svm': {'name': vserver_name}\n",
    "    }\n",
    "\n",
    "    dns = Dns(**data)\n",
    "\n",
    "    try:\n",
    "        dns.post()\n",
    "        print(\"DNS %s created successfully\" % dns.domains)\n",
    "    except NetAppRestError as err:\n",
    "        print(\"Error: DNS was not created: %s\" % err)\n",
    "    return\n"
   ]
  },
  {
   "cell_type": "code",
   "execution_count": null,
   "metadata": {},
   "outputs": [],
   "source": [
    "\n",
    "def create_cifs_server(vserver_name: str, domain_name: str, cifs_server: str, server_ip: str) -> None:\n",
    "    \"\"\"Creates a CIFS server\"\"\"\n",
    "\n",
    "    SVM = Svm.find(name=vserver_name)\n",
    "\n",
    "    data = {\n",
    "        'name': cifs_server,\n",
    "        'scope': 'svm',\n",
    "        'svm': {'name': vserver_name, 'uuid': SVM.uuid},\n",
    "        'ad_domain': {'fqdn': domain_name, 'organizational_unit': 'CN=Computers', 'user': 'Administrator', 'password': 'Netapp1!'},\n",
    "        'netbios': {'wins_servers': [server_ip]},\n",
    "        'enabled': 'True'\n",
    "    }\n",
    "\n",
    "    cifs_service = CifsService(**data)\n",
    "\n",
    "    try:\n",
    "        cifs_service.post()\n",
    "        print(\"CIFS Server %s created successfully\" % cifs_service.name)\n",
    "    except NetAppRestError as err:\n",
    "        print(\"Error: CIFS Server was not created: %s\" % err)\n",
    "    return\n"
   ]
  },
  {
   "cell_type": "code",
   "execution_count": null,
   "metadata": {},
   "outputs": [],
   "source": [
    "\n",
    "def create_cifs_share(vserver_name: str, net_share: str, net_path: str) -> None:\n",
    "    \"\"\"Creates a CIFS share for a CIFS Server\"\"\"\n",
    "\n",
    "    data = {\n",
    "        'name': net_share,\n",
    "        'path': net_path,\n",
    "        'svm': {'name': vserver_name}\n",
    "    }\n",
    "\n",
    "    cifs_share = CifsShare(**data)\n",
    "\n",
    "    try:\n",
    "        cifs_share.post()\n",
    "        print(\"CIFS Share %s created successfully\" % cifs_share.name)\n",
    "    except NetAppRestError as err:\n",
    "        print(\"Error: CIFS Share was not created: %s\" % err)\n",
    "    return\n"
   ]
  },
  {
   "cell_type": "markdown",
   "metadata": {},
   "source": [
    "#### Arguments Parser\n",
    "\n",
    "We define which arguments need to be passed to the script and argparse does the rest..."
   ]
  },
  {
   "cell_type": "code",
   "execution_count": null,
   "metadata": {},
   "outputs": [],
   "source": [
    "\n",
    "def parse_args() -> argparse.Namespace:\n",
    "    \"\"\"Parse the command line arguments from the user\"\"\"\n",
    "\n",
    "    parser = argparse.ArgumentParser(\n",
    "        description=\"This script will create a new CIFS Share for a given VServer\"\n",
    "    )\n",
    "    parser.add_argument(\n",
    "        \"-c\", \"--cluster\", required=True, help=\"Cluster Name\"\n",
    "    )\n",
    "    parser.add_argument(\n",
    "        \"-a\", \"--aggr_name\", required=True, help=\"aggregate name\"\n",
    "    )\n",
    "    parser.add_argument(\n",
    "        \"-vs\", \"--vserver_name\", required=True, help=\"VServer name to create CIFS Share\"\n",
    "    )\n",
    "    parser.add_argument(\n",
    "        \"-v\", \"--volume_name\", required=True, help=\"Volume name to create CIFS Share\"\n",
    "    )\n",
    "    parser.add_argument(\n",
    "        \"-g\", \"--gateway_ip\", required=True, help=\"Default Gateway IP Address\"\n",
    "    )\n",
    "    parser.add_argument(\n",
    "        \"-s\", \"--server_ip\", required=True, help=\"CIFS Server IP Address\"\n",
    "    )\n",
    "    parser.add_argument(\n",
    "        \"-se\", \"--cifs_server\", required=True, help=\"CIFS Server\"\n",
    "    )\n",
    "    parser.add_argument(\n",
    "        \"-d\", \"--domain\", required=True, help=\"Domain\"\n",
    "    )\n",
    "    parser.add_argument(\n",
    "        \"-sh\", \"--cifs_share\", required=True, help=\"CIFS Share\"\n",
    "    )\n",
    "    parser.add_argument(\n",
    "        \"-pa\", \"--cifs_path\", required=True, help=\"CIFS Share Path\"\n",
    "    )\n",
    "\n",
    "    parser.add_argument(\"-u\", \"--api_user\", default=\"admin\", help=\"API Username\")\n",
    "    parser.add_argument(\"-p\", \"--api_pass\", help=\"API Password\")\n",
    "    parsed_args = parser.parse_args()\n",
    "\n",
    "    # collect the password without echo if not already provided\n",
    "    if not parsed_args.api_pass:\n",
    "        parsed_args.api_pass = getpass()\n",
    "\n",
    "    return parsed_args\n"
   ]
  },
  {
   "cell_type": "markdown",
   "metadata": {},
   "source": [
    "#### The Main Section"
   ]
  },
  {
   "cell_type": "code",
   "execution_count": null,
   "metadata": {},
   "outputs": [],
   "source": [
    "\n",
    "if __name__ == \"__main__\":\n",
    "    logging.basicConfig(\n",
    "        level=logging.INFO,\n",
    "        format=\"[%(asctime)s] [%(levelname)5s] [%(module)s:%(lineno)s] %(message)s\",\n",
    "    )\n",
    "\n",
    "    args = parse_args()\n",
    "    config.CONNECTION = HostConnection(\n",
    "        args.cluster, username=args.api_user, password=args.api_pass, verify=False,\n",
    "    )\n",
    "\n",
    "    create_volume(args.volume_name, args.vserver_name, args.aggr_name, args.cifs_path, 300000000)\n",
    "    create_route(args.vserver_name, args.gateway_ip)\n",
    "    create_dns(args.vserver_name, args.domain, args.server_ip)\n",
    "    create_cifs_server(args.vserver_name, args.domain, args.cifs_server, args.server_ip)\n",
    "    create_cifs_share(args.vserver_name, args.cifs_share, args.cifs_path)\n"
   ]
  },
  {
   "cell_type": "markdown",
   "metadata": {},
   "source": [
    "[Return to the Module 3 Notebook:](module3.ipynb)"
   ]
  }
 ],
 "metadata": {
  "kernelspec": {
   "display_name": ".venv",
   "language": "python",
   "name": "python3"
  },
  "language_info": {
   "codemirror_mode": {
    "name": "ipython",
    "version": 3
   },
   "file_extension": ".py",
   "mimetype": "text/x-python",
   "name": "python",
   "nbconvert_exporter": "python",
   "pygments_lexer": "ipython3",
   "version": "3.6.8"
  }
 },
 "nbformat": 4,
 "nbformat_minor": 2
}
