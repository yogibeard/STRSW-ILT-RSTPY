{
 "cells": [
  {
   "cell_type": "markdown",
   "metadata": {},
   "source": [
    "#### The Header Comment Section\n",
    "\n",
    "This section usually includes details such as \n",
    "- the file name, \n",
    "- author, \n",
    "- date, \n",
    "- purpose of the program, and any other relevant information. \n",
    "\n",
    "It’s a good practice to include such comments for better readability and maintainability of the code "
   ]
  },
  {
   "cell_type": "code",
   "execution_count": null,
   "metadata": {},
   "outputs": [],
   "source": [
    "#! /usr/local/bin/python3\n",
    "\n",
    "\"\"\"\n",
    "Purpose: Script to create using the netapp_ontap library.\n",
    "         It will create an SVM.\n",
    "         It will create an NFS server.\n",
    "Author: Vish Hulikal\n",
    "Usage: nas_nfs.py [-h] -c CLUSTER -vs VSERVER_NAME, -a AGGR_NAME,  -d DOMAIN, -s SERVER_IP,\n",
    "                    -se NFS_SERVER, [-u API_USER] [-p API_PASS]\n",
    "\"\"\"\n"
   ]
  },
  {
   "cell_type": "markdown",
   "metadata": {},
   "source": [
    "#### The Input Section:\n",
    "\n",
    "Since we are using a Jupyter Notebook to run the code and not running the code from the command line, we need this section to simulate entering the arguments from the command line.\n",
    "\n",
    "When you run the notebook, for example by clicking on the `Run All` button, a dialog prompt will appear at the top of the window. You will then need to enter the command line arguments as described in the usage section above.\n",
    "\n",
    "If you do not provide the user, `admin`is used. If you do not provide the password, you will be prompted for the password.\n",
    "\n",
    "Suggested command arguments:"
   ]
  },
  {
   "cell_type": "raw",
   "metadata": {},
   "source": [
    "-c cluster1 -vs nas_svm04 -a aggr1_cluster1_01_data -d demo.netapp.com -s 192.168.0.253 -se nas_svm_04 -u admin -p Netapp1!"
   ]
  },
  {
   "cell_type": "code",
   "execution_count": null,
   "metadata": {},
   "outputs": [],
   "source": [
    "import sys\n",
    "\n",
    "# Prompt the user to enter command line arguments\n",
    "args = input(\"Please enter command line arguments: \")\n",
    "\n",
    "# Split the entered string into a list of arguments\n",
    "args = args.split()\n",
    "\n",
    "# Assign the list of arguments to sys.argv\n",
    "sys.argv = ['ipykernel_launcher.py'] + args"
   ]
  },
  {
   "cell_type": "markdown",
   "metadata": {},
   "source": [
    "#### Import Section\n",
    "\n",
    "Here we will import the following modules:\n",
    "  - [`argparse`](https://pypi.org/project/argparse/) : This is a popular python module. The argparse module makes it easy to write user friendly command line interfaces. \n",
    "  The program defines what arguments it requires, and argparse will figure out how to parse those out of sys.argv. The argparse module also automatically generates help and usage messages and issues errors when users give the program invalid arguments.\n",
    "  - [`getpass`](https://docs.python.org/3/library/getpass.html) : Used to Prompt the user for a password without echoing\n",
    "  - [`logging`](https://pypi.org/project/logging/) : This module is intended to provide a standard error logging mechanism in Python as per PEP 282.\n",
    "  - [`netapp_ontap.config`](https://library.netapp.com/ecmdocs/ECMLP3319064/html/config.html) : This module contains the global configuration options and related functions for the library.\n",
    "  - [`netapp_ontap.utils`](https://library.netapp.com/ecmdocs/ECMLP3319064/html/utils.html) : This module contains some of the common utility functions used in the library\n",
    "  - [`netapp_ontap.host_connection`](https://library.netapp.com/ecmdocs/ECMLP3319064/html/host_connection.html) : This module defines a host connection object which is used to communicate with the API host\n",
    "  - [`netapp_ontap.error`](https://library.netapp.com/ecmdocs/ECMLP3319064/html/error.html) : This module defines the custom exception type. All exceptions raised by the library descend from this type\n",
    "  - [`netapp_ontap.resources.svm`](https://library.netapp.com/ecmdocs/ECMLP3319064/html/resources/svm.html) : Managing SVMs\n",
    "  - [`netapp_ontap.resources.nfs_service`](https://library.netapp.com/ecmdocs/ECMLP3319064/html/resources/nfs_service.html) \n",
    "  "
   ]
  },
  {
   "cell_type": "code",
   "execution_count": null,
   "metadata": {},
   "outputs": [],
   "source": [
    "\n",
    "import argparse\n",
    "from getpass import getpass\n",
    "import logging\n",
    "from typing import Optional\n",
    "\n",
    "from netapp_ontap import config, utils, HostConnection, NetAppRestError\n",
    "from netapp_ontap.resources import Svm, NfsService, ExportPolicy, ExportRule\n"
   ]
  },
  {
   "cell_type": "markdown",
   "metadata": {},
   "source": [
    "#### Function Definitions\n",
    "\n",
    "These functions are defined:\n",
    "  - `create_svm`\n",
    "  - `create_nfs_server`\n"
   ]
  },
  {
   "cell_type": "code",
   "execution_count": null,
   "metadata": {},
   "outputs": [],
   "source": [
    "\n",
    "def create_svm(vserver_name: str, aggr_name: str) -> None:\n",
    "    \"\"\"Create an SVM on the specified aggregate\"\"\"\n",
    "\n",
    "    svm = Svm.from_dict({\n",
    "    'name': vserver_name,\n",
    "    'aggregates': [{'name': aggr_name}],\n",
    "    'nfsv3': {'enabled': \"true\"},\n",
    "    'nfsv4': {'enabled': \"false\"},\n",
    "    'nfsv41': {'enabled': \"false\"}\n",
    "    })\n",
    "\n",
    "    try:\n",
    "        svm.post()\n",
    "        print(\"SVM %s created successfully\" % svm.name)\n",
    "    except NetAppRestError as err:\n",
    "        print(\"Error: SVM was not created: %s\" % err)\n",
    "    return\n",
    "\n"
   ]
  },
  {
   "cell_type": "code",
   "execution_count": null,
   "metadata": {},
   "outputs": [],
   "source": [
    "def create_nfs_server(vserver_name: str, domain_name: str, nfs_server: str, server_ip: str) -> None:\n",
    "    \"\"\"Creates a NFS server\"\"\"\n",
    "\n",
    "    SVM = Svm.find(name=vserver_name)\n",
    "\n",
    "    data = {\n",
    "        'name': nfs_server,\n",
    "        'scope': 'svm',\n",
    "        'svm': {'name': vserver_name, 'uuid': SVM.uuid},\n",
    "        'protocol': {'v4_id_domain': domain_name},\n",
    "        'vstorage_enabled': 'true'\n",
    "    }\n",
    "\n",
    "    nfs_service = NfsService(**data)\n",
    "\n",
    "    try:\n",
    "        nfs_service.post()\n",
    "        print(\"NFS Server %s created successfully\" % nfs_server)\n",
    "    except NetAppRestError as err:\n",
    "        print(\"Error: NFS Server was not created: %s\" % err)\n",
    "    return\n",
    "\n"
   ]
  },
  {
   "cell_type": "markdown",
   "metadata": {},
   "source": [
    "#### Arguments Parser\n",
    "\n",
    "We define which arguments need to be passed to the script and argparse does the rest..."
   ]
  },
  {
   "cell_type": "code",
   "execution_count": null,
   "metadata": {},
   "outputs": [],
   "source": [
    "def parse_args() -> argparse.Namespace:\n",
    "    \"\"\"Parse the command line arguments from the user\"\"\"\n",
    "\n",
    "    parser = argparse.ArgumentParser(\n",
    "        description=\"This script will create a new NFS VServer\"\n",
    "    )\n",
    "    parser.add_argument(\n",
    "        \"-c\", \"--cluster\", required=True, help=\"Cluster Name\"\n",
    "    )\n",
    "    parser.add_argument(\n",
    "        \"-vs\", \"--vserver_name\", required=True, help=\"VServer name to create NFS Share\"\n",
    "    )\n",
    "    parser.add_argument(\n",
    "        \"-a\", \"--aggr_name\", required=True, help=\"Aggregate name\"\n",
    "    )\n",
    "    parser.add_argument(\n",
    "        \"-d\", \"--domain\", required=True, help=\"DNS DOmain Name\"\n",
    "    )\n",
    "    parser.add_argument(\n",
    "        \"-s\", \"--server_ip\", required=True, help=\"DNS Server IP Address\"\n",
    "    )\n",
    "    parser.add_argument(\n",
    "        \"-se\", \"--nfs_server\", required=True, help=\"NFS Server\"\n",
    "    )\n",
    "\n",
    "    parser.add_argument(\"-u\", \"--api_user\", default=\"admin\", help=\"API Username\")\n",
    "    parser.add_argument(\"-p\", \"--api_pass\", help=\"API Password\")\n",
    "    parsed_args = parser.parse_args()\n",
    "\n",
    "    # collect the password without echo if not already provided\n",
    "    if not parsed_args.api_pass:\n",
    "        parsed_args.api_pass = getpass()\n",
    "\n",
    "    return parsed_args\n",
    "\n"
   ]
  },
  {
   "cell_type": "markdown",
   "metadata": {},
   "source": [
    "#### The Main Section"
   ]
  },
  {
   "cell_type": "code",
   "execution_count": null,
   "metadata": {},
   "outputs": [],
   "source": [
    "if __name__ == \"__main__\":\n",
    "    logging.basicConfig(\n",
    "    #    level=logging.DEBUG,\n",
    "        level=logging.INFO,\n",
    "        format=\"[%(asctime)s] [%(levelname)5s] [%(module)s:%(lineno)s] %(message)s\",\n",
    "    )\n",
    "    args = parse_args()\n",
    "    config.CONNECTION = HostConnection(\n",
    "        args.cluster, username=args.api_user, password=args.api_pass, verify=False,\n",
    "    )\n",
    "\n",
    "    create_svm(args.vserver_name, args.aggr_name)\n",
    "    create_nfs_server(args.vserver_name, args.domain, args.nfs_server, args.server_ip)\n"
   ]
  },
  {
   "cell_type": "markdown",
   "metadata": {},
   "source": [
    "[Return to the Module 4 Notebook:](module4.ipynb)"
   ]
  }
 ],
 "metadata": {
  "language_info": {
   "name": "python"
  }
 },
 "nbformat": 4,
 "nbformat_minor": 2
}
