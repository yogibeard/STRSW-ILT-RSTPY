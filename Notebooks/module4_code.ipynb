{
 "cells": [
  {
   "cell_type": "code",
   "execution_count": null,
   "metadata": {},
   "outputs": [],
   "source": [
    "#! /usr/local/bin/python3.11\n",
    "\n",
    "\"\"\"\n",
    "Purpose: Script to create using the netapp_ontap library.\n",
    "         It will create an SVM.\n",
    "         It will create an NFS server.\n",
    "Author: Vish Hulikal\n",
    "Usage: naku.py [-h] -c CLUSTER -vs VSERVER_NAME, -a AGGR_NAME,  -d DOMAIN, -s SERVER_IP,\n",
    "                    -se NFS_SERVER, [-u API_USER] [-p API_PASS]\n",
    "\"\"\"\n"
   ]
  },
  {
   "cell_type": "code",
   "execution_count": null,
   "metadata": {},
   "outputs": [],
   "source": [
    "import sys\n",
    "\n",
    "# Prompt the user to enter command line arguments\n",
    "args = input(\"Please enter command line arguments: \")\n",
    "\n",
    "# Split the entered string into a list of arguments\n",
    "args = args.split()\n",
    "\n",
    "# Assign the list of arguments to sys.argv\n",
    "sys.argv = ['ipykernel_launcher.py'] + args"
   ]
  },
  {
   "cell_type": "code",
   "execution_count": null,
   "metadata": {},
   "outputs": [],
   "source": [
    "\n",
    "import argparse\n",
    "from getpass import getpass\n",
    "import logging\n",
    "from typing import Optional\n",
    "\n",
    "from netapp_ontap import config, utils, HostConnection, NetAppRestError\n",
    "from netapp_ontap.resources import Svm, NfsService, ExportPolicy, ExportRule\n"
   ]
  },
  {
   "cell_type": "code",
   "execution_count": null,
   "metadata": {},
   "outputs": [],
   "source": [
    "\n",
    "def create_svm(vserver_name: str, aggr_name: str) -> None:\n",
    "    \"\"\"Create an SVM on the specified aggregate\"\"\"\n",
    "\n",
    "    svm = Svm.from_dict({\n",
    "    'name': vserver_name,\n",
    "    'aggregates': [{'name': aggr_name}],\n",
    "    'nfsv3': {'enabled': \"true\"},\n",
    "    'nfsv4': {'enabled': \"false\"},\n",
    "    'nfsv41': {'enabled': \"false\"}\n",
    "    })\n",
    "\n",
    "    try:\n",
    "        svm.post()\n",
    "        print(\"SVM %s created successfully\" % svm.name)\n",
    "    except NetAppRestError as err:\n",
    "        print(\"Error: SVM was not created: %s\" % err)\n",
    "    return\n",
    "\n"
   ]
  },
  {
   "cell_type": "code",
   "execution_count": null,
   "metadata": {},
   "outputs": [],
   "source": [
    "def create_nfs_server(vserver_name: str, domain_name: str, nfs_server: str, server_ip: str) -> None:\n",
    "    \"\"\"Creates a NFS server\"\"\"\n",
    "\n",
    "    SVM = Svm.find(name=vserver_name)\n",
    "\n",
    "    data = {\n",
    "        'name': nfs_server,\n",
    "        'scope': 'svm',\n",
    "        'svm': {'name': vserver_name, 'uuid': SVM.uuid},\n",
    "        'protocol': {'v4_id_domain': domain_name},\n",
    "        'vstorage_enabled': 'true'\n",
    "    }\n",
    "\n",
    "    nfs_service = NfsService(**data)\n",
    "\n",
    "    try:\n",
    "        nfs_service.post()\n",
    "        print(\"NFS Server %s created successfully\" % nfs_server)\n",
    "    except NetAppRestError as err:\n",
    "        print(\"Error: NFS Server was not created: %s\" % err)\n",
    "    return\n",
    "\n"
   ]
  },
  {
   "cell_type": "code",
   "execution_count": null,
   "metadata": {},
   "outputs": [],
   "source": [
    "def parse_args() -> argparse.Namespace:\n",
    "    \"\"\"Parse the command line arguments from the user\"\"\"\n",
    "\n",
    "    parser = argparse.ArgumentParser(\n",
    "        description=\"This script will create a new NFS Share for a given VServer\"\n",
    "    )\n",
    "    parser.add_argument(\n",
    "        \"-c\", \"--cluster\", required=True, help=\"Cluster Name\"\n",
    "    )\n",
    "    parser.add_argument(\n",
    "        \"-vs\", \"--vserver_name\", required=True, help=\"VServer name to create NFS Share\"\n",
    "    )\n",
    "    parser.add_argument(\n",
    "        \"-a\", \"--aggr_name\", required=True, help=\"Aggregate name\"\n",
    "    )\n",
    "    parser.add_argument(\n",
    "        \"-d\", \"--domain\", required=True, help=\"DNS DOmain Name\"\n",
    "    )\n",
    "    parser.add_argument(\n",
    "        \"-s\", \"--server_ip\", required=True, help=\"DNS Server IP Address\"\n",
    "    )\n",
    "    parser.add_argument(\n",
    "        \"-se\", \"--nfs_server\", required=True, help=\"NFS Server\"\n",
    "    )\n",
    "\n",
    "    parser.add_argument(\"-u\", \"--api_user\", default=\"admin\", help=\"API Username\")\n",
    "    parser.add_argument(\"-p\", \"--api_pass\", help=\"API Password\")\n",
    "    parsed_args = parser.parse_args()\n",
    "\n",
    "    # collect the password without echo if not already provided\n",
    "    if not parsed_args.api_pass:\n",
    "        parsed_args.api_pass = getpass()\n",
    "\n",
    "    return parsed_args\n",
    "\n"
   ]
  },
  {
   "cell_type": "code",
   "execution_count": null,
   "metadata": {},
   "outputs": [],
   "source": [
    "if __name__ == \"__main__\":\n",
    "    logging.basicConfig(\n",
    "    #    level=logging.DEBUG,\n",
    "        level=logging.INFO,\n",
    "        format=\"[%(asctime)s] [%(levelname)5s] [%(module)s:%(lineno)s] %(message)s\",\n",
    "    )\n",
    "    args = parse_args()\n",
    "    config.CONNECTION = HostConnection(\n",
    "        args.cluster, username=args.api_user, password=args.api_pass, verify=False,\n",
    "    )\n",
    "\n",
    "    create_svm(args.vserver_name, args.aggr_name)\n",
    "    create_nfs_server(args.vserver_name, args.domain, args.nfs_server, args.server_ip)\n"
   ]
  },
  {
   "cell_type": "code",
   "execution_count": null,
   "metadata": {},
   "outputs": [],
   "source": [
    "import sys\n",
    "\n",
    "sys.argv = 'ipykernel_launcher.py -c cluster1 -p Netapp1! -a aggrl_clusterl_01_data -vs  '.split()"
   ]
  }
 ],
 "metadata": {
  "language_info": {
   "name": "python"
  }
 },
 "nbformat": 4,
 "nbformat_minor": 2
}
