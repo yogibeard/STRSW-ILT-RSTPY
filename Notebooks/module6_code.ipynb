{
 "cells": [
  {
   "cell_type": "code",
   "execution_count": null,
   "metadata": {},
   "outputs": [],
   "source": [
    "#! /usr/bin/env python3\n",
    "\n",
    "\"\"\"\n",
    "Purpose: Script to create sn SVM by using the netapp_ontap library.\n",
    "         It will create a Group, a lun and map the igroup to the lun.\n",
    "Author: Vish Hulikal\n",
    "Usage: python3.11 aru.py [-h] -c CLUSTER -vs VSERVER_NAME, -l LUN_NAME -ig IGROUP_NAME\n",
    "       [-u API_USER] [-p API_PASS]\n",
    "\"\"\"\n",
    "\n"
   ]
  },
  {
   "cell_type": "code",
   "execution_count": null,
   "metadata": {},
   "outputs": [],
   "source": [
    "import sys\n",
    "\n",
    "# Prompt the user to enter command line arguments\n",
    "args = input(\"Please enter command line arguments: \")\n",
    "\n",
    "# Split the entered string into a list of arguments\n",
    "args = args.split()\n",
    "\n",
    "# Assign the list of arguments to sys.argv\n",
    "sys.argv = ['ipykernel_launcher.py'] + args"
   ]
  },
  {
   "cell_type": "code",
   "execution_count": null,
   "metadata": {},
   "outputs": [],
   "source": [
    "import argparse\n",
    "from getpass import getpass\n",
    "import logging\n",
    "from typing import Optional\n",
    "\n",
    "from netapp_ontap import config, utils, HostConnection, NetAppRestError\n",
    "from netapp_ontap.resources import Volume, Lun, Igroup, LunMap\n",
    "\n"
   ]
  },
  {
   "cell_type": "code",
   "execution_count": null,
   "metadata": {},
   "outputs": [],
   "source": [
    "def create_igroup(igroup_name: str, vserver_name: str) -> None:\n",
    "    \"\"\"Create an Igroup on the SVM\"\"\"\n",
    "\n",
    "    data = {\n",
    "        'name': igroup_name,\n",
    "        'svm': {'name': vserver_name},\n",
    "        'protocol': 'iscsi',\n",
    "        'os_type': 'windows'\n",
    "    }\n",
    "\n",
    "    igroup = Igroup(**data)\n",
    "\n",
    "    try:\n",
    "        igroup.post()\n",
    "        print(\"Igroup %s created successfully\" % igroup.name)\n",
    "    except NetAppRestError as err:\n",
    "        print(\"Error: Igroup was not created: %s\" % err)\n",
    "    return\n",
    "\n"
   ]
  },
  {
   "cell_type": "code",
   "execution_count": null,
   "metadata": {},
   "outputs": [],
   "source": [
    "def create_lun(lun_name: str, vserver_name: str, lun_size: int) -> None:\n",
    "    \"\"\"Creates a new lun in a volume\"\"\"\n",
    "\n",
    "    data = {\n",
    "        'name': lun_name,\n",
    "        'svm': {'name': vserver_name},\n",
    "        'space': {'size': lun_size},\n",
    "        'os_type': 'windows'\n",
    "    }\n",
    "\n",
    "    lun = Lun(**data)\n",
    "\n",
    "    try:\n",
    "        lun.post()\n",
    "        print(\"Lun %s created successfully\" % lun.name)\n",
    "    except NetAppRestError as err:\n",
    "        print(\"Error: Lun was not created: %s\" % err)\n",
    "    return\n",
    "\n"
   ]
  },
  {
   "cell_type": "code",
   "execution_count": null,
   "metadata": {},
   "outputs": [],
   "source": [
    "def create_lun_map(vserver_name: str, igroup_name: str, lun_name: str) -> None:\n",
    "    \"\"\"Create a map between Lun and the igroup\"\"\"\n",
    "\n",
    "    data = {\n",
    "        'svm': {'name': vserver_name},\n",
    "        'igroup': {'name': igroup_name},\n",
    "        'lun': {'name': lun_name}\n",
    "    }\n",
    "\n",
    "    lun_map = LunMap(**data)\n",
    "\n",
    "    try:\n",
    "        lun_map.post()\n",
    "        print(\"Lun Map %s created successfully\" % lun_map.igroup.name)\n",
    "    except NetAppRestError as err:\n",
    "        print(\"Error: Lun Map was not created: %s\" % err)\n",
    "    return\n",
    "\n"
   ]
  },
  {
   "cell_type": "code",
   "execution_count": null,
   "metadata": {},
   "outputs": [],
   "source": [
    "def parse_args() -> argparse.Namespace:\n",
    "    \"\"\"Parse the command line arguments from the user\"\"\"\n",
    "\n",
    "    parser = argparse.ArgumentParser(\n",
    "        description=\"This script will create a SAN configuration\"\n",
    "    )\n",
    "    parser.add_argument(\n",
    "        \"-c\", \"--cluster\", required=True, help=\"Cluster Name\"\n",
    "   )\n",
    "    parser.add_argument(\n",
    "        \"-vs\", \"--vserver_name\", required=True, help=\"VServer name\"\n",
    "    )\n",
    "    parser.add_argument(\n",
    "        \"-l\", \"--lun_name\", required=True, help=\"LUN path-name\"\n",
    "    )\n",
    "    parser.add_argument(\n",
    "        \"-ig\", \"--igroup_name\", required=True, help=\"Igroup name\"\n",
    "    )\n",
    "\n",
    "    parser.add_argument(\"-u\", \"--api_user\", default=\"admin\", help=\"API Username\")\n",
    "    parser.add_argument(\"-p\", \"--api_pass\", help=\"API Password\")\n",
    "    parsed_args = parser.parse_args()\n",
    "\n",
    "    # collect the password without echo if not already provided\n",
    "    if not parsed_args.api_pass:\n",
    "        parsed_args.api_pass = getpass()\n",
    "\n",
    "    return parsed_args\n",
    "\n"
   ]
  },
  {
   "cell_type": "code",
   "execution_count": null,
   "metadata": {},
   "outputs": [],
   "source": [
    "if __name__ == \"__main__\":\n",
    "    logging.basicConfig(\n",
    "        level=logging.INFO,\n",
    "       format=\"[%(asctime)s] [%(levelname)5s] [%(module)s:%(lineno)s] %(message)s\",\n",
    "    )\n",
    "\n",
    "    args = parse_args()\n",
    "    config.CONNECTION = HostConnection(\n",
    "        args.cluster, username=args.api_user, password=args.api_pass, verify=False,\n",
    "    )\n",
    "\n",
    "    create_igroup(args.igroup_name, args.vserver_name)\n",
    "    create_lun(args.lun_name, args.vserver_name, 30000000)\n",
    "    create_lun_map(args.vserver_name, args.igroup_name, args.lun_name)\n"
   ]
  }
 ],
 "metadata": {
  "language_info": {
   "name": "python"
  }
 },
 "nbformat": 4,
 "nbformat_minor": 2
}
