{
 "cells": [
  {
   "cell_type": "markdown",
   "metadata": {},
   "source": [
    "# Initial Setup for RSTPY Lab"
   ]
  },
  {
   "cell_type": "markdown",
   "metadata": {},
   "source": [
    "### Objective:\n",
    "\n",
    "Setup the initial Lab environmnet.\n",
    "\n",
    "- Install Visual Studio Code on the Windows Jumphost\n",
    "    - Download Visual Studio Code:\n",
    "       \n",
    "       Open Chrome browser and in the search bar, type `vscode download`\n",
    "       \n",
    "       The first search link should take you to the following site:\n",
    "       \n",
    "       [VSCode Download Page  `https://code.visualstudio.com/download` ](https://code.visualstudio.com/download) \n",
    "       \n",
    "       https://github.com/yogibeard/STRSW-ILT-RSTPY.git\n"
   ]
  },
  {
   "cell_type": "code",
   "execution_count": null,
   "metadata": {},
   "outputs": [],
   "source": []
  }
 ],
 "metadata": {
  "language_info": {
   "name": "python"
  }
 },
 "nbformat": 4,
 "nbformat_minor": 2
}
