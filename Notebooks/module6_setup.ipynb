{
 "cells": [
  {
   "cell_type": "code",
   "execution_count": null,
   "metadata": {},
   "outputs": [],
   "source": [
    "!ssh admin@cluster1 'vserver create -vserver san_svm -aggregate aggr1_cluster1_01_data -data-services data-iscsi  '\n",
    "!ssh admin@cluster1 'volume create -vserver san_svm -volume san_vol -aggregate aggr1_cluster1_01_data -size 1GB '\n",
    "!ssh admin@cluster1 'network interface create -vserver san_svm -lif lif_san1 -service-policy default-data-iscsi -address 192.168.0.241 -netmask 255.255.255.0 -home-node cluster1-01 -home-port e0d -status-admin up'\n",
    "!ssh admin@cluster1 'network interface create -vserver san_svm -lif lif_san2 -service-policy default-data-iscsi -address 192.168.0.242 -netmask 255.255.255.0 -home-node cluster1-02 -home-port e0d -status-admin up'\n",
    "!ssh admin@cluster1 'vserver iscsi create -vserver san_svm'"
   ]
  },
  {
   "cell_type": "markdown",
   "metadata": {},
   "source": [
    "[Return to the Module 6 Notebook:](module6.ipynb)\n"
   ]
  }
 ],
 "metadata": {
  "language_info": {
   "name": "python"
  }
 },
 "nbformat": 4,
 "nbformat_minor": 2
}
