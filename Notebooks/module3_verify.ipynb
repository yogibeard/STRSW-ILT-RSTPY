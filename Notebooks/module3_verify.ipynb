{
 "cells": [
  {
   "cell_type": "code",
   "execution_count": null,
   "metadata": {},
   "outputs": [],
   "source": [
    "!ssh admin@cluster1 'volume show'\n",
    "!ssh admin@cluster1 'network interface show'\n",
    "!ssh admin@cluster1 'vserver services name-service dns show'\n",
    "!ssh admin@cluster1 'vserver cifs show'\n",
    "!ssh admin@cluster1 'vserver cifs share show'"
   ]
  },
  {
   "cell_type": "markdown",
   "metadata": {},
   "source": [
    "[Return to the Module 3 Notebook:](module3.ipynb)\n"
   ]
  }
 ],
 "metadata": {
  "language_info": {
   "name": "python"
  }
 },
 "nbformat": 4,
 "nbformat_minor": 2
}
