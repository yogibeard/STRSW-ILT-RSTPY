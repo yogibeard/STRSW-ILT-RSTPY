{
 "cells": [
  {
   "cell_type": "markdown",
   "metadata": {},
   "source": [
    "# Module 4: NFS Configuration"
   ]
  },
  {
   "cell_type": "markdown",
   "metadata": {},
   "source": [
    "## Excercise 1: Writing a Python Program to configure NFS\n",
    "\n",
    "In this exercise, you write a Python program by using the Python client library (PCL) and employ\n",
    "NetApp ONTAP REST APIs to demonstrate NFS configuration."
   ]
  },
  {
   "cell_type": "markdown",
   "metadata": {},
   "source": [
    "### Objectives\n",
    "\n",
    "This exercise focuses on enabling you to do the following:\n",
    "\n",
    "- Write a Python program to create a storage VM (storage virtual machine, also known as SVM) by\n",
    "using ONTAP REST APIs\n",
    "- Setup NFS service on a SVM\n"
   ]
  },
  {
   "cell_type": "markdown",
   "metadata": {},
   "source": [
    "### Task 1 Verify the Environment in the cluster to practice writing a Python Script to setup NFS.\n",
    "\n",
    "You need to setup the cluster as a prerequisite to run the Python program. \n",
    "\n",
    "- Step 1  \n",
    "  verify that the aggregate aggr1_cluster1_01_data is available and accessible.\n",
    "  \n",
    "  The command to do this:\n",
    "\n",
    "  ```\n",
    "  storage aggregate show aggr1_cluster1_01_data\n",
    "  ```\n"
   ]
  },
  {
   "cell_type": "raw",
   "metadata": {
    "vscode": {
     "languageId": "raw"
    }
   },
   "source": [
    "storage aggregate show aggr1_cluster1_01_data"
   ]
  },
  {
   "cell_type": "markdown",
   "metadata": {},
   "source": [
    "You can run these commands by opening a terminal and running the commands using ssh. \n",
    "\n",
    "To open a terminal, use ``` CTRL+` ```. then login to the cluster by running `ssh admin@cluster1`\n",
    "\n",
    "You can also execute these commands using the Jupyter notebook code by clicking on the [link](module4_setup.ipynb) below. Once the new notebook opens, you can run the cell. Verify that the commands run successfully, then return to this notebook.\n",
    "\n",
    "[module4_setup](module4_setup.ipynb)"
   ]
  },
  {
   "cell_type": "markdown",
   "metadata": {},
   "source": [
    "### Task 2: Examine the documentation for the Python Client Library and REST API for SVM and NFS\n",
    "**Step 1:**\n",
    "  \n",
    "Review the documentation for `Python Client Library` Ontap resources:\n",
    "\n",
    "[Module **netapp_ontap.resources**](https://library.netapp.com/ecmdocs/ECMLP2885777/html/resources/index.html)\n",
    "\n",
    "and specifically:\n",
    "\n",
    "[Module **netapp_ontap.resources.svm**](https://library.netapp.com/ecmdocs/ECMLP3319064/html/resources/svm.html)  \n",
    "\n",
    "[Module **netapp_ontap.resources.nfs_service**](https://library.netapp.com/ecmdocs/ECMLP3319064/html/resources/nfs_service.html)\n",
    "\n",
    "\n",
    "The documentation provides example code on how to do various operations with NFS configuration. \n",
    "This documentation is generated based on ONTAP REST API documentation.\n",
    "\n",
    "\n",
    "**Step 2:**\n",
    "\n",
    "Review the documentation for `ONTAP REST API`\n",
    "\n",
    "We can open the `ONTAP REST API` online document by going to the following URL:\n",
    "\n",
    "[https://192.168.0.101/docs/api](https://192.168.0.101/docs/api)\n",
    "\n",
    "On the VS Code dialog box, Click `Open` to open the external website in a browser. If you get a warning about an untrusted site, Click on advanced and Proceed to the website.\n",
    "\n",
    "You will need to login to the documentation page, use `admin` with a password `Netapp1!`                  \n",
    "\n",
    "In the browser, you can search in the page (`CTRL+F`) for `volume`.  \n",
    "\n",
    "Reveiw the [**DOC** /svm/svms](https://192.168.0.101/docs/api/#/docs/svm/svm_svms) and [**POST** /svm/svms](https://192.168.0.101/docs/api/#/svm/svm_create)\n",
    "\n",
    "One of the preceding two links gives you a good example of a cURL command to create the\n",
    "volume, including details about the JSON data that you want to pass to create a volume:\n",
    "```JSON\n",
    "{\n",
    "\"name\": \"nas_svm04\",\n",
    "\"aggregates\": \"aggr1_cluster1_01_data\",\n",
    "\"nfsv3.enabled\": \"true\"\n",
    "}\n",
    "``` \n",
    "\n",
    "Write the `create_svm()` function and pass input parameters to the function, which are the\n",
    "command-line arguments that are processed by the `parse_args()` function.\n",
    "\n",
    "Build a data structure shown above within the `create_svm()` function and then issue the POST method on the data to create a SVM.\n",
    "\n",
    "Also, review the documentation for `nfs`\n",
    "\n",
    "[**DOC** /protocols/nfs/services](https://192.168.0.101/docs/api/#/docs/NAS/protocols_nfs_services) and [**POST** /protocols/nfs/services](https://192.168.0.101/docs/api/#/NAS/nfs_create)\n",
    "\n",
    "One of the preceding two links gives you a good example of a cURL command to create an NFS service, including details about the JSON data that you want to pass to create an NFS service\n",
    "\n",
    "```JSON\n",
    "{\n",
    "\"name\": “nas_svm04\",\n",
    "\"svm.name\": \"nas_svm\",\"svm.uuid\": SVM.uuid,\n",
    "\"protocol.v4_id_domain\": domain_name\n",
    "}\n",
    "```\n",
    "\n",
    "Write the `create_nfs_server()` function and pass input parameters to the function, which are the\n",
    "command-line arguments that are processed by the `parse_args()` function.\n",
    "\n",
    "Build a data structure (similar to the one shown above) within the `create_nfs_server()` function and then issue the POST method on the data to create an NFS server.\n"
   ]
  },
  {
   "cell_type": "markdown",
   "metadata": {},
   "source": [
    "### Task 3 Write Python code to Create a SVM and NFS Server Configuration\n",
    "\n",
    "Write a Python program `nas_nfs.py` that uses PCL to do the following:\n",
    "\n",
    "The main() function calls the following functions:\n",
    "  - parse_args()\n",
    "  - create_svm()\n",
    "  - create_nfs_server()\n",
    "\n",
    "The program should have the following sections:\n",
    "  - An Header Comment:\n",
    "      \n",
    "      This section usually includes details such as the file name, author, date, purpose of the program, and any other relevant information. \n",
    "      \n",
    "      It\"s a good practice to include such comments for better readability and maintainability of the code\n",
    "\n",
    "  - An Import Section:\n",
    "      This contains the list of libraries/modules that need to be called in the program\n",
    "  - The Function definitions\n",
    "  - The Command Line Arguments Parsing Section\n",
    "  - The Main Section  \n",
    "\n",
    "You can start from scratch and create a python script called [nas_nfs.py](../nas_nfs.py)  \n",
    "To get help with the structure of the script, you can review [volume.py](../volume.py)\n",
    "\n",
    "**OR**  \n",
    "\n",
    "Follow the guided Jupyter Notebook example [module4_code.ipynb](module4_code.ipynb).\n",
    "\n",
    "If prompted to select the kernel, select `.venv(Python3.6.8)`\n",
    "\n"
   ]
  },
  {
   "cell_type": "markdown",
   "metadata": {},
   "source": [
    "### Task 4: Run and Verify that a SVM, with NFS enabled was created\n",
    "\n",
    "If you created the python file [nas_nfs.py](../nas_nfs.py), you can save the file using `CTRL + S` and open a terminal using ```CTRL + ` ``` and run:\n",
    "\n",
    "```\n",
    "python nas_nfs.py -c cluster1 -vs nas_svm04 -a aggr1_cluster1_01_data -d demo.netapp.com -s 192.168.0.253 -se nas_svm_04 -u admin -p Netapp1!\n",
    "```"
   ]
  },
  {
   "cell_type": "raw",
   "metadata": {},
   "source": [
    "python nas_nfs.py -c cluster1 -vs nas_svm04 -a aggr1_cluster1_01_data -d demo.netapp.com -s 192.168.0.253 -se nas_svm_04 -u admin -p Netapp1!"
   ]
  },
  {
   "cell_type": "markdown",
   "metadata": {},
   "source": [
    "To verify that an SVM was created, go to the ONTAP CLI session and run the following commands:\n",
    "\n",
    "Use [this](module4_verify.ipynb) Jupyter Notebook to run the code:\n",
    "\n",
    "[module4_verify.ipynb](module4_verify.ipynb)\n",
    "\n",
    "If prompted to select the kernel, select `.venv(Python3.6.8)`\n",
    "\n",
    " **OR**\n",
    "\n",
    "Go to the ONTAP CLI session and run the following commands:\n",
    "\n",
    "```\n",
    "cluster1::> vserver show\n",
    "cluster1::> vserver nfs show\n",
    "```\n",
    "\n",
    "You can open a Terminal using ```CTRL+` ```, then open an ssh session using `ssh admin@cluster1`\n"
   ]
  },
  {
   "cell_type": "raw",
   "metadata": {
    "vscode": {
     "languageId": "raw"
    }
   },
   "source": [
    "cluster1::> vserver show\n",
    "cluster1::> vserver nfs show"
   ]
  },
  {
   "cell_type": "markdown",
   "metadata": {},
   "source": [
    "[Go to Module 5](module5.ipynb)"
   ]
  }
 ],
 "metadata": {
  "language_info": {
   "name": "python"
  }
 },
 "nbformat": 4,
 "nbformat_minor": 2
}
