{
 "cells": [
  {
   "cell_type": "markdown",
   "metadata": {},
   "source": [
    "# Module 2: REST API Use Cases: Python Programs"
   ]
  },
  {
   "cell_type": "markdown",
   "metadata": {},
   "source": [
    "## Excercise 1: Writing a Python Program\n",
    "\n",
    "In this exercise, you write a Python program by using the Python Client Library (PCL) and employ Netapp ONTAP REST APIs to demonstrate a popular use case scenario.\n"
   ]
  },
  {
   "cell_type": "markdown",
   "metadata": {},
   "source": [
    "### Objectives\n",
    "\n",
    "This exercise focuses on enabling you to do the following:\n",
    "\n",
    "- Write a Python program to create a quota tree (qtree) by using ONTAP REST APIs\n",
    "- Enhance the same program to create a quota policy rule for the qtree\n"
   ]
  },
  {
   "cell_type": "markdown",
   "metadata": {},
   "source": [
    "### Task 1 Setup the Environment in the cluster to practice writing a Python Script to create a qtree using ONTAP REST API.\n",
    "\n",
    "You need to setup the cluster as a prerequisite to run the Python program. You verify the results of running your Python program to see whether a qtree and a quota policy have been created.\n",
    "\n",
    "- Step 1  \n",
    "  Setup the 2 nodes of the cluster with a data aggregate each using 5 disks and then create a Storage Virtual Machine (`SVM`, also known as a `vserver`).\n",
    "\n",
    "  The commands to do this are:\n",
    "\n",
    "  Create the 2 aggregates:\n",
    "\n",
    "  ```\n",
    "  storage aggregate create -aggregate aggrl_clusterl_01_data -node cluster1-01 -diskcount 5\n",
    "\n",
    "  storage aggregate create -aggregate aggrl_clusterl_02_data -node cluster1-02 -diskcount 5\n",
    "  ```\n",
    "\n",
    "  Create a SVM:\n",
    "\n",
    "  ```\n",
    "  vserver create -vserver nas_svm -aggregate aggrl_clusterl_01_data\n",
    "  ```\n",
    "\n",
    "  Create a Volume:\n",
    "\n",
    "  ```\n",
    "  volume create -volume Vol1 -aggregate aggrl_clusterl_01_data -vserver nas_svm -size 1GB\n",
    "  ```\n",
    "  \n",
    "\n",
    "\n"
   ]
  },
  {
   "cell_type": "raw",
   "metadata": {
    "vscode": {
     "languageId": "raw"
    }
   },
   "source": [
    "storage aggregate create -aggregate aggrl_clusterl_01_data -node cluster1-01 -diskcount 5\n",
    "\n",
    "storage aggregate create -aggregate aggrl_clusterl_02_data -node cluster1-02 -diskcount 5\n",
    "\n",
    "vserver create -vserver nas_svm -aggregate aggrl_clusterl_01_data\n",
    "\n",
    "volume create -volume Vol1 -aggregate aggrl_clusterl_01_data -vserver nas_svm -size 1GB"
   ]
  },
  {
   "cell_type": "markdown",
   "metadata": {},
   "source": [
    "You can run these commands by opening a terminal and running the commands using ssh. \n",
    "\n",
    "To open a terminal, use ``` CTRL+` ```. then login to the cluster by running `ssh admin@cluster1`\n",
    "\n",
    "You can also execute these commands using the Jupyter notebook code by clicking on the [link](module2_setup.ipynb) below. Once the new notebook opens, you can run the cell. Verify that the commands run successfully, then return to this notebook.\n",
    "\n",
    "[module2_setup](module2_setup.ipynb)"
   ]
  },
  {
   "cell_type": "code",
   "execution_count": null,
   "metadata": {},
   "outputs": [],
   "source": []
  }
 ],
 "metadata": {
  "kernelspec": {
   "display_name": ".venv",
   "language": "python",
   "name": "python3"
  },
  "language_info": {
   "name": "python",
   "version": "3.11.4"
  }
 },
 "nbformat": 4,
 "nbformat_minor": 2
}
