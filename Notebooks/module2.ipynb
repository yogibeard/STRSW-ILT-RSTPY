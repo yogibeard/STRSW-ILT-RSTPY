{
 "cells": [
  {
   "cell_type": "markdown",
   "metadata": {},
   "source": [
    "# Module 2: REST API Use Cases: Python Programs"
   ]
  },
  {
   "cell_type": "markdown",
   "metadata": {},
   "source": [
    "## Excercise 1: Writing a Python Program\n",
    "\n",
    "In this exercise, you write a Python program by using the Python Client Library (PCL) and employ Netapp ONTAP REST APIs to demonstrate a popular use case scenario.\n"
   ]
  },
  {
   "cell_type": "markdown",
   "metadata": {},
   "source": [
    "### Objectives\n",
    "\n",
    "This exercise focuses on enabling you to do the following:\n",
    "\n",
    "- Write a Python program to create a quota tree (qtree) by using ONTAP REST APIs\n",
    "- Enhance the same program to create a quota policy rule for the qtree\n"
   ]
  },
  {
   "cell_type": "code",
   "execution_count": null,
   "metadata": {},
   "outputs": [],
   "source": []
  }
 ],
 "metadata": {
  "kernelspec": {
   "display_name": ".venv",
   "language": "python",
   "name": "python3"
  },
  "language_info": {
   "name": "python",
   "version": "3.11.4"
  }
 },
 "nbformat": 4,
 "nbformat_minor": 2
}
