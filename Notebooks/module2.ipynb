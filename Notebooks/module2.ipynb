{
 "cells": [
  {
   "cell_type": "markdown",
   "metadata": {},
   "source": [
    "# Module 2: REST API Use Cases: Python Programs"
   ]
  },
  {
   "cell_type": "markdown",
   "metadata": {},
   "source": [
    "## Excercise 1: Writing a Python Program\n",
    "\n",
    "In this exercise, you write a Python program by using the Python Client Library (PCL) and employ Netapp ONTAP REST APIs to demonstrate a popular use case scenario.\n"
   ]
  },
  {
   "cell_type": "markdown",
   "metadata": {},
   "source": [
    "### Objectives\n",
    "\n",
    "This exercise focuses on enabling you to do the following:\n",
    "\n",
    "- Write a Python program to create a quota tree (qtree) by using ONTAP REST APIs\n",
    "- Enhance the same program to create a quota policy rule for the qtree\n"
   ]
  },
  {
   "cell_type": "markdown",
   "metadata": {},
   "source": [
    "### Task 1 Setup the Environment in the cluster to practice writing a Python Script to create a qtree using ONTAP REST API.\n",
    "\n",
    "You need to setup the cluster as a prerequisite to run the Python program. You verify the results of running your Python program to see whether a qtree and a quota policy have been created.\n",
    "\n",
    "- Step 1  \n",
    "  Setup the 2 nodes of the cluster with a data aggregate each using 5 disks and then create a Storage Virtual Machine (`SVM`, also known as a `vserver`).\n",
    "\n",
    "  The commands to do this are:\n",
    "\n",
    "  Create the 2 aggregates:\n",
    "\n",
    "  ```\n",
    "  storage aggregate create -aggregate aggrl_clusterl_01_data -node cluster1-01 -diskcount 5\n",
    "\n",
    "  storage aggregate create -aggregate aggrl_clusterl_02_data -node cluster1-02 -diskcount 5\n",
    "  ```\n",
    "\n",
    "  Create a SVM:\n",
    "\n",
    "  ```\n",
    "  vserver create -vserver nas_svm -aggregate aggrl_clusterl_01_data\n",
    "  ```\n",
    "\n",
    "  Create a Volume:\n",
    "\n",
    "  ```\n",
    "  volume create -volume Vol1 -aggregate aggrl_clusterl_01_data -vserver nas_svm -size 1GB\n",
    "  ```\n",
    "  \n",
    "\n",
    "\n"
   ]
  },
  {
   "cell_type": "raw",
   "metadata": {
    "vscode": {
     "languageId": "raw"
    }
   },
   "source": [
    "storage aggregate create -aggregate aggrl_clusterl_01_data -node cluster1-01 -diskcount 5\n",
    "\n",
    "storage aggregate create -aggregate aggrl_clusterl_02_data -node cluster1-02 -diskcount 5\n",
    "\n",
    "vserver create -vserver nas_svm -aggregate aggrl_clusterl_01_data\n",
    "\n",
    "volume create -volume Vol1 -aggregate aggrl_clusterl_01_data -vserver nas_svm -size 1GB"
   ]
  },
  {
   "cell_type": "markdown",
   "metadata": {},
   "source": [
    "You can run these commands by opening a terminal and running the commands using ssh. \n",
    "\n",
    "To open a terminal, use ``` CTRL+` ```. then login to the cluster by running `ssh admin@cluster1`\n",
    "\n",
    "You can also execute these commands using the Jupyter notebook code by clicking on the [link](module2_setup.ipynb) below. Once the new notebook opens, you can run the cell. Verify that the commands run successfully, then return to this notebook.\n",
    "\n",
    "[module2_setup](module2_setup.ipynb)"
   ]
  },
  {
   "cell_type": "markdown",
   "metadata": {},
   "source": [
    "### Task 2: Examine the documentation for the Python Client Library and REST API for Qtrees  \n",
    "**Step 1:**\n",
    "  \n",
    "Review the documentation for Python Client Library Ontap resources:\n",
    "\n",
    "[Module **netapp_ontap.resources**](https://library.netapp.com/ecmdocs/ECMLP2885777/html/resources/index.html)\n",
    "\n",
    "and specifically the [Module **netapp_ontap.resources.qtree**](https://library.netapp.com/ecmdocs/ECMLP2885777/html/resources/qtree.html)  \n",
    "\n",
    "[Module **netapp_ontap.resources.quota_rule**](https://library.netapp.com/ecmdocs/ECMLP2885777/html/resources/quota_rule.html)\n",
    "\n",
    "The documentation provides example code on how to do various operations with qtrees. \n",
    "This documentation is generated based on ONTAP REST API documentation.\n",
    "\n",
    "\n",
    "**Step 2:**\n",
    "\n",
    "We can open the `ONTAP REST API` online document by going to the following URL:\n",
    "\n",
    "[https://192.168.0.101/docs/api](https://192.168.0.101/docs/api)\n",
    "\n",
    "On the VS Code dialog box, Click `Open` to open the external website in a browser. If you get a warning about an untrusted site, Click on advanced and Proceed to the website.\n",
    "\n",
    "You will need to login to the documentation page, use `admin` with a password `Netapp1!`                  \n",
    "\n",
    "In the browser, you can search in the page (`CTRL+F`) for `qtrees`.  \n",
    "\n",
    "Reveiw the **DOC** /storage/qtrees and **POST** /storage/qtrees\n",
    "\n",
    "One of the preceding two links gives you a good example of a cURL command to create the\n",
    "qtree, including details about the JSON data that you want to pass to create the qtree.\n",
    "```JSON\n",
    "{\n",
    "‘svm.name’: ‘nas_svm’,\n",
    "‘volume.name’: ‘Vol1’,\n",
    "‘name’: ‘QTree1’,\n",
    "‘security_style’: ‘unix’,\n",
    "‘unix_permissions’: 744,\n",
    "‘export_policy.name’: ‘default’,\n",
    "}\n",
    "``` \n",
    "\n",
    "Also, review the documentation for `quota rules`\n",
    "\n",
    "**DOC** /storage/quota/rules and **POST** /storage/quota/rules\n",
    "\n",
    "One of the preceding two links gives you a good example of a cURL command to create a quota rule, including details about the JSON data that you want to pass to create a quota rule.\n",
    "\n",
    "```JSON\n",
    "{\n",
    "‘svm.name’: ‘nas_svm’,\n",
    "‘volume.name’: ‘Vol1’,\n",
    "‘name’: ‘QTree1’,\n",
    "‘files’: {‘hard_limit’: 1000, ‘soft_limit’: 100},\n",
    "‘space’: {‘hard_limit’: 1000000, ‘soft_limit’: 100},\n",
    "‘type’: ‘tree’\n",
    "}\n",
    "```"
   ]
  },
  {
   "cell_type": "markdown",
   "metadata": {},
   "source": [
    "### Task 3 Write Python Code to create a qtree and quota rule\n",
    "\n",
    "Write a Python program qtree.py that uses PCL to do the following:\n",
    "  - Create a qtree\n",
    "  - Create a quota policy rule\n",
    "\n",
    "The script should accept the following command line arguments:\n",
    "```\n",
    "qtree.py [-h] -c cluster -v VOLUME_NAME -vs VSERVER_NAME -q QTREE_NAME -sh SPACE_HARD -fh FILE_HARD [-u API_USER] [-p API_PASS]\n",
    "\n",
    "The following arguments are required: -v/--volume_name, -vs/--vserver_name, -q/--qtree_name, -sh/--space_hard, -fh/--file_hard\n",
    "```\n",
    "\n",
    "The program should have the following sections:\n",
    "  - An Header Comment:\n",
    "      \n",
    "      This section usually includes details such as the file name, author, date, purpose of the program, and any other relevant information. \n",
    "      \n",
    "      It’s a good practice to include such comments for better readability and maintainability of the code\n",
    "\n",
    "  - An Import Section:\n",
    "      This contains the list of libraries/modules that need to be called in the program\n",
    "  - The Function definitions\n",
    "  - The Command Line Arguments Parsing Section\n",
    "  - The Main Section  \n",
    "\n",
    "You can start from scratch and create a python script called [qtree.py](../qtree.py)  \n",
    "To get help with the structure of the script, you can review [volume.py](../volume.py)\n",
    "\n",
    "**OR**  \n",
    "\n",
    "Follow the guided Jupyter Notebook example [module2_code.ipynb](module2_code.ipynb).\n",
    "\n",
    "If prompted to select the kernel, select `.venv(Python3.6.8)`\n"
   ]
  },
  {
   "cell_type": "markdown",
   "metadata": {},
   "source": [
    "### Task 4: Verify that a qtree has been created and the quota rule applied\n",
    "\n",
    "To verify that the qtree and the quota policy rule were created, go to the ONTAP CLI session\n",
    "and run the following commands:\n",
    "\n",
    "```\n",
    "cluster1> qtree show\n",
    "cluster1> quota policy rule show\n",
    "```\n",
    "You can open a Terminal using ```CTRL+` ```, then open an ssh session using `ssh admin@cluster1`\n",
    "\n",
    "**OR**\n",
    "\n",
    "Use [this](module2_verify.ipynb) Jupyter Notebook to run the code:\n",
    "\n",
    "[module2_verify.ipynb](module2_verify.ipynb)\n"
   ]
  },
  {
   "cell_type": "raw",
   "metadata": {
    "vscode": {
     "languageId": "raw"
    }
   },
   "source": [
    "qtree show\n",
    "quota policy rule show"
   ]
  }
 ],
 "metadata": {
  "kernelspec": {
   "display_name": ".venv",
   "language": "python",
   "name": "python3"
  },
  "language_info": {
   "name": "python",
   "version": "3.11.4"
  }
 },
 "nbformat": 4,
 "nbformat_minor": 2
}
