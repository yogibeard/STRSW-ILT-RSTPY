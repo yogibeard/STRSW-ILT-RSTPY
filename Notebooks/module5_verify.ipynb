{
 "cells": [
  {
   "cell_type": "code",
   "execution_count": null,
   "metadata": {},
   "outputs": [],
   "source": [
    "!ssh admin@cluster1 'object-store-server user show'\n",
    "!ssh admin@cluster1 'object-store-server bucket show'"
   ]
  },
  {
   "cell_type": "markdown",
   "metadata": {},
   "source": [
    "[Return to the Module 5 Notebook:](module5.ipynb)  \n"
   ]
  }
 ],
 "metadata": {
  "language_info": {
   "name": "python"
  }
 },
 "nbformat": 4,
 "nbformat_minor": 2
}
