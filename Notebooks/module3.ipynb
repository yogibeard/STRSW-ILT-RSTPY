{
 "cells": [
  {
   "cell_type": "markdown",
   "metadata": {},
   "source": [
    "# Module 3: SMB Configuration"
   ]
  },
  {
   "cell_type": "markdown",
   "metadata": {},
   "source": [
    "## Excercise 1: Writing a Python Program to configure SMB\n",
    "\n",
    "In this exercise, you write a Python program by using the Python client library (PCL) and employ\n",
    "NetApp ONTAP REST APIs to demonstrate SMB configuration."
   ]
  },
  {
   "cell_type": "markdown",
   "metadata": {},
   "source": [
    "### Objectives\n",
    "\n",
    "This exercise focuses on enabling you to do the following:\n",
    "\n",
    "- Write a Python program to create a volume by using ONTAP REST API\n",
    "- Setup a network route to gateway\n",
    "- Setup a DNS configuration of SVM\n",
    "- Setup CIFS service on a SVM\n",
    "- Create a CIFS share"
   ]
  },
  {
   "cell_type": "markdown",
   "metadata": {},
   "source": [
    "### Task 1 Setup the Environment in the cluster to practice writing a Python Script to setup CIFS.\n",
    "\n",
    "You need to setup the cluster as a prerequisite to run the Python program. \n",
    "\n",
    "- Step 1  \n",
    "  Modify the SVM created in Module 2 to enable access protocols: nfs, cifs, iscsi and s3.  \n",
    "  Also, configure a data lif to support nas protocols.\n",
    "\n",
    "  The commands to do this are:\n",
    "\n",
    "  Enable access protocols: nfs, cifs, iscsi and s3   \n",
    "\n",
    "  ```\n",
    "  vserver modify -vserver nas_svm -allowed-protocols nfs,cifs,iscsi,s3\n",
    "  ```\n",
    "\n",
    "  Configure a data lif to support nas protocols:\n",
    "\n",
    "  ```\n",
    "  net int create -vserver nas_svm -lif cifs-lif -service-policy default-data-files -address 192.168.0.201 -netmask 255.255.255.0 -home-node cluster1-01 -home-port e0d -status-admin up\n",
    "  ```"
   ]
  },
  {
   "cell_type": "raw",
   "metadata": {
    "vscode": {
     "languageId": "raw"
    }
   },
   "source": [
    "vserver modify -vserver nas_svm -allowed-protocols nfs,cifs,iscsi,s3\n",
    "\n",
    "net int create -vserver nas_svm -lif cifs-lif -service-policy default-data-files -address 192.168.0.201 -netmask 255.255.255.0 -home-node cluster1-01 -home-port e0d -status-admin up"
   ]
  },
  {
   "cell_type": "markdown",
   "metadata": {},
   "source": [
    "You can run these commands by opening a terminal and running the commands using ssh. \n",
    "\n",
    "To open a terminal, use ``` CTRL+` ```. then login to the cluster by running `ssh admin@cluster1`\n",
    "\n",
    "You can also execute these commands using the Jupyter notebook code by clicking on the [link](module3_setup.ipynb) below. Once the new notebook opens, you can run the cell. Verify that the commands run successfully, then return to this notebook.\n",
    "\n",
    "[module3_setup](module3_setup.ipynb)"
   ]
  },
  {
   "cell_type": "markdown",
   "metadata": {},
   "source": [
    "### Task 2: Examine the documentation for the Python Client Library and REST API for Volumes, Network Routes, DNS, CIFS/SMB configuration and Shares \n",
    "**Step 1:**\n",
    "  \n",
    "Review the documentation for `Python Client Library` Ontap resources:\n",
    "\n",
    "[Module **netapp_ontap.resources**](https://library.netapp.com/ecmdocs/ECMLP2885777/html/resources/index.html)\n",
    "\n",
    "and specifically the [Module **netapp_ontap.resources.volume**](https://library.netapp.com/ecmdocs/ECMLP2858435/html/resources/volume.html)  \n",
    "\n",
    "[Module **netapp_ontap.resources.network_route**](https://library.netapp.com/ecmdocs/ECMLP2858435/html/resources/network_route.html)\n",
    "\n",
    "[Module **netapp_ontap.resources.dns**]https://library.netapp.com/ecmdocs/ECMLP2858435/html/resources/dns.html)\n",
    "\n",
    "[Module **netapp_ontap.resources.cifs_service**](https://library.netapp.com/ecmdocs/ECMLP2858435/html/resources/cifs_service.html)\n",
    "\n",
    "[Module **netapp_ontap.resources.cifs_share**](https://library.netapp.com/ecmdocs/ECMLP2858435/html/resources/cifs_share.html)\n",
    "\n",
    "\n",
    "The documentation provides example code on how to do various operations with CIFS/SMB configuration. \n",
    "This documentation is generated based on ONTAP REST API documentation.\n",
    "\n",
    "\n",
    "**Step 2:**\n",
    "\n",
    "Review the documentation for `ONTAP REST API`\n",
    "\n",
    "We can open the `ONTAP REST API` online document by going to the following URL:\n",
    "\n",
    "[https://192.168.0.101/docs/api](https://192.168.0.101/docs/api)\n",
    "\n",
    "On the VS Code dialog box, Click `Open` to open the external website in a browser. If you get a warning about an untrusted site, Click on advanced and Proceed to the website.\n",
    "\n",
    "You will need to login to the documentation page, use `admin` with a password `Netapp1!`                  \n",
    "\n",
    "In the browser, you can search in the page (`CTRL+F`) for `volume`.  \n",
    "\n",
    "Reveiw the [**DOC** /storage/volumes](https://192.168.0.101/docs/api/#/docs/storage/storage_volumes) and [**POST** /storage/volumes](https://192.168.0.101/docs/api/#/storage/volume_create)\n",
    "\n",
    "One of the preceding two links gives you a good example of a cURL command to create the\n",
    "volume, including details about the JSON data that you want to pass to create a volume:\n",
    "```JSON\n",
    "{\n",
    "\"name\": \"nas_svm_cifs_01\",\n",
    "\"aggregates\": \"aggr1_cluster1_01_data\",\n",
    "\"size\": volume_size,\n",
    "\"svm.name\": \"nas_svm\",\n",
    "\"nas.security_style\": \"ntfs\"\n",
    "}\n",
    "``` \n",
    "\n",
    "Also, review the documentation for `quota rules`\n",
    "\n",
    "**DOC** /storage/quota/rules and **POST** /storage/quota/rules\n",
    "\n",
    "One of the preceding two links gives you a good example of a cURL command to create a quota rule, including details about the JSON data that you want to pass to create a quota rule.\n",
    "\n",
    "```JSON\n",
    "{\n",
    "\"svm.name\": \"nas_svm\",\n",
    "\"volume.name\": \"Vol1\",\n",
    "\"name\": \"QTree1\",\n",
    "\"files\": {\"hard_limit\": 1000, \"soft_limit\": 100},\n",
    "\"space\": {\"hard_limit\": 1000000, \"soft_limit\": 100},\n",
    "\"type\": \"tree\"\n",
    "}\n",
    "```"
   ]
  },
  {
   "cell_type": "markdown",
   "metadata": {},
   "source": []
  }
 ],
 "metadata": {
  "kernelspec": {
   "display_name": ".venv",
   "language": "python",
   "name": "python3"
  },
  "language_info": {
   "name": "python",
   "version": "3.6.8"
  }
 },
 "nbformat": 4,
 "nbformat_minor": 2
}
