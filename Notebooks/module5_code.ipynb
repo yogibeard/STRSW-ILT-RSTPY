{
 "cells": [
  {
   "cell_type": "markdown",
   "metadata": {},
   "source": [
    "#### The Header Comment Section\n",
    "\n",
    "This section usually includes details such as \n",
    "- the file name, \n",
    "- author, \n",
    "- date, \n",
    "- purpose of the program, and any other relevant information. \n",
    "\n",
    "It’s a good practice to include such comments for better readability and maintainability of the code "
   ]
  },
  {
   "cell_type": "code",
   "execution_count": null,
   "metadata": {},
   "outputs": [],
   "source": [
    "#! /usr/local/bin/python\n",
    "\n",
    "\"\"\"\n",
    "ONTAP 9.13.1 REST API Python Client Library Scripts\n",
    "Author: Vish Hulikal\n",
    "This script performs the following:\n",
    "        - Create an S3 user\n",
    "        - Create an S3 bucket\n",
    "Minimum size of the bucket to be created: 102005473280B\n",
    "usage: python S3_Server.py [-h] -c CLUSTER -vs VSERVER_NAME -a AGGR_NAME -s S3_NAME -b BUCKET_NAME\n",
    "               -un S3_USER_NAME -n SIZE [-u API_USER] [-p API_PASS]\n",
    "These arguments required: -c/--cluster, -vs/--vserver_name, -a/--aggr_name, -s/--s3_name, -b/--bucket_name\n",
    "               -un/--s3_user_name, -n/--size, -u/--admin, -p/--password\n",
    "\"\"\"\n"
   ]
  },
  {
   "cell_type": "markdown",
   "metadata": {},
   "source": [
    "#### The Input Section:\n",
    "\n",
    "Since we are using a Jupyter Notebook to run the code and not running the code from the command line, we need this section to simulate entering the arguments from the command line.\n",
    "\n",
    "When you run the notebook, for example by clicking on the `Run All` button, a dialog prompt will appear at the top of the window. You will then need to enter the command line arguments as described in the usage section above.\n",
    "\n",
    "If you do not provide the user, `admin`is used. If you do not provide the password, you will be prompted for the password.\n",
    "\n",
    "Suggested command arguments:"
   ]
  },
  {
   "cell_type": "raw",
   "metadata": {
    "vscode": {
     "languageId": "raw"
    }
   },
   "source": [
    "-c cluster1 -vs nas_svm -a aggr1_cluster1_02_data -s S3_Server -b s3-bucket -un s3_user -n 102005473280 -u admin -p Netapp1! "
   ]
  },
  {
   "cell_type": "code",
   "execution_count": null,
   "metadata": {},
   "outputs": [],
   "source": [
    "import sys\n",
    "\n",
    "# Prompt the user to enter command line arguments\n",
    "args = input(\"Please enter command line arguments: \")\n",
    "\n",
    "# Split the entered string into a list of arguments\n",
    "args = args.split()\n",
    "\n",
    "# Assign the list of arguments to sys.argv\n",
    "sys.argv = ['ipykernel_launcher.py'] + args"
   ]
  },
  {
   "cell_type": "markdown",
   "metadata": {},
   "source": [
    "#### Import Section\n",
    "\n",
    "Here we will import the following modules:\n",
    "  - [`argparse`](https://pypi.org/project/argparse/) : This is a popular python module. The argparse module makes it easy to write user friendly command line interfaces. \n",
    "  The program defines what arguments it requires, and argparse will figure out how to parse those out of sys.argv. The argparse module also automatically generates help and usage messages and issues errors when users give the program invalid arguments.\n",
    "  - [`getpass`](https://docs.python.org/3/library/getpass.html) : Used to Prompt the user for a password without echoing\n",
    "  - [`logging`](https://pypi.org/project/logging/) : This module is intended to provide a standard error logging mechanism in Python as per PEP 282.\n",
    "  - [`netapp_ontap.config`](https://library.netapp.com/ecmdocs/ECMLP3319064/html/config.html) : This module contains the global configuration options and related functions for the library.\n",
    "  - [`netapp_ontap.host_connection`](https://library.netapp.com/ecmdocs/ECMLP3319064/html/host_connection.html) : This module defines a host connection object which is used to communicate with the API host\n",
    "  - [`netapp_ontap.error`](https://library.netapp.com/ecmdocs/ECMLP3319064/html/error.html) : This module defines the custom exception type. All exceptions raised by the library descend from this type\n",
    "  - [`netapp_ontap.resources.aggregate`](https://library.netapp.com/ecmdocs/ECMLP3319064/html/resources/aggregate.html) : Managing Aggregates\n",
    "  - [`netapp_ontap.resources.svm`](https://library.netapp.com/ecmdocs/ECMLP3319064/html/resources/svm.html) : Managing SVMs\n",
    "  - [`netapp_ontap.resources.s3_bucket`](https://library.netapp.com/ecmdocs/ECMLP3319064/html/resources/s3_bucket.html) : Manage S3 Buckets \n",
    "  - [`netapp_ontap.resources.s3_user`](https://library.netapp.com/ecmdocs/ECMLP3319064/html/resources/s3_user.html) : Manage S3 Users\n",
    "  - [`urllib3`](https://pypi.org/project/urllib3/) : urllib3 is a powerful, user-friendly HTTP client for Python\n",
    "  "
   ]
  },
  {
   "cell_type": "code",
   "execution_count": null,
   "metadata": {},
   "outputs": [],
   "source": [
    "import argparse\n",
    "from getpass import getpass\n",
    "import logging\n",
    "\n",
    "from netapp_ontap import config, HostConnection, NetAppRestError\n",
    "from netapp_ontap.resources import Aggregate, Svm, S3BucketSvm, S3User, S3Service\n",
    "import urllib3\n",
    "\n"
   ]
  },
  {
   "cell_type": "markdown",
   "metadata": {},
   "source": [
    "#### Function Definitions\n",
    "\n",
    "These functions are defined:\n",
    "  - `make_s3_user`\n",
    "  - `make_bucket`\n"
   ]
  },
  {
   "cell_type": "code",
   "execution_count": null,
   "metadata": {},
   "outputs": [],
   "source": [
    "def make_s3_user(vserver_name: str, user_name: str) -> None:\n",
    "    \"\"\"Creates a new S3 user configuration\"\"\"\n",
    "\n",
    "    vserver = Svm.find(name=vserver_name)\n",
    "    resource = S3User(vserver.uuid)\n",
    "    resource.name = user_name\n",
    "\n",
    "    try:\n",
    "        response = resource.post()\n",
    "        data = response.http_response.json()\n",
    "        ak = data['records'][0]['access_key']\n",
    "        sk = data['records'][0]['secret_key']\n",
    "        print(f\"Response: {data}\")\n",
    "        print(f\"Access Key: {ak}\")\n",
    "        print(f\"Secret Key: {sk}\")\n",
    "\n",
    "        print(\"S3 User %s created successfully\" % resource.name)\n",
    "\n",
    "    except NetAppRestError as err:\n",
    "        print(\"Error: S3 User was not created\" % err)\n",
    "    \n",
    "\n",
    "    \n",
    "    return\n",
    "\n"
   ]
  },
  {
   "cell_type": "code",
   "execution_count": null,
   "metadata": {},
   "outputs": [],
   "source": [
    "def make_bucket(vserver_name: str, aggr_name: str, bucket_name: str, user_name: str, bucket_size: int) -> None:\n",
    "    \"\"\"Make an S3 Bucket\"\"\"\n",
    "\n",
    "    vserver = Svm.find(name=vserver_name)\n",
    "    aggregate = Aggregate.find(name=aggr_name, fields=\"uuid,name\")\n",
    "    resource = S3BucketSvm(vserver.uuid)\n",
    "    resource.name = bucket_name\n",
    "    resource.comment = \"S3 Bucket\"\n",
    "    resource.aggregates = [\n",
    "        {'name': aggr_name, 'uuid': aggregate.uuid}\n",
    "    ]\n",
    "    resource.constituents_per_aggregate = 4\n",
    "    resource.size = bucket_size\n",
    "    resource.is_http_enabled = True\n",
    "    resource.is_https_enabled = False\n",
    "    resource.policy = {\n",
    "        \"statements\": [\n",
    "            {\n",
    "                \"sid\": 1,\n",
    "                \"resources\": [bucket_name, bucket_name+\"/*\"],\n",
    "                \"actions\": [\"GetObject\", \"PutObject\", \"DeleteObject\", \"ListBucket\"],\n",
    "                \"effect\": \"allow\",\n",
    "                \"principals\": [\"sm_s3_user\", user_name]   \n",
    "            }\n",
    "        ]\n",
    "    }\n",
    "\n",
    "    try:\n",
    "        resource.post()\n",
    "        print(\"S3 Bucket %s created successfully\" % resource.name)\n",
    "    except NetAppRestError as err:\n",
    "        print(\"Error: S3 Bucket was not created: %s\" % err)\n",
    "    return\n",
    "\n"
   ]
  },
  {
   "cell_type": "markdown",
   "metadata": {},
   "source": [
    "#### Arguments Parser\n",
    "\n",
    "We define which arguments need to be passed to the script and argparse does the rest..."
   ]
  },
  {
   "cell_type": "code",
   "execution_count": null,
   "metadata": {},
   "outputs": [],
   "source": [
    "def parse_args() -> argparse.Namespace:\n",
    "    \"\"\"Parse the command line arguments from the user\"\"\"\n",
    "\n",
    "    parser = argparse.ArgumentParser(\n",
    "        description=\"This script will create an SVM, an S3 User and an S3 bucket.\"\n",
    "    )\n",
    "    parser.add_argument(\n",
    "        \"-c\", \"--cluster\", required=True, help=\"API server IP:port details\"\n",
    "    )\n",
    "    parser.add_argument(\n",
    "        \"-vs\", \"--vserver_name\", required=True, help=\"SVM name\"\n",
    "    )\n",
    "    parser.add_argument(\n",
    "        \"-a\", \"--aggr_name\", required=True, help=\"Aggregate name\"\n",
    "    )\n",
    "    parser.add_argument(\n",
    "        \"-s\", \"--s3_name\", required=True, help=\"S3 Server name\"\n",
    "    )\n",
    "    parser.add_argument(\n",
    "        \"-b\", \"--bucket_name\", required=True, help=\"Bucket name\"\n",
    "    )\n",
    "    parser.add_argument(\n",
    "        \"-un\", \"--user_name\", required=True, help=\"S3 User name\"\n",
    "    )\n",
    "    parser.add_argument(\n",
    "        \"-n\", \"--size\", required=True, help=\"Size of the bucket in bytes\"\n",
    "    )\n",
    "    parser.add_argument(\"-u\", \"--api_user\", default=\"admin\", help=\"API Username\")\n",
    "    parser.add_argument(\"-p\", \"--api_pass\", help=\"API Password\")\n",
    "    parsed_args = parser.parse_args()\n",
    "\n",
    "    # collect the password without echo if not already provided\n",
    "    if not parsed_args.api_pass:\n",
    "        parsed_args.api_pass = getpass()\n",
    "\n",
    "    return parsed_args\n",
    "\n"
   ]
  },
  {
   "cell_type": "markdown",
   "metadata": {},
   "source": [
    "#### The Main Section"
   ]
  },
  {
   "cell_type": "code",
   "execution_count": null,
   "metadata": {},
   "outputs": [],
   "source": [
    "if __name__ == \"__main__\":\n",
    "    logging.basicConfig(\n",
    "        level=logging.INFO,\n",
    "        format=\"[%(asctime)s] [%(levelname)5s] [%(module)s:%(lineno)s] %(message)s\",\n",
    "    )\n",
    "    args = parse_args()\n",
    "    urllib3.disable_warnings(urllib3.exceptions.InsecureRequestWarning)\n",
    "\n",
    "    config.CONNECTION = HostConnection(\n",
    "        args.cluster, username=args.api_user, password=args.api_pass, verify=False,\n",
    "    )\n",
    "\n",
    "#   Create an S3 user and an S3 bucket.\n",
    "    make_s3_user(args.vserver_name, args.user_name)\n",
    "    make_bucket(args.vserver_name, args.aggr_name, args.bucket_name, args.user_name, args.size)\n"
   ]
  },
  {
   "cell_type": "markdown",
   "metadata": {},
   "source": [
    "[Return to the Module 5 Notebook:](module5.ipynb)"
   ]
  }
 ],
 "metadata": {
  "kernelspec": {
   "display_name": ".venv",
   "language": "python",
   "name": "python3"
  },
  "language_info": {
   "codemirror_mode": {
    "name": "ipython",
    "version": 3
   },
   "file_extension": ".py",
   "mimetype": "text/x-python",
   "name": "python",
   "nbconvert_exporter": "python",
   "pygments_lexer": "ipython3",
   "version": "3.9.6"
  }
 },
 "nbformat": 4,
 "nbformat_minor": 2
}
